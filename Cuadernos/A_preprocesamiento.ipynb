{
 "cells": [
  {
   "cell_type": "markdown",
   "id": "870b4147",
   "metadata": {},
   "source": [
    "# <span style = 'color: red'>***A.*** **Preprocesamiento**.\n",
    "\n",
    "- **Sara Palacios Duque**\n",
    "- **Manuela Granda Muñoz**\n",
    "- **Sebastián Restrepo Betancur**\n",
    "- **Simón Cuartas Rendón**\n",
    "\n",
    "En este *notebook* se desarrolla el **preprocesamiento** de los datos, con la finalidad de obtener unos datos adecuados de cara al proceso de modelación. Así, se abordará la limpieza de datos, la transformación de los mismos, aplicación de reducción de dimensionalidad, balanceo de los datos y la construcción de conjuntos de entrenamiento y de prueba."
   ]
  },
  {
   "cell_type": "code",
   "execution_count": 1,
   "id": "4215786f",
   "metadata": {},
   "outputs": [],
   "source": [
    "#\n",
    "# Importanción de librerías de interés\n",
    "from sklearn.tree import DecisionTreeClassifier\n",
    "from lightgbm import LGBMClassifier\n",
    "from sklearn.ensemble import HistGradientBoostingClassifier\n",
    "from sklearn.svm import SVC\n",
    "import pandas as pd\n",
    "import numpy as np\n",
    "import matplotlib.pyplot as plt\n",
    "import seaborn as sns\n",
    "import missingno as msno\n",
    "from janitor import clean_names\n",
    "import datetime as dt\n",
    "from sklearn.model_selection import train_test_split\n",
    "from sklearn.preprocessing import StandardScaler\n",
    "from xgboost import XGBClassifier\n",
    "from sklearn.decomposition import PCA\n",
    "from sklearn.linear_model import LogisticRegression\n",
    "from sklearn.model_selection import RandomizedSearchCV\n",
    "from sklearn.metrics import roc_curve, roc_auc_score, confusion_matrix, f1_score, classification_report\n",
    "import seaborn as sns\n",
    "import matplotlib.pyplot as plt\n",
    "from imblearn.over_sampling import SMOTE\n",
    "from statsmodels.stats.outliers_influence import variance_inflation_factor\n",
    "import os\n",
    "from sklearn.pipeline import Pipeline\n",
    "from sklearn.feature_selection import SelectKBest, f_classif\n"
   ]
  },
  {
   "cell_type": "markdown",
   "id": "7bd3e706",
   "metadata": {},
   "source": [
    "# <span style = 'color: red'>***1.***</span> Lectura de los datos\n",
    "\n",
    "Los datos se obtiene de Kaggle y están disponibles [aquí](https://www.kaggle.com/datasets/mlg-ulb/creditcardfraud/data). Es importante anotar que los dueños de la información reportan en la documentación de la misma (visible en el enlace anterior) que las características adjuntas son todas de corte numérico y ya pasaron por un preprocesamiento previo. Además, dada la sensibilidad, los dueños de la base establecen que no pueden revelar el significado de los diferentes campos, por lo que la mayoría de los datos están *anonimizados* de la forma $V_i, i = 1, \\dots, 28$. Se tienen otras dos cantidad que no fueron transformadas: el tiempo (`time`, que representa la cantidad de segundos transcurridos entre la primera transacción del marco de datos y la del registro propiamente) y el monto de la transacción (`amount`). Sin embargo, como parte de un control de calidad, se realizará un preprocesamiento adicional.\n",
    "\n",
    "Es clave anotar que la variable objetivo de esta base es `class` y que esta:\n",
    "- es `1` cuando la transacción corresponde a un fraude.\n",
    "- es `0` cuando la transacción *no* es fraudulenta."
   ]
  },
  {
   "cell_type": "code",
   "execution_count": 2,
   "id": "dfb051dd",
   "metadata": {},
   "outputs": [
    {
     "name": "stdout",
     "output_type": "stream",
     "text": [
      "El conjunto de datos tiene 284807 filas y 31 columnas.\n"
     ]
    }
   ],
   "source": [
    "#\n",
    "# Lectura de datos\n",
    "direc = '../Datos/creditcard.csv.zip'\n",
    "datos = pd.read_csv(direc, compression='zip')\n",
    "\n",
    "# Limpieza de título\n",
    "datos = datos.clean_names()\n",
    "\n",
    "print(\n",
    "    f'El conjunto de datos tiene {datos.shape[0]} filas y {datos.shape[1]} columnas.'\n",
    ")"
   ]
  },
  {
   "cell_type": "code",
   "execution_count": 3,
   "id": "0775c55c",
   "metadata": {},
   "outputs": [
    {
     "name": "stdout",
     "output_type": "stream",
     "text": [
      "<class 'pandas.core.frame.DataFrame'>\n",
      "RangeIndex: 284807 entries, 0 to 284806\n",
      "Data columns (total 31 columns):\n",
      " #   Column  Non-Null Count   Dtype  \n",
      "---  ------  --------------   -----  \n",
      " 0   time    284807 non-null  float64\n",
      " 1   v1      284807 non-null  float64\n",
      " 2   v2      284807 non-null  float64\n",
      " 3   v3      284807 non-null  float64\n",
      " 4   v4      284807 non-null  float64\n",
      " 5   v5      284807 non-null  float64\n",
      " 6   v6      284807 non-null  float64\n",
      " 7   v7      284807 non-null  float64\n",
      " 8   v8      284807 non-null  float64\n",
      " 9   v9      284807 non-null  float64\n",
      " 10  v10     284807 non-null  float64\n",
      " 11  v11     284807 non-null  float64\n",
      " 12  v12     284807 non-null  float64\n",
      " 13  v13     284807 non-null  float64\n",
      " 14  v14     284807 non-null  float64\n",
      " 15  v15     284807 non-null  float64\n",
      " 16  v16     284807 non-null  float64\n",
      " 17  v17     284807 non-null  float64\n",
      " 18  v18     284807 non-null  float64\n",
      " 19  v19     284807 non-null  float64\n",
      " 20  v20     284807 non-null  float64\n",
      " 21  v21     284807 non-null  float64\n",
      " 22  v22     284807 non-null  float64\n",
      " 23  v23     284807 non-null  float64\n",
      " 24  v24     284807 non-null  float64\n",
      " 25  v25     284807 non-null  float64\n",
      " 26  v26     284807 non-null  float64\n",
      " 27  v27     284807 non-null  float64\n",
      " 28  v28     284807 non-null  float64\n",
      " 29  amount  284807 non-null  float64\n",
      " 30  class   284807 non-null  int64  \n",
      "dtypes: float64(30), int64(1)\n",
      "memory usage: 67.4 MB\n"
     ]
    }
   ],
   "source": [
    "#\n",
    "# Estructura de los datos\n",
    "datos.info()"
   ]
  },
  {
   "cell_type": "code",
   "execution_count": 4,
   "id": "593f7d49",
   "metadata": {},
   "outputs": [
    {
     "data": {
      "text/html": [
       "<div>\n",
       "<style scoped>\n",
       "    .dataframe tbody tr th:only-of-type {\n",
       "        vertical-align: middle;\n",
       "    }\n",
       "\n",
       "    .dataframe tbody tr th {\n",
       "        vertical-align: top;\n",
       "    }\n",
       "\n",
       "    .dataframe thead th {\n",
       "        text-align: right;\n",
       "    }\n",
       "</style>\n",
       "<table border=\"1\" class=\"dataframe\">\n",
       "  <thead>\n",
       "    <tr style=\"text-align: right;\">\n",
       "      <th></th>\n",
       "      <th>time</th>\n",
       "      <th>v1</th>\n",
       "      <th>v2</th>\n",
       "      <th>v3</th>\n",
       "      <th>v4</th>\n",
       "      <th>v5</th>\n",
       "      <th>v6</th>\n",
       "      <th>v7</th>\n",
       "      <th>v8</th>\n",
       "      <th>v9</th>\n",
       "      <th>...</th>\n",
       "      <th>v21</th>\n",
       "      <th>v22</th>\n",
       "      <th>v23</th>\n",
       "      <th>v24</th>\n",
       "      <th>v25</th>\n",
       "      <th>v26</th>\n",
       "      <th>v27</th>\n",
       "      <th>v28</th>\n",
       "      <th>amount</th>\n",
       "      <th>class</th>\n",
       "    </tr>\n",
       "  </thead>\n",
       "  <tbody>\n",
       "    <tr>\n",
       "      <th>0</th>\n",
       "      <td>0.0</td>\n",
       "      <td>-1.359807</td>\n",
       "      <td>-0.072781</td>\n",
       "      <td>2.536347</td>\n",
       "      <td>1.378155</td>\n",
       "      <td>-0.338321</td>\n",
       "      <td>0.462388</td>\n",
       "      <td>0.239599</td>\n",
       "      <td>0.098698</td>\n",
       "      <td>0.363787</td>\n",
       "      <td>...</td>\n",
       "      <td>-0.018307</td>\n",
       "      <td>0.277838</td>\n",
       "      <td>-0.110474</td>\n",
       "      <td>0.066928</td>\n",
       "      <td>0.128539</td>\n",
       "      <td>-0.189115</td>\n",
       "      <td>0.133558</td>\n",
       "      <td>-0.021053</td>\n",
       "      <td>149.62</td>\n",
       "      <td>0</td>\n",
       "    </tr>\n",
       "    <tr>\n",
       "      <th>1</th>\n",
       "      <td>0.0</td>\n",
       "      <td>1.191857</td>\n",
       "      <td>0.266151</td>\n",
       "      <td>0.166480</td>\n",
       "      <td>0.448154</td>\n",
       "      <td>0.060018</td>\n",
       "      <td>-0.082361</td>\n",
       "      <td>-0.078803</td>\n",
       "      <td>0.085102</td>\n",
       "      <td>-0.255425</td>\n",
       "      <td>...</td>\n",
       "      <td>-0.225775</td>\n",
       "      <td>-0.638672</td>\n",
       "      <td>0.101288</td>\n",
       "      <td>-0.339846</td>\n",
       "      <td>0.167170</td>\n",
       "      <td>0.125895</td>\n",
       "      <td>-0.008983</td>\n",
       "      <td>0.014724</td>\n",
       "      <td>2.69</td>\n",
       "      <td>0</td>\n",
       "    </tr>\n",
       "    <tr>\n",
       "      <th>2</th>\n",
       "      <td>1.0</td>\n",
       "      <td>-1.358354</td>\n",
       "      <td>-1.340163</td>\n",
       "      <td>1.773209</td>\n",
       "      <td>0.379780</td>\n",
       "      <td>-0.503198</td>\n",
       "      <td>1.800499</td>\n",
       "      <td>0.791461</td>\n",
       "      <td>0.247676</td>\n",
       "      <td>-1.514654</td>\n",
       "      <td>...</td>\n",
       "      <td>0.247998</td>\n",
       "      <td>0.771679</td>\n",
       "      <td>0.909412</td>\n",
       "      <td>-0.689281</td>\n",
       "      <td>-0.327642</td>\n",
       "      <td>-0.139097</td>\n",
       "      <td>-0.055353</td>\n",
       "      <td>-0.059752</td>\n",
       "      <td>378.66</td>\n",
       "      <td>0</td>\n",
       "    </tr>\n",
       "    <tr>\n",
       "      <th>3</th>\n",
       "      <td>1.0</td>\n",
       "      <td>-0.966272</td>\n",
       "      <td>-0.185226</td>\n",
       "      <td>1.792993</td>\n",
       "      <td>-0.863291</td>\n",
       "      <td>-0.010309</td>\n",
       "      <td>1.247203</td>\n",
       "      <td>0.237609</td>\n",
       "      <td>0.377436</td>\n",
       "      <td>-1.387024</td>\n",
       "      <td>...</td>\n",
       "      <td>-0.108300</td>\n",
       "      <td>0.005274</td>\n",
       "      <td>-0.190321</td>\n",
       "      <td>-1.175575</td>\n",
       "      <td>0.647376</td>\n",
       "      <td>-0.221929</td>\n",
       "      <td>0.062723</td>\n",
       "      <td>0.061458</td>\n",
       "      <td>123.50</td>\n",
       "      <td>0</td>\n",
       "    </tr>\n",
       "    <tr>\n",
       "      <th>4</th>\n",
       "      <td>2.0</td>\n",
       "      <td>-1.158233</td>\n",
       "      <td>0.877737</td>\n",
       "      <td>1.548718</td>\n",
       "      <td>0.403034</td>\n",
       "      <td>-0.407193</td>\n",
       "      <td>0.095921</td>\n",
       "      <td>0.592941</td>\n",
       "      <td>-0.270533</td>\n",
       "      <td>0.817739</td>\n",
       "      <td>...</td>\n",
       "      <td>-0.009431</td>\n",
       "      <td>0.798278</td>\n",
       "      <td>-0.137458</td>\n",
       "      <td>0.141267</td>\n",
       "      <td>-0.206010</td>\n",
       "      <td>0.502292</td>\n",
       "      <td>0.219422</td>\n",
       "      <td>0.215153</td>\n",
       "      <td>69.99</td>\n",
       "      <td>0</td>\n",
       "    </tr>\n",
       "  </tbody>\n",
       "</table>\n",
       "<p>5 rows × 31 columns</p>\n",
       "</div>"
      ],
      "text/plain": [
       "   time        v1        v2        v3        v4        v5        v6        v7  \\\n",
       "0   0.0 -1.359807 -0.072781  2.536347  1.378155 -0.338321  0.462388  0.239599   \n",
       "1   0.0  1.191857  0.266151  0.166480  0.448154  0.060018 -0.082361 -0.078803   \n",
       "2   1.0 -1.358354 -1.340163  1.773209  0.379780 -0.503198  1.800499  0.791461   \n",
       "3   1.0 -0.966272 -0.185226  1.792993 -0.863291 -0.010309  1.247203  0.237609   \n",
       "4   2.0 -1.158233  0.877737  1.548718  0.403034 -0.407193  0.095921  0.592941   \n",
       "\n",
       "         v8        v9  ...       v21       v22       v23       v24       v25  \\\n",
       "0  0.098698  0.363787  ... -0.018307  0.277838 -0.110474  0.066928  0.128539   \n",
       "1  0.085102 -0.255425  ... -0.225775 -0.638672  0.101288 -0.339846  0.167170   \n",
       "2  0.247676 -1.514654  ...  0.247998  0.771679  0.909412 -0.689281 -0.327642   \n",
       "3  0.377436 -1.387024  ... -0.108300  0.005274 -0.190321 -1.175575  0.647376   \n",
       "4 -0.270533  0.817739  ... -0.009431  0.798278 -0.137458  0.141267 -0.206010   \n",
       "\n",
       "        v26       v27       v28  amount  class  \n",
       "0 -0.189115  0.133558 -0.021053  149.62      0  \n",
       "1  0.125895 -0.008983  0.014724    2.69      0  \n",
       "2 -0.139097 -0.055353 -0.059752  378.66      0  \n",
       "3 -0.221929  0.062723  0.061458  123.50      0  \n",
       "4  0.502292  0.219422  0.215153   69.99      0  \n",
       "\n",
       "[5 rows x 31 columns]"
      ]
     },
     "execution_count": 4,
     "metadata": {},
     "output_type": "execute_result"
    }
   ],
   "source": [
    "datos.head()"
   ]
  },
  {
   "cell_type": "markdown",
   "id": "c22958b3",
   "metadata": {},
   "source": [
    "De acuerdo con esta revisión inicial, y atendiendo la documentación de la base, la lectura de los datos es correcto y todas las características tienen la tipología de datos adecuada."
   ]
  },
  {
   "cell_type": "markdown",
   "id": "d6f3cfbf",
   "metadata": {},
   "source": [
    "# <span style = 'color: red'>***2.***</span> Limpieza de los datos\n",
    "\n",
    "## <span style = 'color: green'>**2.1.**</span> Duplicados y datos faltantes\n",
    "\n",
    "Se comenzará revisando si existen filas duplicadas."
   ]
  },
  {
   "cell_type": "code",
   "execution_count": 5,
   "id": "3379dc37",
   "metadata": {},
   "outputs": [
    {
     "name": "stdout",
     "output_type": "stream",
     "text": [
      "El conjunto de datos tiene 1081 filas duplicadas.\n"
     ]
    }
   ],
   "source": [
    "#\n",
    "# Revisión de duplicados\n",
    "duplicados = datos.duplicated().sum()\n",
    "print(f'El conjunto de datos tiene {duplicados} filas duplicadas.')"
   ]
  },
  {
   "cell_type": "markdown",
   "id": "48d70ab1",
   "metadata": {},
   "source": [
    "Como se observa, para todas las características se tienen columnas de color gris continuo. Esto indica que la base carece de datos faltantes. De todos modos, se busca de manera manual si existen datos nulos, corroborando que no es el caso. Esto hace que no sea necesario imputar información y, por otra parte, el marco de datos será adecuado para cualquier tipo de modelo (entendiendo que algunos no aceptan valores faltantes)."
   ]
  },
  {
   "cell_type": "code",
   "execution_count": 6,
   "id": "4f2cbaf8",
   "metadata": {},
   "outputs": [
    {
     "name": "stdout",
     "output_type": "stream",
     "text": [
      "Se eliminaron 1081 filas duplicadas.\n",
      "El conjunto de datos ahora tiene 283726 filas y 31 columnas.\n"
     ]
    }
   ],
   "source": [
    "#\n",
    "# Eliminación de duplicados\n",
    "if duplicados > 0:\n",
    "    datos = datos.drop_duplicates()\n",
    "    print(f'Se eliminaron {duplicados} filas duplicadas.')\n",
    "    print(f'El conjunto de datos ahora tiene {datos.shape[0]} filas y {datos.shape[1]} columnas.')\n",
    "else:\n",
    "    print('No se eliminaron filas duplicadas.')"
   ]
  },
  {
   "cell_type": "markdown",
   "id": "7d5bb55a",
   "metadata": {},
   "source": [
    "Ahora, se revisará la nulidad de información en esta base de datos:"
   ]
  },
  {
   "cell_type": "code",
   "execution_count": 7,
   "id": "1501d385",
   "metadata": {},
   "outputs": [
    {
     "data": {
      "image/png": "[encoded data removed]",
      "text/plain": [
       "<Figure size 2500x1000 with 2 Axes>"
      ]
     },
     "metadata": {},
     "output_type": "display_data"
    },
    {
     "name": "stdout",
     "output_type": "stream",
     "text": [
      "El conjunto de datos tiene 0 valores nulos.\n"
     ]
    }
   ],
   "source": [
    "#\n",
    "# Nulidad de información\n",
    "msno.matrix(datos)\n",
    "plt.title('Nulidad de información')\n",
    "plt.show()\n",
    "\n",
    "print(\n",
    "    f'El conjunto de datos tiene {datos.isnull().sum().sum()} valores nulos.'\n",
    ")"
   ]
  },
  {
   "cell_type": "markdown",
   "id": "8855837b",
   "metadata": {},
   "source": [
    "## <span style = 'color: green'>**2.2.**</span> Observaciones atípicas\n",
    "\n",
    "A continuación, se identificarán las observaciones atípicas, entendiéndolas como aquellas que están 1.5 veces el rango intercuartílico por encima del tercer cuartil ($Q3$) o por debajo del primer cuartil ($Q1$). Estos son los valores que típicamente quedan representados como puntos en gráficos de cajas y bigotes. Se realizará el análisis detallando si existe un sesgo especial hacia la clase que marca el fraude, lo que indica una relevancia especial de la característica."
   ]
  },
  {
   "cell_type": "code",
   "execution_count": 8,
   "id": "9cb73d53",
   "metadata": {},
   "outputs": [],
   "source": [
    "outlier_df = pd.DataFrame(index=datos.index)\n",
    "\n",
    "for col in datos.select_dtypes(include=['number']).columns:\n",
    "    q1 = datos[col].quantile(0.25)\n",
    "    q3 = datos[col].quantile(0.75)\n",
    "    iqr = q3 - q1\n",
    "    lower = q1 - 1.5 * iqr\n",
    "    upper = q3 + 1.5 * iqr\n",
    "    outlier_df[col + '_outlier'] = ((datos[col] < lower) | (datos[col] > upper))\n"
   ]
  },
  {
   "cell_type": "code",
   "execution_count": 9,
   "id": "ca9323d7",
   "metadata": {},
   "outputs": [
    {
     "name": "stdout",
     "output_type": "stream",
     "text": [
      "\n",
      "Distribución de datos atípicos en time:\n",
      "class           0    1\n",
      "time_outlier          \n",
      "False         1.0  1.0\n",
      "\n",
      "Distribución de datos atípicos en v1:\n",
      "class              0         1\n",
      "v1_outlier                    \n",
      "False       0.976028  0.665962\n",
      "True        0.023972  0.334038\n",
      "\n",
      "Distribución de datos atípicos en v2:\n",
      "class             0         1\n",
      "v2_outlier                   \n",
      "False       0.95354  0.513742\n",
      "True        0.04646  0.486258\n",
      "\n",
      "Distribución de datos atípicos en v3:\n",
      "class              0        1\n",
      "v3_outlier                   \n",
      "False       0.989363  0.38055\n",
      "True        0.010637  0.61945\n",
      "\n",
      "Distribución de datos atípicos en v4:\n",
      "class              0         1\n",
      "v4_outlier                    \n",
      "False       0.961893  0.365751\n",
      "True        0.038107  0.634249\n",
      "\n",
      "Distribución de datos atípicos en v5:\n",
      "class              0         1\n",
      "v5_outlier                    \n",
      "False       0.957529  0.596195\n",
      "True        0.042471  0.403805\n",
      "\n",
      "Distribución de datos atípicos en v6:\n",
      "class              0         1\n",
      "v6_outlier                    \n",
      "False       0.919644  0.735729\n",
      "True        0.080356  0.264271\n",
      "\n",
      "Distribución de datos atípicos en v7:\n",
      "class              0         1\n",
      "v7_outlier                    \n",
      "False       0.969794  0.401691\n",
      "True        0.030206  0.598309\n",
      "\n",
      "Distribución de datos atípicos en v8:\n",
      "class              0         1\n",
      "v8_outlier                    \n",
      "False       0.916421  0.513742\n",
      "True        0.083579  0.486258\n",
      "\n",
      "Distribución de datos atípicos en v9:\n",
      "class              0        1\n",
      "v9_outlier                   \n",
      "False       0.971792  0.55814\n",
      "True        0.028208  0.44186\n",
      "\n",
      "Distribución de datos atípicos en v10:\n",
      "class              0         1\n",
      "v10_outlier                   \n",
      "False        0.96835  0.196617\n",
      "True         0.03165  0.803383\n",
      "\n",
      "Distribución de datos atípicos en v11:\n",
      "class              0        1\n",
      "v11_outlier                  \n",
      "False        0.99838  0.41649\n",
      "True         0.00162  0.58351\n",
      "\n",
      "Distribución de datos atípicos en v12:\n",
      "class               0         1\n",
      "v12_outlier                    \n",
      "False        0.947425  0.175476\n",
      "True         0.052575  0.824524\n",
      "\n",
      "Distribución de datos atípicos en v13:\n",
      "class               0         1\n",
      "v13_outlier                    \n",
      "False        0.988159  0.983087\n",
      "True         0.011841  0.016913\n",
      "\n",
      "Distribución de datos atípicos en v14:\n",
      "class               0         1\n",
      "v14_outlier                    \n",
      "False        0.951813  0.131078\n",
      "True         0.048187  0.868922\n",
      "\n",
      "Distribución de datos atípicos en v15:\n",
      "class               0         1\n",
      "v15_outlier                    \n",
      "False        0.989857  0.976744\n",
      "True         0.010143  0.023256\n",
      "\n",
      "Distribución de datos atípicos en v16:\n",
      "class               0         1\n",
      "v16_outlier                    \n",
      "False        0.972297  0.295983\n",
      "True         0.027703  0.704017\n",
      "\n",
      "Distribución de datos atípicos en v17:\n",
      "class               0         1\n",
      "v17_outlier                    \n",
      "False        0.975379  0.198732\n",
      "True         0.024621  0.801268\n",
      "\n",
      "Distribución de datos atípicos en v18:\n",
      "class               0         1\n",
      "v18_outlier                    \n",
      "False        0.974408  0.536998\n",
      "True         0.025592  0.463002\n",
      "\n",
      "Distribución de datos atípicos en v19:\n",
      "class               0         1\n",
      "v19_outlier                    \n",
      "False        0.964629  0.723044\n",
      "True         0.035371  0.276956\n",
      "\n",
      "Distribución de datos atípicos en v20:\n",
      "class               0        1\n",
      "v20_outlier                   \n",
      "False        0.903362  0.61945\n",
      "True         0.096638  0.38055\n",
      "\n",
      "Distribución de datos atípicos en v21:\n",
      "class               0         1\n",
      "v21_outlier                    \n",
      "False        0.949956  0.522199\n",
      "True         0.050044  0.477801\n",
      "\n",
      "Distribución de datos atípicos en v22:\n",
      "class               0         1\n",
      "v22_outlier                    \n",
      "False        0.995488  0.957717\n",
      "True         0.004512  0.042283\n",
      "\n",
      "Distribución de datos atípicos en v23:\n",
      "class               0         1\n",
      "v23_outlier                    \n",
      "False        0.935288  0.710359\n",
      "True         0.064712  0.289641\n",
      "\n",
      "Distribución de datos atípicos en v24:\n",
      "class               0         1\n",
      "v24_outlier                    \n",
      "False        0.983213  0.993658\n",
      "True         0.016787  0.006342\n",
      "\n",
      "Distribución de datos atípicos en v25:\n",
      "class               0         1\n",
      "v25_outlier                    \n",
      "False        0.981366  0.883721\n",
      "True         0.018634  0.116279\n",
      "\n",
      "Distribución de datos atípicos en v26:\n",
      "class               0         1\n",
      "v26_outlier                    \n",
      "False        0.980028  0.983087\n",
      "True         0.019972  0.016913\n",
      "\n",
      "Distribución de datos atípicos en v27:\n",
      "class               0         1\n",
      "v27_outlier                    \n",
      "False        0.864178  0.308668\n",
      "True         0.135822  0.691332\n",
      "\n",
      "Distribución de datos atípicos en v28:\n",
      "class               0         1\n",
      "v28_outlier                    \n",
      "False        0.894652  0.463002\n",
      "True         0.105348  0.536998\n",
      "\n",
      "Distribución de datos atípicos en amount:\n",
      "class                  0         1\n",
      "amount_outlier                    \n",
      "False           0.888446  0.816068\n",
      "True            0.111554  0.183932\n",
      "\n",
      "Distribución de datos atípicos en class:\n",
      "class            0    1\n",
      "class_outlier          \n",
      "False          1.0  0.0\n",
      "True           0.0  1.0\n"
     ]
    }
   ],
   "source": [
    "for col in datos.select_dtypes(include=['number']).columns:\n",
    "    etiqueta_outlier = outlier_df[col + '_outlier']\n",
    "    tabla = pd.crosstab(etiqueta_outlier, datos['class'], normalize='columns')  # proporción sobre cada clase\n",
    "    print(f\"\\nDistribución de datos atípicos en {col}:\")\n",
    "    print(tabla)\n"
   ]
  },
  {
   "cell_type": "markdown",
   "id": "00d90d8c",
   "metadata": {},
   "source": [
    "En general, los datos atípicos son importantes para poder identificar que una transacción tiene una mayor probabilidad de fraude. Esto se puede constatar con el hecho de que para las diferentes variables del modelo, los datos atípicos suelen distribuirse de manera más pareja o incluso modera a fuertemente sesgada para aquellas instancias en las que se marca un ***fraude***, caso contrario de las observaciones no fraudulentas, que suelen tener una menor asociación con los datos atípicos. \n",
    "\n",
    "Un ejemplo muy visible de esto ocurre con la característica `v14`: para esta, en las instancias fraudulentas, el 86.8 \\% de ellas toman un valor atípico para esta variable, mientras que en las no fraudulentas solo el 4.8 \\% de las observaciones serán atípicas. Es importante anotar que, si bien este comportamiento no se repite para todas las características, sí se observa algo semejante en la mayoría de ellas; en cambio, para las instancias no atípicas hay una baja tasa de datos atípicos.\n",
    "\n",
    "Este análisis permite concluir que **no es adecuado eliminar, limpias o imputar las observaciones atípicas**."
   ]
  },
  {
   "cell_type": "markdown",
   "id": "5fab1236",
   "metadata": {},
   "source": [
    "## <span style = 'color: green'>**2.3.**</span> Análisis de multicolinealidad\n",
    "\n",
    "Ahora, se revisará si existen características fuertemente asociadas entre sí mediante un análisis de multicolinealidad:"
   ]
  },
  {
   "cell_type": "code",
   "execution_count": 10,
   "id": "605a4323",
   "metadata": {},
   "outputs": [
    {
     "data": {
      "text/plain": [
       "<Figure size 1000x800 with 0 Axes>"
      ]
     },
     "metadata": {},
     "output_type": "display_data"
    },
    {
     "data": {
      "image/png": "[encoded data removed]",
      "text/plain": [
       "<Figure size 1000x800 with 2 Axes>"
      ]
     },
     "metadata": {},
     "output_type": "display_data"
    }
   ],
   "source": [
    "#\n",
    "# Matriz de correlación\n",
    "\n",
    "plt.figure(figsize=(10, 8))\n",
    "corr_matrix = datos.select_dtypes(include='number').corr()\n",
    "\n",
    "plt.figure(figsize=(10,8))\n",
    "plt.title(\"Matriz de correlación\")\n",
    "plt.imshow(corr_matrix, cmap='coolwarm', interpolation='nearest')\n",
    "plt.colorbar()\n",
    "plt.xticks(range(len(corr_matrix)), corr_matrix.columns, rotation=90)\n",
    "plt.yticks(range(len(corr_matrix)), corr_matrix.columns)\n",
    "plt.tight_layout()\n",
    "plt.show()\n"
   ]
  },
  {
   "cell_type": "markdown",
   "id": "3695a829",
   "metadata": {},
   "source": [
    "En general, las variables presentan una correlación lineal débil o moderada-débil entre sí. Solo vale la pena destacar la correlación entre `amount` y `v7`, que es de un $0.4$ aproximadamente, y la de `v2` y `amount`, que es de un $-0.6$ aproximadamente. Con esto en mente, no merece la pena eliminar ninguna variable del marco de datos entiendo como que puede quedar representada por otra muy altamente correlacionada.\n",
    "\n",
    "Frente a la correlación con la variable objetivo, todas tienen correlaciones muy cercanas a cero. Las que más destacan son `v10`, `v14` y `v17`, con correlaciones de un $-0.1$ aproximadamente.\n",
    "\n",
    "El anterior análisis se puede complementar con el $VIF$: *factor de inflación de varianza*. Valores de $VIF > 5$ pueden ser preocupantes."
   ]
  },
  {
   "cell_type": "code",
   "execution_count": 11,
   "id": "01c2ef11",
   "metadata": {},
   "outputs": [
    {
     "name": "stdout",
     "output_type": "stream",
     "text": [
      "   feature        VIF\n",
      "0     time   2.353494\n",
      "1       v1   1.641115\n",
      "2       v2   3.935012\n",
      "3       v3   1.321541\n",
      "4       v4   1.175845\n",
      "5       v5   2.768500\n",
      "6       v6   1.534962\n",
      "7       v7   2.597499\n",
      "8       v8   1.100627\n",
      "9       v9   1.038344\n",
      "10     v10   1.206976\n",
      "11     v11   1.081375\n",
      "12     v12   1.156400\n",
      "13     v13   1.003508\n",
      "14     v14   1.218507\n",
      "15     v15   1.014528\n",
      "16     v16   1.082241\n",
      "17     v17   1.227937\n",
      "18     v18   1.034703\n",
      "19     v19   1.041104\n",
      "20     v20   2.239606\n",
      "21     v21   1.102076\n",
      "22     v22   1.083716\n",
      "23     v23   1.154567\n",
      "24     v24   1.000789\n",
      "25     v25   1.013744\n",
      "26     v26   1.000561\n",
      "27     v27   1.010457\n",
      "28     v28   1.001859\n",
      "29  amount  11.659063\n",
      "30   class   2.029128\n"
     ]
    }
   ],
   "source": [
    "#\n",
    "# VIF\n",
    "X_vif = datos.select_dtypes(include='number').drop(columns=['target'], errors='ignore')  # omite target si es numérica\n",
    "\n",
    "vif_data = pd.DataFrame()\n",
    "vif_data[\"feature\"] = X_vif.columns\n",
    "vif_data[\"VIF\"] = [variance_inflation_factor(X_vif.values, i) for i in range(X_vif.shape[1])]\n",
    "\n",
    "print(vif_data)\n"
   ]
  },
  {
   "cell_type": "markdown",
   "id": "aa26dee7",
   "metadata": {},
   "source": [
    "Como se observa, todas las variables tienen un $VIF < 3$, lo que las hace adecuadas para la modelación excepto por la columna del monto de la transacción con un $VIF_{\\texttt{amount}} = 11.6$. No obstante, basados en un **criterio experto de negocio** (en riesgo de crédito), esta variable suele tener una incidencia importante en el fraude, por lo que vale la pena conservarla.  "
   ]
  },
  {
   "cell_type": "markdown",
   "id": "a9658f5a",
   "metadata": {},
   "source": [
    "En efecto, existe un gran desbalanceo en el marco de datos, con solo el $0.17 \\%$ asociados a la marca de ***fraude***."
   ]
  },
  {
   "cell_type": "markdown",
   "id": "a07e0bd9",
   "metadata": {},
   "source": [
    "## <span style = 'color: green'>**2.4.**</span> Pasos finales: separación de datos, dalanceo, estandarización y reducción de dimensionalidad\n",
    "\n",
    "Ahora se va a proceder con los pasos finales que van a permitir configurar el marco de datos que se empleará para el entrenamiento del modelo, a saber:\n",
    "\n",
    "- **Definición de conjuntos de entrenamiento y validación**\n",
    "- **Balanceo de los datos**, ya que los autores hablan de que hay un desbalanceo exacerbado de la información, como se verá más adelante.\n",
    "- **Estandarización de los datos**, que si bien en teoría ya están aplicados de antemano por parte de los dueños de los datos, se apelará de nuevo a este proceso como control de calidad. Se va a realizar un sobremuestreo usando `SMOTE`, que es una de las técnicas más populares para este tipo de actividades.\n",
    "- **Reducción de dimensionalidad**, para tratar de simplificar el volumen de los datos, abarcando por lo menos un 97.5 \\% de la varianza de los mismos.\n",
    "\n",
    "Antes de definir el *pipeline*, se va a mostrar la distribución de la variable respuesta para que sea notorio el desbalanceo."
   ]
  },
  {
   "cell_type": "markdown",
   "id": "36671560",
   "metadata": {},
   "source": [
    "Veamos cómo quedó el balanceo de la información:"
   ]
  },
  {
   "cell_type": "code",
   "execution_count": 12,
   "id": "b606b166",
   "metadata": {},
   "outputs": [
    {
     "name": "stderr",
     "output_type": "stream",
     "text": [
      "/var/folders/sk/70417qyj4msbzpr87cqckzgm0000gn/T/ipykernel_4147/3881773891.py:5: FutureWarning: \n",
      "\n",
      "Passing `palette` without assigning `hue` is deprecated and will be removed in v0.14.0. Assign the `x` variable to `hue` and set `legend=False` for the same effect.\n",
      "\n",
      "  sns.countplot(data=data, x=column, palette='viridis')\n"
     ]
    },
    {
     "data": {
      "image/png": "[encoded data removed]",
      "text/plain": [
       "<Figure size 1000x600 with 1 Axes>"
      ]
     },
     "metadata": {},
     "output_type": "display_data"
    }
   ],
   "source": [
    "#\n",
    "# Función que grafica la distribución\n",
    "def plot_distribution(data, column):\n",
    "    plt.figure(figsize=(10, 6))\n",
    "    sns.countplot(data=data, x=column, palette='viridis')\n",
    "    # Agregar proporción y cantidad absoluta encima de cada barra\n",
    "    total = len(data)\n",
    "    for p in plt.gca().patches:\n",
    "        height = p.get_height()\n",
    "        plt.text(p.get_x() + p.get_width() / 2., height, f'{height} ({height / total:.2%})',\n",
    "                 ha='center', va='bottom', fontsize=10, color='black')\n",
    "    plt.grid(axis='y', linestyle='--', alpha=0.7)\n",
    "    plt.title(f'Distribución de {column}')\n",
    "    plt.xlabel('Marca de fraude')\n",
    "    plt.ylabel('Frecuencia')\n",
    "    plt.xticks(rotation=45)\n",
    "    plt.show()\n",
    "\n",
    "plot_distribution(datos, 'class')"
   ]
  },
  {
   "cell_type": "markdown",
   "id": "fcf7bd6f",
   "metadata": {},
   "source": [
    "En efecto, existe un gran desbalanceo en el marco de datos, con solo el $0.17 \\%$ asociados a la marca de *fraude*. Ahora, se procese con la realización de los pasos descritos previamente. Nótese que el balanceo de información se aplicará solo sobre los datos del conjunto de entrenamiento."
   ]
  },
  {
   "cell_type": "code",
   "execution_count": 13,
   "id": "041ab3dd",
   "metadata": {},
   "outputs": [
    {
     "name": "stdout",
     "output_type": "stream",
     "text": [
      "Train: (453204, 17) (453204,)\n",
      "Validación: (56746, 17) (56746,)\n"
     ]
    }
   ],
   "source": [
    "#\n",
    "# Consolidación de la información\n",
    "# \n",
    "# # 1. Separa en entrenamiento y validación (stratify mantiene la proporción de clases)\n",
    "X = datos.drop('class', axis=1)\n",
    "y = datos['class']\n",
    "\n",
    "X_train, X_val, y_train, y_val = train_test_split(\n",
    "    X, y, test_size=0.2, stratify=y, random_state=202508\n",
    ")\n",
    "\n",
    "# 2. Aplica SMOTE SOLO al set de entrenamiento\n",
    "smote = SMOTE()\n",
    "X_train_res, y_train_res = smote.fit_resample(X_train, y_train)\n",
    "\n",
    "# 3. Escalado y PCA SOLO se ajustan en entrenamiento y luego se aplican en validación\n",
    "scaler = StandardScaler()\n",
    "X_train_res_scaled = scaler.fit_transform(X_train_res)\n",
    "X_val_scaled = scaler.transform(X_val)\n",
    "\n",
    "pca = PCA(n_components=0.95)\n",
    "X_train_final = pca.fit_transform(X_train_res_scaled)\n",
    "X_val_final = pca.transform(X_val_scaled)\n",
    "\n",
    "# Tus conjuntos quedan así:\n",
    "# - X_train_final, y_train_res → Para entrenamiento (balanceados, estandarizados, reducidos)\n",
    "# - X_val_final, y_val         → Para validación (no balanceado, estandarizado y reducido igual que train)\n",
    "\n",
    "print(\"Train:\", X_train_final.shape, y_train_res.shape)\n",
    "print(\"Validación:\", X_val_final.shape, y_val.shape)\n"
   ]
  },
  {
   "cell_type": "code",
   "execution_count": 14,
   "id": "be40d6ec",
   "metadata": {},
   "outputs": [
    {
     "name": "stderr",
     "output_type": "stream",
     "text": [
      "/var/folders/sk/70417qyj4msbzpr87cqckzgm0000gn/T/ipykernel_4147/3881773891.py:5: FutureWarning: \n",
      "\n",
      "Passing `palette` without assigning `hue` is deprecated and will be removed in v0.14.0. Assign the `x` variable to `hue` and set `legend=False` for the same effect.\n",
      "\n",
      "  sns.countplot(data=data, x=column, palette='viridis')\n"
     ]
    },
    {
     "data": {
      "image/png": "[encoded data removed]",
      "text/plain": [
       "<Figure size 1000x600 with 1 Axes>"
      ]
     },
     "metadata": {},
     "output_type": "display_data"
    }
   ],
   "source": [
    "#\n",
    "# Distribución de la variable objetivo a partir de y_res\n",
    "plot_distribution(pd.DataFrame({'class': y_train_res}), 'class')"
   ]
  },
  {
   "cell_type": "markdown",
   "id": "df31fa73",
   "metadata": {},
   "source": [
    "Como se puede observar, ambas instancias están perfectamente balanceadas ahora para el conjunto de entrenamiento."
   ]
  },
  {
   "cell_type": "code",
   "execution_count": 15,
   "id": "59ba1ace",
   "metadata": {},
   "outputs": [],
   "source": [
    "#\n",
    "# Unión de los datos\n",
    "\n",
    "# Junta para entrenamiento\n",
    "df_train = pd.DataFrame(X_train_final)\n",
    "df_train['class'] = y_train_res.values  # y_train_res puede ser Series o ndarray\n",
    "\n",
    "# Junta para validación\n",
    "df_val = pd.DataFrame(X_val_final)\n",
    "df_val['class'] = y_val.values\n"
   ]
  },
  {
   "cell_type": "code",
   "execution_count": 16,
   "id": "e06604aa",
   "metadata": {},
   "outputs": [
    {
     "name": "stdout",
     "output_type": "stream",
     "text": [
      "El conjunto de entrenamiento tiene 453204 filas y 17 columnas.\n",
      "\n",
      "El conjunto de validación tiene 56746 filas y 17 columnas.\n"
     ]
    }
   ],
   "source": [
    "#\n",
    "# Dimensionalidad\n",
    "\n",
    "print(\n",
    "    f'El conjunto de entrenamiento tiene {X_train_final.shape[0]} filas y {X_train_final.shape[1]} columnas.',\n",
    "    f'El conjunto de validación tiene {X_val_final.shape[0]} filas y {X_val_final.shape[1]} columnas.',\n",
    "    sep='\\n\\n'\n",
    ")"
   ]
  },
  {
   "cell_type": "markdown",
   "id": "271b3679",
   "metadata": {},
   "source": [
    "Nótese que del proceso de reducción de dimensionalidad, se conservan un total de 17 características que, en conjunto, responden por más del $97.5 \\%$ de la varianza de los datos."
   ]
  },
  {
   "cell_type": "markdown",
   "id": "f4debadf",
   "metadata": {},
   "source": [
    "## <span style = 'color: green'>**2.4.**</span> Guardado de los datos\n",
    "\n",
    "Con esto, se procederá a guardar estos datos para que puedan ser consumidos en otros *notebooks*."
   ]
  },
  {
   "cell_type": "code",
   "execution_count": null,
   "id": "6136afc2",
   "metadata": {},
   "outputs": [
    {
     "name": "stdout",
     "output_type": "stream",
     "text": [
      "Archivos guardados en: /Users/scuartasr/Documents/Maestría/aprenmaq/aprendmaq_proy_final/datos/Procesados\n"
     ]
    }
   ],
   "source": [
    "#\n",
    "# # Define la ruta relativa desde donde está tu notebook\n",
    "base_dir = os.path.dirname(os.getcwd())  # Subes un nivel desde la carpeta del notebook\n",
    "procesados_dir = os.path.join(base_dir, \"datos\", \"Preprocesados\")\n",
    "os.makedirs(procesados_dir, exist_ok=True)\n",
    "\n",
    "# Guarda los archivos como .csv.zip\n",
    "df_train.to_csv(os.path.join(procesados_dir, \"train.csv.zip\"), index=False, compression='zip')\n",
    "df_val.to_csv(os.path.join(procesados_dir, \"validation.csv.zip\"), index=False, compression='zip')\n",
    "\n",
    "print(f\"Archivos guardados en: {procesados_dir}\")\n"
   ]
  }
 ],
 "metadata": {
  "kernelspec": {
   "display_name": ".venv",
   "language": "python",
   "name": "python3"
  },
  "language_info": {
   "codemirror_mode": {
    "name": "ipython",
    "version": 3
   },
   "file_extension": ".py",
   "mimetype": "text/x-python",
   "name": "python",
   "nbconvert_exporter": "python",
   "pygments_lexer": "ipython3",
   "version": "3.10.16"
  }
 },
 "nbformat": 4,
 "nbformat_minor": 5
}
