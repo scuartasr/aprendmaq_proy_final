{
 "cells": [
  {
   "cell_type": "markdown",
   "id": "870b4147",
   "metadata": {},
   "source": [
    "# <span style = 'color: red'>***A.*** **Preprocesamiento**.\n",
    "\n",
    "En este *notebook* se desarrolla el **preprocesamiento** de los datos, con la finalidad de obtener unos datos adecuados de cara al proceso de modelación. Así, se abordará la limpieza de datos, la transformación de los mismos, aplicación de reducción de dimensionalidad, balanceo de los datos y la construcción de conjuntos de entrenamiento y de prueba."
   ]
  },
  {
   "cell_type": "code",
   "execution_count": 125,
   "id": "4215786f",
   "metadata": {},
   "outputs": [],
   "source": [
    "#\n",
    "# Importanción de librerías de interés\n",
    "from sklearn.tree import DecisionTreeClassifier\n",
    "from lightgbm import LGBMClassifier\n",
    "from sklearn.ensemble import HistGradientBoostingClassifier\n",
    "from sklearn.svm import SVC\n",
    "import pandas as pd\n",
    "import numpy as np\n",
    "import matplotlib.pyplot as plt\n",
    "import seaborn as sns\n",
    "import missingno as msno\n",
    "from janitor import clean_names\n",
    "import datetime as dt\n",
    "from sklearn.model_selection import train_test_split\n",
    "from sklearn.preprocessing import StandardScaler\n",
    "from xgboost import XGBClassifier\n",
    "from sklearn.decomposition import PCA\n",
    "from sklearn.linear_model import LogisticRegression\n",
    "from sklearn.model_selection import RandomizedSearchCV\n",
    "from sklearn.metrics import roc_curve, roc_auc_score, confusion_matrix, f1_score, classification_report\n",
    "import seaborn as sns\n",
    "import matplotlib.pyplot as plt\n",
    "from imblearn.over_sampling import SMOTE\n",
    "from statsmodels.stats.outliers_influence import variance_inflation_factor\n",
    "import os\n",
    "from sklearn.pipeline import Pipeline\n",
    "from sklearn.feature_selection import SelectKBest, f_classif\n"
   ]
  },
  {
   "cell_type": "markdown",
   "id": "7bd3e706",
   "metadata": {},
   "source": [
    "# <span style = 'color: red'>***1.***</span> Lectura de los datos\n",
    "\n",
    "Los datos se obtiene de Kaggle y están disponibles [aquí](https://www.kaggle.com/datasets/mlg-ulb/creditcardfraud/data). Es importante anotar que los dueños de la información reportan en la documentación de la misma (visible en el enlace anterior) que las características adjuntas son todas de corte numérico y ya pasaron por un preprocesamiento previo. Además, dada la sensibilidad, los dueños de la base establecen que no pueden revelar el significado de los diferentes campos, por lo que la mayoría de los datos están *anonimizados* de la forma $V_i, i = 1, \\dots, 28$. Se tienen otras dos cantidad que no fueron transformadas: el tiempo (`time`, que representa la cantidad de segundos transcurridos entre la primera transacción del marco de datos y la del registro propiamente) y el monto de la transacción (`amount`). Sin embargo, como parte de un control de calidad, se realizará un preprocesamiento adicional.\n",
    "\n",
    "Es clave anotar que la variable objetivo de esta base es `class` y que esta:\n",
    "- es `1` cuando la transacción corresponde a un fraude.\n",
    "- es `0` cuando la transacción *no* es fraudulenta."
   ]
  },
  {
   "cell_type": "code",
   "execution_count": 2,
   "id": "dfb051dd",
   "metadata": {},
   "outputs": [
    {
     "name": "stdout",
     "output_type": "stream",
     "text": [
      "El conjunto de datos tiene 284807 filas y 31 columnas.\n"
     ]
    }
   ],
   "source": [
    "#\n",
    "# Lectura de datos\n",
    "direc = '../Datos/creditcard.csv.zip'\n",
    "datos = pd.read_csv(direc, compression='zip')\n",
    "\n",
    "# Limpieza de título\n",
    "datos = datos.clean_names()\n",
    "\n",
    "print(\n",
    "    f'El conjunto de datos tiene {datos.shape[0]} filas y {datos.shape[1]} columnas.'\n",
    ")"
   ]
  },
  {
   "cell_type": "code",
   "execution_count": 3,
   "id": "0775c55c",
   "metadata": {},
   "outputs": [
    {
     "name": "stdout",
     "output_type": "stream",
     "text": [
      "<class 'pandas.core.frame.DataFrame'>\n",
      "RangeIndex: 284807 entries, 0 to 284806\n",
      "Data columns (total 31 columns):\n",
      " #   Column  Non-Null Count   Dtype  \n",
      "---  ------  --------------   -----  \n",
      " 0   time    284807 non-null  float64\n",
      " 1   v1      284807 non-null  float64\n",
      " 2   v2      284807 non-null  float64\n",
      " 3   v3      284807 non-null  float64\n",
      " 4   v4      284807 non-null  float64\n",
      " 5   v5      284807 non-null  float64\n",
      " 6   v6      284807 non-null  float64\n",
      " 7   v7      284807 non-null  float64\n",
      " 8   v8      284807 non-null  float64\n",
      " 9   v9      284807 non-null  float64\n",
      " 10  v10     284807 non-null  float64\n",
      " 11  v11     284807 non-null  float64\n",
      " 12  v12     284807 non-null  float64\n",
      " 13  v13     284807 non-null  float64\n",
      " 14  v14     284807 non-null  float64\n",
      " 15  v15     284807 non-null  float64\n",
      " 16  v16     284807 non-null  float64\n",
      " 17  v17     284807 non-null  float64\n",
      " 18  v18     284807 non-null  float64\n",
      " 19  v19     284807 non-null  float64\n",
      " 20  v20     284807 non-null  float64\n",
      " 21  v21     284807 non-null  float64\n",
      " 22  v22     284807 non-null  float64\n",
      " 23  v23     284807 non-null  float64\n",
      " 24  v24     284807 non-null  float64\n",
      " 25  v25     284807 non-null  float64\n",
      " 26  v26     284807 non-null  float64\n",
      " 27  v27     284807 non-null  float64\n",
      " 28  v28     284807 non-null  float64\n",
      " 29  amount  284807 non-null  float64\n",
      " 30  class   284807 non-null  int64  \n",
      "dtypes: float64(30), int64(1)\n",
      "memory usage: 67.4 MB\n"
     ]
    }
   ],
   "source": [
    "#\n",
    "# Estructura de los datos\n",
    "datos.info()"
   ]
  },
  {
   "cell_type": "code",
   "execution_count": 4,
   "id": "593f7d49",
   "metadata": {},
   "outputs": [
    {
     "data": {
      "text/html": [
       "<div>\n",
       "<style scoped>\n",
       "    .dataframe tbody tr th:only-of-type {\n",
       "        vertical-align: middle;\n",
       "    }\n",
       "\n",
       "    .dataframe tbody tr th {\n",
       "        vertical-align: top;\n",
       "    }\n",
       "\n",
       "    .dataframe thead th {\n",
       "        text-align: right;\n",
       "    }\n",
       "</style>\n",
       "<table border=\"1\" class=\"dataframe\">\n",
       "  <thead>\n",
       "    <tr style=\"text-align: right;\">\n",
       "      <th></th>\n",
       "      <th>time</th>\n",
       "      <th>v1</th>\n",
       "      <th>v2</th>\n",
       "      <th>v3</th>\n",
       "      <th>v4</th>\n",
       "      <th>v5</th>\n",
       "      <th>v6</th>\n",
       "      <th>v7</th>\n",
       "      <th>v8</th>\n",
       "      <th>v9</th>\n",
       "      <th>...</th>\n",
       "      <th>v21</th>\n",
       "      <th>v22</th>\n",
       "      <th>v23</th>\n",
       "      <th>v24</th>\n",
       "      <th>v25</th>\n",
       "      <th>v26</th>\n",
       "      <th>v27</th>\n",
       "      <th>v28</th>\n",
       "      <th>amount</th>\n",
       "      <th>class</th>\n",
       "    </tr>\n",
       "  </thead>\n",
       "  <tbody>\n",
       "    <tr>\n",
       "      <th>0</th>\n",
       "      <td>0.0</td>\n",
       "      <td>-1.359807</td>\n",
       "      <td>-0.072781</td>\n",
       "      <td>2.536347</td>\n",
       "      <td>1.378155</td>\n",
       "      <td>-0.338321</td>\n",
       "      <td>0.462388</td>\n",
       "      <td>0.239599</td>\n",
       "      <td>0.098698</td>\n",
       "      <td>0.363787</td>\n",
       "      <td>...</td>\n",
       "      <td>-0.018307</td>\n",
       "      <td>0.277838</td>\n",
       "      <td>-0.110474</td>\n",
       "      <td>0.066928</td>\n",
       "      <td>0.128539</td>\n",
       "      <td>-0.189115</td>\n",
       "      <td>0.133558</td>\n",
       "      <td>-0.021053</td>\n",
       "      <td>149.62</td>\n",
       "      <td>0</td>\n",
       "    </tr>\n",
       "    <tr>\n",
       "      <th>1</th>\n",
       "      <td>0.0</td>\n",
       "      <td>1.191857</td>\n",
       "      <td>0.266151</td>\n",
       "      <td>0.166480</td>\n",
       "      <td>0.448154</td>\n",
       "      <td>0.060018</td>\n",
       "      <td>-0.082361</td>\n",
       "      <td>-0.078803</td>\n",
       "      <td>0.085102</td>\n",
       "      <td>-0.255425</td>\n",
       "      <td>...</td>\n",
       "      <td>-0.225775</td>\n",
       "      <td>-0.638672</td>\n",
       "      <td>0.101288</td>\n",
       "      <td>-0.339846</td>\n",
       "      <td>0.167170</td>\n",
       "      <td>0.125895</td>\n",
       "      <td>-0.008983</td>\n",
       "      <td>0.014724</td>\n",
       "      <td>2.69</td>\n",
       "      <td>0</td>\n",
       "    </tr>\n",
       "    <tr>\n",
       "      <th>2</th>\n",
       "      <td>1.0</td>\n",
       "      <td>-1.358354</td>\n",
       "      <td>-1.340163</td>\n",
       "      <td>1.773209</td>\n",
       "      <td>0.379780</td>\n",
       "      <td>-0.503198</td>\n",
       "      <td>1.800499</td>\n",
       "      <td>0.791461</td>\n",
       "      <td>0.247676</td>\n",
       "      <td>-1.514654</td>\n",
       "      <td>...</td>\n",
       "      <td>0.247998</td>\n",
       "      <td>0.771679</td>\n",
       "      <td>0.909412</td>\n",
       "      <td>-0.689281</td>\n",
       "      <td>-0.327642</td>\n",
       "      <td>-0.139097</td>\n",
       "      <td>-0.055353</td>\n",
       "      <td>-0.059752</td>\n",
       "      <td>378.66</td>\n",
       "      <td>0</td>\n",
       "    </tr>\n",
       "    <tr>\n",
       "      <th>3</th>\n",
       "      <td>1.0</td>\n",
       "      <td>-0.966272</td>\n",
       "      <td>-0.185226</td>\n",
       "      <td>1.792993</td>\n",
       "      <td>-0.863291</td>\n",
       "      <td>-0.010309</td>\n",
       "      <td>1.247203</td>\n",
       "      <td>0.237609</td>\n",
       "      <td>0.377436</td>\n",
       "      <td>-1.387024</td>\n",
       "      <td>...</td>\n",
       "      <td>-0.108300</td>\n",
       "      <td>0.005274</td>\n",
       "      <td>-0.190321</td>\n",
       "      <td>-1.175575</td>\n",
       "      <td>0.647376</td>\n",
       "      <td>-0.221929</td>\n",
       "      <td>0.062723</td>\n",
       "      <td>0.061458</td>\n",
       "      <td>123.50</td>\n",
       "      <td>0</td>\n",
       "    </tr>\n",
       "    <tr>\n",
       "      <th>4</th>\n",
       "      <td>2.0</td>\n",
       "      <td>-1.158233</td>\n",
       "      <td>0.877737</td>\n",
       "      <td>1.548718</td>\n",
       "      <td>0.403034</td>\n",
       "      <td>-0.407193</td>\n",
       "      <td>0.095921</td>\n",
       "      <td>0.592941</td>\n",
       "      <td>-0.270533</td>\n",
       "      <td>0.817739</td>\n",
       "      <td>...</td>\n",
       "      <td>-0.009431</td>\n",
       "      <td>0.798278</td>\n",
       "      <td>-0.137458</td>\n",
       "      <td>0.141267</td>\n",
       "      <td>-0.206010</td>\n",
       "      <td>0.502292</td>\n",
       "      <td>0.219422</td>\n",
       "      <td>0.215153</td>\n",
       "      <td>69.99</td>\n",
       "      <td>0</td>\n",
       "    </tr>\n",
       "  </tbody>\n",
       "</table>\n",
       "<p>5 rows × 31 columns</p>\n",
       "</div>"
      ],
      "text/plain": [
       "   time        v1        v2        v3        v4        v5        v6        v7  \\\n",
       "0   0.0 -1.359807 -0.072781  2.536347  1.378155 -0.338321  0.462388  0.239599   \n",
       "1   0.0  1.191857  0.266151  0.166480  0.448154  0.060018 -0.082361 -0.078803   \n",
       "2   1.0 -1.358354 -1.340163  1.773209  0.379780 -0.503198  1.800499  0.791461   \n",
       "3   1.0 -0.966272 -0.185226  1.792993 -0.863291 -0.010309  1.247203  0.237609   \n",
       "4   2.0 -1.158233  0.877737  1.548718  0.403034 -0.407193  0.095921  0.592941   \n",
       "\n",
       "         v8        v9  ...       v21       v22       v23       v24       v25  \\\n",
       "0  0.098698  0.363787  ... -0.018307  0.277838 -0.110474  0.066928  0.128539   \n",
       "1  0.085102 -0.255425  ... -0.225775 -0.638672  0.101288 -0.339846  0.167170   \n",
       "2  0.247676 -1.514654  ...  0.247998  0.771679  0.909412 -0.689281 -0.327642   \n",
       "3  0.377436 -1.387024  ... -0.108300  0.005274 -0.190321 -1.175575  0.647376   \n",
       "4 -0.270533  0.817739  ... -0.009431  0.798278 -0.137458  0.141267 -0.206010   \n",
       "\n",
       "        v26       v27       v28  amount  class  \n",
       "0 -0.189115  0.133558 -0.021053  149.62      0  \n",
       "1  0.125895 -0.008983  0.014724    2.69      0  \n",
       "2 -0.139097 -0.055353 -0.059752  378.66      0  \n",
       "3 -0.221929  0.062723  0.061458  123.50      0  \n",
       "4  0.502292  0.219422  0.215153   69.99      0  \n",
       "\n",
       "[5 rows x 31 columns]"
      ]
     },
     "execution_count": 4,
     "metadata": {},
     "output_type": "execute_result"
    }
   ],
   "source": [
    "datos.head()"
   ]
  },
  {
   "cell_type": "markdown",
   "id": "c22958b3",
   "metadata": {},
   "source": [
    "De acuerdo con esta revisión inicial, y atendiendo la documentación de la base, la lectura de los datos es correcto y todas las características tienen la tipología de datos adecuada."
   ]
  },
  {
   "cell_type": "markdown",
   "id": "d6f3cfbf",
   "metadata": {},
   "source": [
    "# <span style = 'color: red'>***2.***</span> Limpieza de los datos\n",
    "\n",
    "## <span style = 'color: green'>**2.1.**</span> Duplicados y datos faltantes\n",
    "\n",
    "Se comenzará revisando si existen filas duplicadas."
   ]
  },
  {
   "cell_type": "code",
   "execution_count": 5,
   "id": "3379dc37",
   "metadata": {},
   "outputs": [
    {
     "name": "stdout",
     "output_type": "stream",
     "text": [
      "El conjunto de datos tiene 1081 filas duplicadas.\n"
     ]
    }
   ],
   "source": [
    "#\n",
    "# Revisión de duplicados\n",
    "duplicados = datos.duplicated().sum()\n",
    "print(f'El conjunto de datos tiene {duplicados} filas duplicadas.')"
   ]
  },
  {
   "cell_type": "markdown",
   "id": "48d70ab1",
   "metadata": {},
   "source": [
    "Como se observa, para todas las características se tienen columnas de color gris continuo. Esto indica que la base carece de datos faltantes. De todos modos, se busca de manera manual si existen datos nulos, corroborando que no es el caso. Esto hace que no sea necesario imputar información y, por otra parte, el marco de datos será adecuado para cualquier tipo de modelo (entendiendo que algunos no aceptan valores faltantes)."
   ]
  },
  {
   "cell_type": "code",
   "execution_count": 6,
   "id": "4f2cbaf8",
   "metadata": {},
   "outputs": [
    {
     "name": "stdout",
     "output_type": "stream",
     "text": [
      "Se eliminaron 1081 filas duplicadas.\n",
      "El conjunto de datos ahora tiene 283726 filas y 31 columnas.\n"
     ]
    }
   ],
   "source": [
    "#\n",
    "# Eliminación de duplicados\n",
    "if duplicados > 0:\n",
    "    datos = datos.drop_duplicates()\n",
    "    print(f'Se eliminaron {duplicados} filas duplicadas.')\n",
    "    print(f'El conjunto de datos ahora tiene {datos.shape[0]} filas y {datos.shape[1]} columnas.')\n",
    "else:\n",
    "    print('No se eliminaron filas duplicadas.')"
   ]
  },
  {
   "cell_type": "markdown",
   "id": "7d5bb55a",
   "metadata": {},
   "source": [
    "Ahora, se revisará la nulidad de información en esta base de datos:"
   ]
  },
  {
   "cell_type": "code",
   "execution_count": 7,
   "id": "1501d385",
   "metadata": {},
   "outputs": [
    {
     "data": {
      "image/png": "[encoded data removed]",
      "text/plain": [
       "<Figure size 2500x1000 with 2 Axes>"
      ]
     },
     "metadata": {},
     "output_type": "display_data"
    },
    {
     "name": "stdout",
     "output_type": "stream",
     "text": [
      "El conjunto de datos tiene 0 valores nulos.\n"
     ]
    }
   ],
   "source": [
    "#\n",
    "# Nulidad de información\n",
    "msno.matrix(datos)\n",
    "plt.title('Nulidad de información')\n",
    "plt.show()\n",
    "\n",
    "print(\n",
    "    f'El conjunto de datos tiene {datos.isnull().sum().sum()} valores nulos.'\n",
    ")"
   ]
  },
  {
   "cell_type": "markdown",
   "id": "8855837b",
   "metadata": {},
   "source": [
    "## <span style = 'color: green'>**2.2.**</span> Observaciones atípicas\n",
    "\n",
    "A continuación, se identificarán las observaciones atípicas, entendiéndolas como aquellas que están 1.5 veces el rango intercuartílico por encima del tercer cuartil ($Q3$) o por debajo del primer cuartil ($Q1$). Estos son los valores que típicamente quedan representados como puntos en gráficos de cajas y bigotes. Se realizará el análisis detallando si existe un sesgo especial hacia la clase que marca el fraude, lo que indica una relevancia especial de la característica."
   ]
  },
  {
   "cell_type": "code",
   "execution_count": 8,
   "id": "9cb73d53",
   "metadata": {},
   "outputs": [],
   "source": [
    "outlier_df = pd.DataFrame(index=datos.index)\n",
    "\n",
    "for col in datos.select_dtypes(include=['number']).columns:\n",
    "    q1 = datos[col].quantile(0.25)\n",
    "    q3 = datos[col].quantile(0.75)\n",
    "    iqr = q3 - q1\n",
    "    lower = q1 - 1.5 * iqr\n",
    "    upper = q3 + 1.5 * iqr\n",
    "    outlier_df[col + '_outlier'] = ((datos[col] < lower) | (datos[col] > upper))\n"
   ]
  },
  {
   "cell_type": "code",
   "execution_count": 9,
   "id": "ca9323d7",
   "metadata": {},
   "outputs": [
    {
     "name": "stdout",
     "output_type": "stream",
     "text": [
      "\n",
      "Distribución de datos atípicos en time:\n",
      "class           0    1\n",
      "time_outlier          \n",
      "False         1.0  1.0\n",
      "\n",
      "Distribución de datos atípicos en v1:\n",
      "class              0         1\n",
      "v1_outlier                    \n",
      "False       0.976028  0.665962\n",
      "True        0.023972  0.334038\n",
      "\n",
      "Distribución de datos atípicos en v2:\n",
      "class             0         1\n",
      "v2_outlier                   \n",
      "False       0.95354  0.513742\n",
      "True        0.04646  0.486258\n",
      "\n",
      "Distribución de datos atípicos en v3:\n",
      "class              0        1\n",
      "v3_outlier                   \n",
      "False       0.989363  0.38055\n",
      "True        0.010637  0.61945\n",
      "\n",
      "Distribución de datos atípicos en v4:\n",
      "class              0         1\n",
      "v4_outlier                    \n",
      "False       0.961893  0.365751\n",
      "True        0.038107  0.634249\n",
      "\n",
      "Distribución de datos atípicos en v5:\n",
      "class              0         1\n",
      "v5_outlier                    \n",
      "False       0.957529  0.596195\n",
      "True        0.042471  0.403805\n",
      "\n",
      "Distribución de datos atípicos en v6:\n",
      "class              0         1\n",
      "v6_outlier                    \n",
      "False       0.919644  0.735729\n",
      "True        0.080356  0.264271\n",
      "\n",
      "Distribución de datos atípicos en v7:\n",
      "class              0         1\n",
      "v7_outlier                    \n",
      "False       0.969794  0.401691\n",
      "True        0.030206  0.598309\n",
      "\n",
      "Distribución de datos atípicos en v8:\n",
      "class              0         1\n",
      "v8_outlier                    \n",
      "False       0.916421  0.513742\n",
      "True        0.083579  0.486258\n",
      "\n",
      "Distribución de datos atípicos en v9:\n",
      "class              0        1\n",
      "v9_outlier                   \n",
      "False       0.971792  0.55814\n",
      "True        0.028208  0.44186\n",
      "\n",
      "Distribución de datos atípicos en v10:\n",
      "class              0         1\n",
      "v10_outlier                   \n",
      "False        0.96835  0.196617\n",
      "True         0.03165  0.803383\n",
      "\n",
      "Distribución de datos atípicos en v11:\n",
      "class              0        1\n",
      "v11_outlier                  \n",
      "False        0.99838  0.41649\n",
      "True         0.00162  0.58351\n",
      "\n",
      "Distribución de datos atípicos en v12:\n",
      "class               0         1\n",
      "v12_outlier                    \n",
      "False        0.947425  0.175476\n",
      "True         0.052575  0.824524\n",
      "\n",
      "Distribución de datos atípicos en v13:\n",
      "class               0         1\n",
      "v13_outlier                    \n",
      "False        0.988159  0.983087\n",
      "True         0.011841  0.016913\n",
      "\n",
      "Distribución de datos atípicos en v14:\n",
      "class               0         1\n",
      "v14_outlier                    \n",
      "False        0.951813  0.131078\n",
      "True         0.048187  0.868922\n",
      "\n",
      "Distribución de datos atípicos en v15:\n",
      "class               0         1\n",
      "v15_outlier                    \n",
      "False        0.989857  0.976744\n",
      "True         0.010143  0.023256\n",
      "\n",
      "Distribución de datos atípicos en v16:\n",
      "class               0         1\n",
      "v16_outlier                    \n",
      "False        0.972297  0.295983\n",
      "True         0.027703  0.704017\n",
      "\n",
      "Distribución de datos atípicos en v17:\n",
      "class               0         1\n",
      "v17_outlier                    \n",
      "False        0.975379  0.198732\n",
      "True         0.024621  0.801268\n",
      "\n",
      "Distribución de datos atípicos en v18:\n",
      "class               0         1\n",
      "v18_outlier                    \n",
      "False        0.974408  0.536998\n",
      "True         0.025592  0.463002\n",
      "\n",
      "Distribución de datos atípicos en v19:\n",
      "class               0         1\n",
      "v19_outlier                    \n",
      "False        0.964629  0.723044\n",
      "True         0.035371  0.276956\n",
      "\n",
      "Distribución de datos atípicos en v20:\n",
      "class               0        1\n",
      "v20_outlier                   \n",
      "False        0.903362  0.61945\n",
      "True         0.096638  0.38055\n",
      "\n",
      "Distribución de datos atípicos en v21:\n",
      "class               0         1\n",
      "v21_outlier                    \n",
      "False        0.949956  0.522199\n",
      "True         0.050044  0.477801\n",
      "\n",
      "Distribución de datos atípicos en v22:\n",
      "class               0         1\n",
      "v22_outlier                    \n",
      "False        0.995488  0.957717\n",
      "True         0.004512  0.042283\n",
      "\n",
      "Distribución de datos atípicos en v23:\n",
      "class               0         1\n",
      "v23_outlier                    \n",
      "False        0.935288  0.710359\n",
      "True         0.064712  0.289641\n",
      "\n",
      "Distribución de datos atípicos en v24:\n",
      "class               0         1\n",
      "v24_outlier                    \n",
      "False        0.983213  0.993658\n",
      "True         0.016787  0.006342\n",
      "\n",
      "Distribución de datos atípicos en v25:\n",
      "class               0         1\n",
      "v25_outlier                    \n",
      "False        0.981366  0.883721\n",
      "True         0.018634  0.116279\n",
      "\n",
      "Distribución de datos atípicos en v26:\n",
      "class               0         1\n",
      "v26_outlier                    \n",
      "False        0.980028  0.983087\n",
      "True         0.019972  0.016913\n",
      "\n",
      "Distribución de datos atípicos en v27:\n",
      "class               0         1\n",
      "v27_outlier                    \n",
      "False        0.864178  0.308668\n",
      "True         0.135822  0.691332\n",
      "\n",
      "Distribución de datos atípicos en v28:\n",
      "class               0         1\n",
      "v28_outlier                    \n",
      "False        0.894652  0.463002\n",
      "True         0.105348  0.536998\n",
      "\n",
      "Distribución de datos atípicos en amount:\n",
      "class                  0         1\n",
      "amount_outlier                    \n",
      "False           0.888446  0.816068\n",
      "True            0.111554  0.183932\n",
      "\n",
      "Distribución de datos atípicos en class:\n",
      "class            0    1\n",
      "class_outlier          \n",
      "False          1.0  0.0\n",
      "True           0.0  1.0\n"
     ]
    }
   ],
   "source": [
    "for col in datos.select_dtypes(include=['number']).columns:\n",
    "    etiqueta_outlier = outlier_df[col + '_outlier']\n",
    "    tabla = pd.crosstab(etiqueta_outlier, datos['class'], normalize='columns')  # proporción sobre cada clase\n",
    "    print(f\"\\nDistribución de datos atípicos en {col}:\")\n",
    "    print(tabla)\n"
   ]
  },
  {
   "cell_type": "markdown",
   "id": "00d90d8c",
   "metadata": {},
   "source": [
    "En general, los datos atípicos son importantes para poder identificar que una transacción tiene una mayor probabilidad de fraude. Esto se puede constatar con el hecho de que para las diferentes variables del modelo, los datos atípicos suelen distribuirse de manera más pareja o incluso modera a fuertemente sesgada para aquellas instancias en las que se marca un ***fraude***, caso contrario de las observaciones no fraudulentas, que suelen tener una menor asociación con los datos atípicos. \n",
    "\n",
    "Un ejemplo muy visible de esto ocurre con la característica `v14`: para esta, en las instancias fraudulentas, el 86.8 \\% de ellas toman un valor atípico para esta variable, mientras que en las no fraudulentas solo el 4.8 \\% de las observaciones serán atípicas. Es importante anotar que, si bien este comportamiento no se repite para todas las características, sí se observa algo semejante en la mayoría de ellas; en cambio, para las instancias no atípicas hay una baja tasa de datos atípicos.\n",
    "\n",
    "Este análisis permite concluir que **no es adecuado eliminar, limpias o imputar las observaciones atípicas**."
   ]
  },
  {
   "cell_type": "markdown",
   "id": "5fab1236",
   "metadata": {},
   "source": [
    "## <span style = 'color: green'>**2.3.**</span> Análisis de multicolinealidad\n",
    "\n",
    "Ahora, se revisará si existen características fuertemente asociadas entre sí mediante un análisis de multicolinealidad:"
   ]
  },
  {
   "cell_type": "code",
   "execution_count": 10,
   "id": "605a4323",
   "metadata": {},
   "outputs": [
    {
     "data": {
      "text/plain": [
       "<Figure size 1000x800 with 0 Axes>"
      ]
     },
     "metadata": {},
     "output_type": "display_data"
    },
    {
     "data": {
      "image/png": "[encoded data removed]",
      "text/plain": [
       "<Figure size 1000x800 with 2 Axes>"
      ]
     },
     "metadata": {},
     "output_type": "display_data"
    }
   ],
   "source": [
    "#\n",
    "# Matriz de correlación\n",
    "\n",
    "plt.figure(figsize=(10, 8))\n",
    "corr_matrix = datos.select_dtypes(include='number').corr()\n",
    "\n",
    "plt.figure(figsize=(10,8))\n",
    "plt.title(\"Matriz de correlación\")\n",
    "plt.imshow(corr_matrix, cmap='coolwarm', interpolation='nearest')\n",
    "plt.colorbar()\n",
    "plt.xticks(range(len(corr_matrix)), corr_matrix.columns, rotation=90)\n",
    "plt.yticks(range(len(corr_matrix)), corr_matrix.columns)\n",
    "plt.tight_layout()\n",
    "plt.show()\n"
   ]
  },
  {
   "cell_type": "markdown",
   "id": "3695a829",
   "metadata": {},
   "source": [
    "En general, las variables presentan una correlación lineal débil o moderada-débil entre sí. Solo vale la pena destacar la correlación entre `amount` y `v7`, que es de un $0.4$ aproximadamente, y la de `v2` y `amount`, que es de un $-0.6$ aproximadamente. Con esto en mente, no merece la pena eliminar ninguna variable del marco de datos entiendo como que puede quedar representada por otra muy altamente correlacionada.\n",
    "\n",
    "Frente a la correlación con la variable objetivo, todas tienen correlaciones muy cercanas a cero. Las que más destacan son `v10`, `v14` y `v17`, con correlaciones de un $-0.1$ aproximadamente.\n",
    "\n",
    "El anterior análisis se puede complementar con el $VIF$: *factor de inflación de varianza*. Valores de $VIF > 5$ pueden ser preocupantes."
   ]
  },
  {
   "cell_type": "code",
   "execution_count": 11,
   "id": "01c2ef11",
   "metadata": {},
   "outputs": [
    {
     "name": "stdout",
     "output_type": "stream",
     "text": [
      "   feature        VIF\n",
      "0     time   2.353494\n",
      "1       v1   1.641115\n",
      "2       v2   3.935012\n",
      "3       v3   1.321541\n",
      "4       v4   1.175845\n",
      "5       v5   2.768500\n",
      "6       v6   1.534962\n",
      "7       v7   2.597499\n",
      "8       v8   1.100627\n",
      "9       v9   1.038344\n",
      "10     v10   1.206976\n",
      "11     v11   1.081375\n",
      "12     v12   1.156400\n",
      "13     v13   1.003508\n",
      "14     v14   1.218507\n",
      "15     v15   1.014528\n",
      "16     v16   1.082241\n",
      "17     v17   1.227937\n",
      "18     v18   1.034703\n",
      "19     v19   1.041104\n",
      "20     v20   2.239606\n",
      "21     v21   1.102076\n",
      "22     v22   1.083716\n",
      "23     v23   1.154567\n",
      "24     v24   1.000789\n",
      "25     v25   1.013744\n",
      "26     v26   1.000561\n",
      "27     v27   1.010457\n",
      "28     v28   1.001859\n",
      "29  amount  11.659063\n",
      "30   class   2.029128\n"
     ]
    }
   ],
   "source": [
    "#\n",
    "# VIF\n",
    "X_vif = datos.select_dtypes(include='number').drop(columns=['target'], errors='ignore')  # omite target si es numérica\n",
    "\n",
    "vif_data = pd.DataFrame()\n",
    "vif_data[\"feature\"] = X_vif.columns\n",
    "vif_data[\"VIF\"] = [variance_inflation_factor(X_vif.values, i) for i in range(X_vif.shape[1])]\n",
    "\n",
    "print(vif_data)\n"
   ]
  },
  {
   "cell_type": "markdown",
   "id": "aa26dee7",
   "metadata": {},
   "source": [
    "Como se observa, todas las variables tienen un $VIF < 3$, lo que las hace adecuadas para la modelación excepto por la columna del monto de la transacción con un $VIF_{\\texttt{amount}} = 11.6$. No obstante, basados en un **criterio experto de negocio** (en riesgo de crédito), esta variable suele tener una incidencia importante en el fraude, por lo que vale la pena conservarla.  "
   ]
  },
  {
   "cell_type": "markdown",
   "id": "a9658f5a",
   "metadata": {},
   "source": [
    "En efecto, existe un gran desbalanceo en el marco de datos, con solo el $0.17 \\%$ asociados a la marca de ***fraude***."
   ]
  },
  {
   "cell_type": "markdown",
   "id": "a07e0bd9",
   "metadata": {},
   "source": [
    "## <span style = 'color: green'>**2.4.**</span> Pasos finales: separación de datos, dalanceo, estandarización y reducción de dimensionalidad\n",
    "\n",
    "Ahora se va a proceder con los pasos finales que van a permitir configurar el marco de datos que se empleará para el entrenamiento del modelo, a saber:\n",
    "\n",
    "- **Definición de conjuntos de entrenamiento y validación**\n",
    "- **Balanceo de los datos**, ya que los autores hablan de que hay un desbalanceo exacerbado de la información, como se verá más adelante.\n",
    "- **Estandarización de los datos**, que si bien en teoría ya están aplicados de antemano por parte de los dueños de los datos, se apelará de nuevo a este proceso como control de calidad. Se va a realizar un sobremuestreo usando `SMOTE`, que es una de las técnicas más populares para este tipo de actividades.\n",
    "- **Reducción de dimensionalidad**, para tratar de simplificar el volumen de los datos, abarcando por lo menos un 97.5 \\% de la varianza de los mismos.\n",
    "\n",
    "Antes de definir el *pipeline*, se va a mostrar la distribución de la variable respuesta para que sea notorio el desbalanceo."
   ]
  },
  {
   "cell_type": "markdown",
   "id": "36671560",
   "metadata": {},
   "source": [
    "Veamos cómo quedó el balanceo de la información:"
   ]
  },
  {
   "cell_type": "code",
   "execution_count": 12,
   "id": "b606b166",
   "metadata": {},
   "outputs": [
    {
     "name": "stderr",
     "output_type": "stream",
     "text": [
      "C:\\Users\\user\\AppData\\Local\\Temp\\ipykernel_15140\\3881773891.py:5: FutureWarning: \n",
      "\n",
      "Passing `palette` without assigning `hue` is deprecated and will be removed in v0.14.0. Assign the `x` variable to `hue` and set `legend=False` for the same effect.\n",
      "\n",
      "  sns.countplot(data=data, x=column, palette='viridis')\n"
     ]
    },
    {
     "data": {
      "image/png": "[encoded data removed]",
      "text/plain": [
       "<Figure size 1000x600 with 1 Axes>"
      ]
     },
     "metadata": {},
     "output_type": "display_data"
    }
   ],
   "source": [
    "#\n",
    "# Función que grafica la distribución\n",
    "def plot_distribution(data, column):\n",
    "    plt.figure(figsize=(10, 6))\n",
    "    sns.countplot(data=data, x=column, palette='viridis')\n",
    "    # Agregar proporción y cantidad absoluta encima de cada barra\n",
    "    total = len(data)\n",
    "    for p in plt.gca().patches:\n",
    "        height = p.get_height()\n",
    "        plt.text(p.get_x() + p.get_width() / 2., height, f'{height} ({height / total:.2%})',\n",
    "                 ha='center', va='bottom', fontsize=10, color='black')\n",
    "    plt.grid(axis='y', linestyle='--', alpha=0.7)\n",
    "    plt.title(f'Distribución de {column}')\n",
    "    plt.xlabel('Marca de fraude')\n",
    "    plt.ylabel('Frecuencia')\n",
    "    plt.xticks(rotation=45)\n",
    "    plt.show()\n",
    "\n",
    "plot_distribution(datos, 'class')"
   ]
  },
  {
   "cell_type": "markdown",
   "id": "fcf7bd6f",
   "metadata": {},
   "source": [
    "En efecto, existe un gran desbalanceo en el marco de datos, con solo el $0.17 \\%$ asociados a la marca de *fraude*. Ahora, se procese con la realización de los pasos descritos previamente. Nótese que el balanceo de información se aplicará solo sobre los datos del conjunto de entrenamiento."
   ]
  },
  {
   "cell_type": "code",
   "execution_count": 55,
   "id": "041ab3dd",
   "metadata": {},
   "outputs": [
    {
     "name": "stdout",
     "output_type": "stream",
     "text": [
      "Train: (453204, 17) (453204,)\n",
      "Validación: (56746, 17) (56746,)\n"
     ]
    }
   ],
   "source": [
    "#\n",
    "# Consolidación de la información\n",
    "# \n",
    "# # 1. Separa en entrenamiento y validación (stratify mantiene la proporción de clases)\n",
    "X = datos.drop('class', axis=1)\n",
    "y = datos['class']\n",
    "\n",
    "X_train, X_val, y_train, y_val = train_test_split(\n",
    "    X, y, test_size=0.2, stratify=y, random_state=202508\n",
    ")\n",
    "\n",
    "# 2. Aplica SMOTE SOLO al set de entrenamiento\n",
    "smote = SMOTE()\n",
    "X_train_res, y_train_res = smote.fit_resample(X_train, y_train)\n",
    "\n",
    "# 3. Escalado y PCA SOLO se ajustan en entrenamiento y luego se aplican en validación\n",
    "scaler = StandardScaler()\n",
    "X_train_res_scaled = scaler.fit_transform(X_train_res)\n",
    "X_val_scaled = scaler.transform(X_val)\n",
    "\n",
    "pca = PCA(n_components=0.95)\n",
    "X_train_final = pca.fit_transform(X_train_res_scaled)\n",
    "X_val_final = pca.transform(X_val_scaled)\n",
    "\n",
    "# Tus conjuntos quedan así:\n",
    "# - X_train_final, y_train_res → Para entrenamiento (balanceados, estandarizados, reducidos)\n",
    "# - X_val_final, y_val         → Para validación (no balanceado, estandarizado y reducido igual que train)\n",
    "\n",
    "print(\"Train:\", X_train_final.shape, y_train_res.shape)\n",
    "print(\"Validación:\", X_val_final.shape, y_val.shape)\n"
   ]
  },
  {
   "cell_type": "code",
   "execution_count": 56,
   "id": "be40d6ec",
   "metadata": {},
   "outputs": [
    {
     "name": "stderr",
     "output_type": "stream",
     "text": [
      "C:\\Users\\user\\AppData\\Local\\Temp\\ipykernel_15140\\3881773891.py:5: FutureWarning: \n",
      "\n",
      "Passing `palette` without assigning `hue` is deprecated and will be removed in v0.14.0. Assign the `x` variable to `hue` and set `legend=False` for the same effect.\n",
      "\n",
      "  sns.countplot(data=data, x=column, palette='viridis')\n"
     ]
    },
    {
     "data": {
      "image/png": "[encoded data removed]",
      "text/plain": [
       "<Figure size 1000x600 with 1 Axes>"
      ]
     },
     "metadata": {},
     "output_type": "display_data"
    }
   ],
   "source": [
    "#\n",
    "# Distribución de la variable objetivo a partir de y_res\n",
    "plot_distribution(pd.DataFrame({'class': y_train_res}), 'class')"
   ]
  },
  {
   "cell_type": "markdown",
   "id": "df31fa73",
   "metadata": {},
   "source": [
    "Como se puede observar, ambas instancias están perfectamente balanceadas ahora para el conjunto de entrenamiento."
   ]
  },
  {
   "cell_type": "code",
   "execution_count": 60,
   "id": "59ba1ace",
   "metadata": {},
   "outputs": [],
   "source": [
    "#\n",
    "# Unión de los datos\n",
    "\n",
    "# Junta para entrenamiento\n",
    "df_train = pd.DataFrame(X_train_final)\n",
    "df_train['class'] = y_train_res.values  # y_train_res puede ser Series o ndarray\n",
    "\n",
    "# Junta para validación\n",
    "df_val = pd.DataFrame(X_val_final)\n",
    "df_val['class'] = y_val.values\n"
   ]
  },
  {
   "cell_type": "code",
   "execution_count": 16,
   "id": "e06604aa",
   "metadata": {},
   "outputs": [
    {
     "name": "stdout",
     "output_type": "stream",
     "text": [
      "El conjunto de entrenamiento tiene 453204 filas y 17 columnas.\n",
      "\n",
      "El conjunto de validación tiene 56746 filas y 17 columnas.\n"
     ]
    }
   ],
   "source": [
    "#\n",
    "# Dimensionalidad\n",
    "\n",
    "print(\n",
    "    f'El conjunto de entrenamiento tiene {X_train_final.shape[0]} filas y {X_train_final.shape[1]} columnas.',\n",
    "    f'El conjunto de validación tiene {X_val_final.shape[0]} filas y {X_val_final.shape[1]} columnas.',\n",
    "    sep='\\n\\n'\n",
    ")"
   ]
  },
  {
   "cell_type": "markdown",
   "id": "271b3679",
   "metadata": {},
   "source": [
    "Nótese que del proceso de reducción de dimensionalidad, se conservan un total de 17 características que, en conjunto, responden por más del $97.5 \\%$ de la varianza de los datos."
   ]
  },
  {
   "cell_type": "markdown",
   "id": "f4debadf",
   "metadata": {},
   "source": [
    "## <span style = 'color: green'>**2.4.**</span> Guardado de los datos\n",
    "\n",
    "Con esto, se procederá a guardar estos datos para que puedan ser consumidos en otros *notebooks*."
   ]
  },
  {
   "cell_type": "code",
   "execution_count": 17,
   "id": "6136afc2",
   "metadata": {},
   "outputs": [
    {
     "name": "stdout",
     "output_type": "stream",
     "text": [
      "Archivos guardados en: c:\\Users\\user\\Documents\\aprendmaq_proy_final\\datos\\Procesados\n"
     ]
    }
   ],
   "source": [
    "#\n",
    "# # Define la ruta relativa desde donde está tu notebook\n",
    "base_dir = os.path.dirname(os.getcwd())  # Subes un nivel desde la carpeta del notebook\n",
    "procesados_dir = os.path.join(base_dir, \"datos\", \"Procesados\")\n",
    "os.makedirs(procesados_dir, exist_ok=True)\n",
    "\n",
    "# Guarda los archivos como .csv.zip\n",
    "df_train.to_csv(os.path.join(procesados_dir, \"train.csv.zip\"), index=False, compression='zip')\n",
    "df_val.to_csv(os.path.join(procesados_dir, \"validation.csv.zip\"), index=False, compression='zip')\n",
    "\n",
    "print(f\"Archivos guardados en: {procesados_dir}\")\n"
   ]
  },
  {
   "cell_type": "markdown",
   "id": "7d1156f9",
   "metadata": {},
   "source": [
    "Por último, se validará una vez más la dimensionalidad de ambos conjuntos de datos."
   ]
  },
  {
   "cell_type": "markdown",
   "id": "77d7a117",
   "metadata": {},
   "source": [
    "# <span style = 'color: red'>***B.*** **Modelación**."
   ]
  },
  {
   "cell_type": "markdown",
   "id": "54504cd7",
   "metadata": {},
   "source": [
    "## <span style = 'color: green'>**3.1**</span> Modelación basado ajuste PCA-equilibrio\n"
   ]
  },
  {
   "cell_type": "markdown",
   "id": "491f4cf1",
   "metadata": {},
   "source": [
    "En principio se utilizara una estructura basada en 10 modelos aplicados sobre esta estructura basado en PCA pasando desde modelos traficionales hasta modelos más avanzados:\n",
    "* **Importante:** Se dejara una subdivición en caso de que no se pueda aplicar el conjunto de datos de prueba **crossvalidation** o sea necesario manejar conjunto de validación, para este caso se dejara divididido sobre el 70% para test y 30% para validación"
   ]
  },
  {
   "cell_type": "code",
   "execution_count": 38,
   "id": "67f51b53",
   "metadata": {},
   "outputs": [
    {
     "name": "stdout",
     "output_type": "stream",
     "text": [
      "(39722, 18) (17024, 18)\n"
     ]
    }
   ],
   "source": [
    "from sklearn.model_selection import train_test_split\n",
    "\n",
    "df_test_alfa, df_val_alfa = train_test_split(df_val, test_size=0.3, stratify=df_val['class'], random_state=202508)\n",
    "print(df_test_alfa.shape, df_val_alfa.shape)"
   ]
  },
  {
   "cell_type": "markdown",
   "id": "6581a937",
   "metadata": {},
   "source": [
    "### <span style = 'color: green'>**3.1.1**</span> Modelación basado ajuste PCA-Equilibrio-regresión lógistica:"
   ]
  },
  {
   "cell_type": "markdown",
   "id": "6d83414d",
   "metadata": {},
   "source": [
    "Dado que ya se encuentra normalizado el dataset se pasara a correr modelos"
   ]
  },
  {
   "cell_type": "code",
   "execution_count": null,
   "id": "27f79f63",
   "metadata": {},
   "outputs": [
    {
     "name": "stdout",
     "output_type": "stream",
     "text": [
      "Fitting 3 folds for each of 10 candidates, totalling 30 fits\n"
     ]
    },
    {
     "data": {
      "text/html": [
       "<style>#sk-container-id-4 {color: black;}#sk-container-id-4 pre{padding: 0;}#sk-container-id-4 div.sk-toggleable {background-color: white;}#sk-container-id-4 label.sk-toggleable__label {cursor: pointer;display: block;width: 100%;margin-bottom: 0;padding: 0.3em;box-sizing: border-box;text-align: center;}#sk-container-id-4 label.sk-toggleable__label-arrow:before {content: \"▸\";float: left;margin-right: 0.25em;color: #696969;}#sk-container-id-4 label.sk-toggleable__label-arrow:hover:before {color: black;}#sk-container-id-4 div.sk-estimator:hover label.sk-toggleable__label-arrow:before {color: black;}#sk-container-id-4 div.sk-toggleable__content {max-height: 0;max-width: 0;overflow: hidden;text-align: left;background-color: #f0f8ff;}#sk-container-id-4 div.sk-toggleable__content pre {margin: 0.2em;color: black;border-radius: 0.25em;background-color: #f0f8ff;}#sk-container-id-4 input.sk-toggleable__control:checked~div.sk-toggleable__content {max-height: 200px;max-width: 100%;overflow: auto;}#sk-container-id-4 input.sk-toggleable__control:checked~label.sk-toggleable__label-arrow:before {content: \"▾\";}#sk-container-id-4 div.sk-estimator input.sk-toggleable__control:checked~label.sk-toggleable__label {background-color: #d4ebff;}#sk-container-id-4 div.sk-label input.sk-toggleable__control:checked~label.sk-toggleable__label {background-color: #d4ebff;}#sk-container-id-4 input.sk-hidden--visually {border: 0;clip: rect(1px 1px 1px 1px);clip: rect(1px, 1px, 1px, 1px);height: 1px;margin: -1px;overflow: hidden;padding: 0;position: absolute;width: 1px;}#sk-container-id-4 div.sk-estimator {font-family: monospace;background-color: #f0f8ff;border: 1px dotted black;border-radius: 0.25em;box-sizing: border-box;margin-bottom: 0.5em;}#sk-container-id-4 div.sk-estimator:hover {background-color: #d4ebff;}#sk-container-id-4 div.sk-parallel-item::after {content: \"\";width: 100%;border-bottom: 1px solid gray;flex-grow: 1;}#sk-container-id-4 div.sk-label:hover label.sk-toggleable__label {background-color: #d4ebff;}#sk-container-id-4 div.sk-serial::before {content: \"\";position: absolute;border-left: 1px solid gray;box-sizing: border-box;top: 0;bottom: 0;left: 50%;z-index: 0;}#sk-container-id-4 div.sk-serial {display: flex;flex-direction: column;align-items: center;background-color: white;padding-right: 0.2em;padding-left: 0.2em;position: relative;}#sk-container-id-4 div.sk-item {position: relative;z-index: 1;}#sk-container-id-4 div.sk-parallel {display: flex;align-items: stretch;justify-content: center;background-color: white;position: relative;}#sk-container-id-4 div.sk-item::before, #sk-container-id-4 div.sk-parallel-item::before {content: \"\";position: absolute;border-left: 1px solid gray;box-sizing: border-box;top: 0;bottom: 0;left: 50%;z-index: -1;}#sk-container-id-4 div.sk-parallel-item {display: flex;flex-direction: column;z-index: 1;position: relative;background-color: white;}#sk-container-id-4 div.sk-parallel-item:first-child::after {align-self: flex-end;width: 50%;}#sk-container-id-4 div.sk-parallel-item:last-child::after {align-self: flex-start;width: 50%;}#sk-container-id-4 div.sk-parallel-item:only-child::after {width: 0;}#sk-container-id-4 div.sk-dashed-wrapped {border: 1px dashed gray;margin: 0 0.4em 0.5em 0.4em;box-sizing: border-box;padding-bottom: 0.4em;background-color: white;}#sk-container-id-4 div.sk-label label {font-family: monospace;font-weight: bold;display: inline-block;line-height: 1.2em;}#sk-container-id-4 div.sk-label-container {text-align: center;}#sk-container-id-4 div.sk-container {/* jupyter's `normalize.less` sets `[hidden] { display: none; }` but bootstrap.min.css set `[hidden] { display: none !important; }` so we also need the `!important` here to be able to override the default hidden behavior on the sphinx rendered scikit-learn.org. See: https://github.com/scikit-learn/scikit-learn/issues/21755 */display: inline-block !important;position: relative;}#sk-container-id-4 div.sk-text-repr-fallback {display: none;}</style><div id=\"sk-container-id-4\" class=\"sk-top-container\"><div class=\"sk-text-repr-fallback\"><pre>RandomizedSearchCV(cv=3,\n",
       "                   estimator=Pipeline(steps=[(&#x27;select&#x27;, SelectKBest(k=5)),\n",
       "                                             (&#x27;clf&#x27;,\n",
       "                                              LogisticRegression(max_iter=1000,\n",
       "                                                                 random_state=202508))]),\n",
       "                   n_jobs=-1,\n",
       "                   param_distributions={&#x27;clf__C&#x27;: [0.001, 0.01, 0.1, 1, 10,\n",
       "                                                   100],\n",
       "                                        &#x27;clf__solver&#x27;: [&#x27;liblinear&#x27;, &#x27;lbfgs&#x27;]},\n",
       "                   random_state=202508, scoring=&#x27;f1&#x27;, verbose=1)</pre><b>In a Jupyter environment, please rerun this cell to show the HTML representation or trust the notebook. <br />On GitHub, the HTML representation is unable to render, please try loading this page with nbviewer.org.</b></div><div class=\"sk-container\" hidden><div class=\"sk-item sk-dashed-wrapped\"><div class=\"sk-label-container\"><div class=\"sk-label sk-toggleable\"><input class=\"sk-toggleable__control sk-hidden--visually\" id=\"sk-estimator-id-8\" type=\"checkbox\" ><label for=\"sk-estimator-id-8\" class=\"sk-toggleable__label sk-toggleable__label-arrow\">RandomizedSearchCV</label><div class=\"sk-toggleable__content\"><pre>RandomizedSearchCV(cv=3,\n",
       "                   estimator=Pipeline(steps=[(&#x27;select&#x27;, SelectKBest(k=5)),\n",
       "                                             (&#x27;clf&#x27;,\n",
       "                                              LogisticRegression(max_iter=1000,\n",
       "                                                                 random_state=202508))]),\n",
       "                   n_jobs=-1,\n",
       "                   param_distributions={&#x27;clf__C&#x27;: [0.001, 0.01, 0.1, 1, 10,\n",
       "                                                   100],\n",
       "                                        &#x27;clf__solver&#x27;: [&#x27;liblinear&#x27;, &#x27;lbfgs&#x27;]},\n",
       "                   random_state=202508, scoring=&#x27;f1&#x27;, verbose=1)</pre></div></div></div><div class=\"sk-parallel\"><div class=\"sk-parallel-item\"><div class=\"sk-item\"><div class=\"sk-label-container\"><div class=\"sk-label sk-toggleable\"><input class=\"sk-toggleable__control sk-hidden--visually\" id=\"sk-estimator-id-9\" type=\"checkbox\" ><label for=\"sk-estimator-id-9\" class=\"sk-toggleable__label sk-toggleable__label-arrow\">estimator: Pipeline</label><div class=\"sk-toggleable__content\"><pre>Pipeline(steps=[(&#x27;select&#x27;, SelectKBest(k=5)),\n",
       "                (&#x27;clf&#x27;,\n",
       "                 LogisticRegression(max_iter=1000, random_state=202508))])</pre></div></div></div><div class=\"sk-serial\"><div class=\"sk-item\"><div class=\"sk-serial\"><div class=\"sk-item\"><div class=\"sk-estimator sk-toggleable\"><input class=\"sk-toggleable__control sk-hidden--visually\" id=\"sk-estimator-id-10\" type=\"checkbox\" ><label for=\"sk-estimator-id-10\" class=\"sk-toggleable__label sk-toggleable__label-arrow\">SelectKBest</label><div class=\"sk-toggleable__content\"><pre>SelectKBest(k=5)</pre></div></div></div><div class=\"sk-item\"><div class=\"sk-estimator sk-toggleable\"><input class=\"sk-toggleable__control sk-hidden--visually\" id=\"sk-estimator-id-11\" type=\"checkbox\" ><label for=\"sk-estimator-id-11\" class=\"sk-toggleable__label sk-toggleable__label-arrow\">LogisticRegression</label><div class=\"sk-toggleable__content\"><pre>LogisticRegression(max_iter=1000, random_state=202508)</pre></div></div></div></div></div></div></div></div></div></div></div></div>"
      ],
      "text/plain": [
       "RandomizedSearchCV(cv=3,\n",
       "                   estimator=Pipeline(steps=[('select', SelectKBest(k=5)),\n",
       "                                             ('clf',\n",
       "                                              LogisticRegression(max_iter=1000,\n",
       "                                                                 random_state=202508))]),\n",
       "                   n_jobs=-1,\n",
       "                   param_distributions={'clf__C': [0.001, 0.01, 0.1, 1, 10,\n",
       "                                                   100],\n",
       "                                        'clf__solver': ['liblinear', 'lbfgs']},\n",
       "                   random_state=202508, scoring='f1', verbose=1)"
      ]
     },
     "execution_count": 84,
     "metadata": {},
     "output_type": "execute_result"
    }
   ],
   "source": [
    "X_train = df_train.drop('class', axis=1)\n",
    "y_train = df_train['class']\n",
    "X_test = df_val.drop('class', axis=1)\n",
    "y_test = df_val['class']\n",
    "\n",
    "pipe = Pipeline([\n",
    "    ('select', SelectKBest(score_func=f_classif, k=5)),\n",
    "    ('clf', LogisticRegression(max_iter=1000, random_state=202508))\n",
    "])\n",
    "\n",
    "param_dist_pipe = {\n",
    "    'clf__C': [0.001, 0.01, 0.1, 1, 10, 100],\n",
    "    'clf__solver': ['liblinear', 'lbfgs'],\n",
    "}\n",
    "\n",
    "random_search = RandomizedSearchCV(\n",
    "    pipe,\n",
    "    param_distributions=param_dist_pipe,\n",
    "    n_iter=10,\n",
    "    scoring='f1',\n",
    "    cv=3,\n",
    "    random_state=202508,\n",
    "    verbose=1,\n",
    "    n_jobs=-1\n",
    ")\n",
    "random_search.fit(X_train, y_train)\n"
   ]
  },
  {
   "cell_type": "markdown",
   "id": "04a5d87f",
   "metadata": {},
   "source": [
    "Ajuste del mejor modelo:"
   ]
  },
  {
   "cell_type": "code",
   "execution_count": 85,
   "id": "77dd0bd8",
   "metadata": {},
   "outputs": [
    {
     "data": {
      "text/html": [
       "<style>#sk-container-id-5 {color: black;}#sk-container-id-5 pre{padding: 0;}#sk-container-id-5 div.sk-toggleable {background-color: white;}#sk-container-id-5 label.sk-toggleable__label {cursor: pointer;display: block;width: 100%;margin-bottom: 0;padding: 0.3em;box-sizing: border-box;text-align: center;}#sk-container-id-5 label.sk-toggleable__label-arrow:before {content: \"▸\";float: left;margin-right: 0.25em;color: #696969;}#sk-container-id-5 label.sk-toggleable__label-arrow:hover:before {color: black;}#sk-container-id-5 div.sk-estimator:hover label.sk-toggleable__label-arrow:before {color: black;}#sk-container-id-5 div.sk-toggleable__content {max-height: 0;max-width: 0;overflow: hidden;text-align: left;background-color: #f0f8ff;}#sk-container-id-5 div.sk-toggleable__content pre {margin: 0.2em;color: black;border-radius: 0.25em;background-color: #f0f8ff;}#sk-container-id-5 input.sk-toggleable__control:checked~div.sk-toggleable__content {max-height: 200px;max-width: 100%;overflow: auto;}#sk-container-id-5 input.sk-toggleable__control:checked~label.sk-toggleable__label-arrow:before {content: \"▾\";}#sk-container-id-5 div.sk-estimator input.sk-toggleable__control:checked~label.sk-toggleable__label {background-color: #d4ebff;}#sk-container-id-5 div.sk-label input.sk-toggleable__control:checked~label.sk-toggleable__label {background-color: #d4ebff;}#sk-container-id-5 input.sk-hidden--visually {border: 0;clip: rect(1px 1px 1px 1px);clip: rect(1px, 1px, 1px, 1px);height: 1px;margin: -1px;overflow: hidden;padding: 0;position: absolute;width: 1px;}#sk-container-id-5 div.sk-estimator {font-family: monospace;background-color: #f0f8ff;border: 1px dotted black;border-radius: 0.25em;box-sizing: border-box;margin-bottom: 0.5em;}#sk-container-id-5 div.sk-estimator:hover {background-color: #d4ebff;}#sk-container-id-5 div.sk-parallel-item::after {content: \"\";width: 100%;border-bottom: 1px solid gray;flex-grow: 1;}#sk-container-id-5 div.sk-label:hover label.sk-toggleable__label {background-color: #d4ebff;}#sk-container-id-5 div.sk-serial::before {content: \"\";position: absolute;border-left: 1px solid gray;box-sizing: border-box;top: 0;bottom: 0;left: 50%;z-index: 0;}#sk-container-id-5 div.sk-serial {display: flex;flex-direction: column;align-items: center;background-color: white;padding-right: 0.2em;padding-left: 0.2em;position: relative;}#sk-container-id-5 div.sk-item {position: relative;z-index: 1;}#sk-container-id-5 div.sk-parallel {display: flex;align-items: stretch;justify-content: center;background-color: white;position: relative;}#sk-container-id-5 div.sk-item::before, #sk-container-id-5 div.sk-parallel-item::before {content: \"\";position: absolute;border-left: 1px solid gray;box-sizing: border-box;top: 0;bottom: 0;left: 50%;z-index: -1;}#sk-container-id-5 div.sk-parallel-item {display: flex;flex-direction: column;z-index: 1;position: relative;background-color: white;}#sk-container-id-5 div.sk-parallel-item:first-child::after {align-self: flex-end;width: 50%;}#sk-container-id-5 div.sk-parallel-item:last-child::after {align-self: flex-start;width: 50%;}#sk-container-id-5 div.sk-parallel-item:only-child::after {width: 0;}#sk-container-id-5 div.sk-dashed-wrapped {border: 1px dashed gray;margin: 0 0.4em 0.5em 0.4em;box-sizing: border-box;padding-bottom: 0.4em;background-color: white;}#sk-container-id-5 div.sk-label label {font-family: monospace;font-weight: bold;display: inline-block;line-height: 1.2em;}#sk-container-id-5 div.sk-label-container {text-align: center;}#sk-container-id-5 div.sk-container {/* jupyter's `normalize.less` sets `[hidden] { display: none; }` but bootstrap.min.css set `[hidden] { display: none !important; }` so we also need the `!important` here to be able to override the default hidden behavior on the sphinx rendered scikit-learn.org. See: https://github.com/scikit-learn/scikit-learn/issues/21755 */display: inline-block !important;position: relative;}#sk-container-id-5 div.sk-text-repr-fallback {display: none;}</style><div id=\"sk-container-id-5\" class=\"sk-top-container\"><div class=\"sk-text-repr-fallback\"><pre>Pipeline(steps=[(&#x27;select&#x27;, SelectKBest(k=5)),\n",
       "                (&#x27;clf&#x27;,\n",
       "                 LogisticRegression(C=1, max_iter=1000, random_state=202508))])</pre><b>In a Jupyter environment, please rerun this cell to show the HTML representation or trust the notebook. <br />On GitHub, the HTML representation is unable to render, please try loading this page with nbviewer.org.</b></div><div class=\"sk-container\" hidden><div class=\"sk-item sk-dashed-wrapped\"><div class=\"sk-label-container\"><div class=\"sk-label sk-toggleable\"><input class=\"sk-toggleable__control sk-hidden--visually\" id=\"sk-estimator-id-12\" type=\"checkbox\" ><label for=\"sk-estimator-id-12\" class=\"sk-toggleable__label sk-toggleable__label-arrow\">Pipeline</label><div class=\"sk-toggleable__content\"><pre>Pipeline(steps=[(&#x27;select&#x27;, SelectKBest(k=5)),\n",
       "                (&#x27;clf&#x27;,\n",
       "                 LogisticRegression(C=1, max_iter=1000, random_state=202508))])</pre></div></div></div><div class=\"sk-serial\"><div class=\"sk-item\"><div class=\"sk-estimator sk-toggleable\"><input class=\"sk-toggleable__control sk-hidden--visually\" id=\"sk-estimator-id-13\" type=\"checkbox\" ><label for=\"sk-estimator-id-13\" class=\"sk-toggleable__label sk-toggleable__label-arrow\">SelectKBest</label><div class=\"sk-toggleable__content\"><pre>SelectKBest(k=5)</pre></div></div></div><div class=\"sk-item\"><div class=\"sk-estimator sk-toggleable\"><input class=\"sk-toggleable__control sk-hidden--visually\" id=\"sk-estimator-id-14\" type=\"checkbox\" ><label for=\"sk-estimator-id-14\" class=\"sk-toggleable__label sk-toggleable__label-arrow\">LogisticRegression</label><div class=\"sk-toggleable__content\"><pre>LogisticRegression(C=1, max_iter=1000, random_state=202508)</pre></div></div></div></div></div></div></div>"
      ],
      "text/plain": [
       "Pipeline(steps=[('select', SelectKBest(k=5)),\n",
       "                ('clf',\n",
       "                 LogisticRegression(C=1, max_iter=1000, random_state=202508))])"
      ]
     },
     "execution_count": 85,
     "metadata": {},
     "output_type": "execute_result"
    }
   ],
   "source": [
    "# Mejor modelo\n",
    "best_model = random_search.best_estimator_\n",
    "y_pred = best_model.predict(X_test)\n",
    "y_proba = best_model.predict_proba(X_test)[:, 1]\n",
    "best_model"
   ]
  },
  {
   "cell_type": "markdown",
   "id": "084d6afa",
   "metadata": {},
   "source": [
    "Curva roc para el ajuste del modelo de entrenamiento:"
   ]
  },
  {
   "cell_type": "code",
   "execution_count": null,
   "id": "6188fb2a",
   "metadata": {},
   "outputs": [
    {
     "data": {
      "image/png": "[encoded data removed]",
      "text/plain": [
       "<Figure size 800x600 with 1 Axes>"
      ]
     },
     "metadata": {},
     "output_type": "display_data"
    }
   ],
   "source": [
    "\n",
    "# Curva ROC\n",
    "fpr, tpr, _ = roc_curve(y_test, y_proba)\n",
    "plt.figure(figsize=(8,6))\n",
    "plt.plot(fpr, tpr, label=f'AUC = {roc_auc_score(y_test, y_proba):.3f}')\n",
    "plt.plot([0,1], [0,1], 'k--')\n",
    "plt.xlabel('FPR')\n",
    "plt.ylabel('TPR')\n",
    "plt.title('Curva ROC')\n",
    "plt.legend()\n",
    "plt.grid(True)\n",
    "plt.show()"
   ]
  },
  {
   "cell_type": "markdown",
   "id": "41198ca2",
   "metadata": {},
   "source": [
    "Matriz de confusión"
   ]
  },
  {
   "cell_type": "code",
   "execution_count": 87,
   "id": "480df494",
   "metadata": {},
   "outputs": [
    {
     "data": {
      "image/png": "[encoded data removed]",
      "text/plain": [
       "<Figure size 600x500 with 2 Axes>"
      ]
     },
     "metadata": {},
     "output_type": "display_data"
    }
   ],
   "source": [
    "\n",
    "# Matriz de confusión bonita\n",
    "cm = confusion_matrix(y_test, y_pred)\n",
    "plt.figure(figsize=(6,5))\n",
    "sns.heatmap(cm, annot=True, fmt='d', cmap='Blues', xticklabels=['No Fraude', 'Fraude'], yticklabels=['No Fraude', 'Fraude'])\n",
    "plt.xlabel('Predicción')\n",
    "plt.ylabel('Real')\n",
    "plt.title('Matriz de Confusión')\n",
    "plt.show()"
   ]
  },
  {
   "cell_type": "code",
   "execution_count": 88,
   "id": "1e0dc6d9",
   "metadata": {},
   "outputs": [
    {
     "name": "stdout",
     "output_type": "stream",
     "text": [
      "Reporte de clasificación:\n"
     ]
    },
    {
     "data": {
      "text/html": [
       "<style type=\"text/css\">\n",
       "#T_e3aca_row0_col0, #T_e3aca_row0_col1, #T_e3aca_row0_col2, #T_e3aca_row0_col3, #T_e3aca_row2_col1, #T_e3aca_row3_col3, #T_e3aca_row4_col0, #T_e3aca_row4_col1, #T_e3aca_row4_col2, #T_e3aca_row4_col3 {\n",
       "  background-color: #08306b;\n",
       "  color: #f1f1f1;\n",
       "}\n",
       "#T_e3aca_row1_col0, #T_e3aca_row1_col1, #T_e3aca_row1_col2, #T_e3aca_row1_col3, #T_e3aca_row2_col3 {\n",
       "  background-color: #f7fbff;\n",
       "  color: #000000;\n",
       "}\n",
       "#T_e3aca_row2_col0 {\n",
       "  background-color: #083370;\n",
       "  color: #f1f1f1;\n",
       "}\n",
       "#T_e3aca_row2_col2 {\n",
       "  background-color: #08326e;\n",
       "  color: #f1f1f1;\n",
       "}\n",
       "#T_e3aca_row3_col0, #T_e3aca_row3_col1, #T_e3aca_row3_col2 {\n",
       "  background-color: #6aaed6;\n",
       "  color: #f1f1f1;\n",
       "}\n",
       "</style>\n",
       "<table id=\"T_e3aca\">\n",
       "  <thead>\n",
       "    <tr>\n",
       "      <th class=\"blank level0\" >&nbsp;</th>\n",
       "      <th id=\"T_e3aca_level0_col0\" class=\"col_heading level0 col0\" >precision</th>\n",
       "      <th id=\"T_e3aca_level0_col1\" class=\"col_heading level0 col1\" >recall</th>\n",
       "      <th id=\"T_e3aca_level0_col2\" class=\"col_heading level0 col2\" >f1-score</th>\n",
       "      <th id=\"T_e3aca_level0_col3\" class=\"col_heading level0 col3\" >support</th>\n",
       "    </tr>\n",
       "  </thead>\n",
       "  <tbody>\n",
       "    <tr>\n",
       "      <th id=\"T_e3aca_level0_row0\" class=\"row_heading level0 row0\" >0</th>\n",
       "      <td id=\"T_e3aca_row0_col0\" class=\"data row0 col0\" >1.000</td>\n",
       "      <td id=\"T_e3aca_row0_col1\" class=\"data row0 col1\" >0.986</td>\n",
       "      <td id=\"T_e3aca_row0_col2\" class=\"data row0 col2\" >0.993</td>\n",
       "      <td id=\"T_e3aca_row0_col3\" class=\"data row0 col3\" >56651.000</td>\n",
       "    </tr>\n",
       "    <tr>\n",
       "      <th id=\"T_e3aca_level0_row1\" class=\"row_heading level0 row1\" >1</th>\n",
       "      <td id=\"T_e3aca_row1_col0\" class=\"data row1 col0\" >0.092</td>\n",
       "      <td id=\"T_e3aca_row1_col1\" class=\"data row1 col1\" >0.853</td>\n",
       "      <td id=\"T_e3aca_row1_col2\" class=\"data row1 col2\" >0.165</td>\n",
       "      <td id=\"T_e3aca_row1_col3\" class=\"data row1 col3\" >95.000</td>\n",
       "    </tr>\n",
       "    <tr>\n",
       "      <th id=\"T_e3aca_level0_row2\" class=\"row_heading level0 row2\" >accuracy</th>\n",
       "      <td id=\"T_e3aca_row2_col0\" class=\"data row2 col0\" >0.986</td>\n",
       "      <td id=\"T_e3aca_row2_col1\" class=\"data row2 col1\" >0.986</td>\n",
       "      <td id=\"T_e3aca_row2_col2\" class=\"data row2 col2\" >0.986</td>\n",
       "      <td id=\"T_e3aca_row2_col3\" class=\"data row2 col3\" >0.986</td>\n",
       "    </tr>\n",
       "    <tr>\n",
       "      <th id=\"T_e3aca_level0_row3\" class=\"row_heading level0 row3\" >macro avg</th>\n",
       "      <td id=\"T_e3aca_row3_col0\" class=\"data row3 col0\" >0.546</td>\n",
       "      <td id=\"T_e3aca_row3_col1\" class=\"data row3 col1\" >0.919</td>\n",
       "      <td id=\"T_e3aca_row3_col2\" class=\"data row3 col2\" >0.579</td>\n",
       "      <td id=\"T_e3aca_row3_col3\" class=\"data row3 col3\" >56746.000</td>\n",
       "    </tr>\n",
       "    <tr>\n",
       "      <th id=\"T_e3aca_level0_row4\" class=\"row_heading level0 row4\" >weighted avg</th>\n",
       "      <td id=\"T_e3aca_row4_col0\" class=\"data row4 col0\" >0.998</td>\n",
       "      <td id=\"T_e3aca_row4_col1\" class=\"data row4 col1\" >0.986</td>\n",
       "      <td id=\"T_e3aca_row4_col2\" class=\"data row4 col2\" >0.991</td>\n",
       "      <td id=\"T_e3aca_row4_col3\" class=\"data row4 col3\" >56746.000</td>\n",
       "    </tr>\n",
       "  </tbody>\n",
       "</table>\n"
      ],
      "text/plain": [
       "<pandas.io.formats.style.Styler at 0x23f81e89100>"
      ]
     },
     "metadata": {},
     "output_type": "display_data"
    }
   ],
   "source": [
    "from IPython.display import display\n",
    "\n",
    "# Genera el reporte como diccionario\n",
    "report_dict = classification_report(y_test, y_pred, digits=3, output_dict=True)\n",
    "report_df = pd.DataFrame(report_dict).transpose()\n",
    "\n",
    "# Redondea y muestra como tabla bonita\n",
    "print(\"Reporte de clasificación:\")\n",
    "display(report_df.style.format(\"{:.3f}\").background_gradient(cmap='Blues'))\n"
   ]
  },
  {
   "cell_type": "markdown",
   "id": "49b82a79",
   "metadata": {},
   "source": [
    "Dado que en este caso la señal de que el modelo funciona bien es el **f1-score** sobre la detección del fraude, se utilizara esta métrica para comparar cual modelo es mejor para detectarlo "
   ]
  },
  {
   "cell_type": "code",
   "execution_count": 89,
   "id": "435af09e",
   "metadata": {},
   "outputs": [
    {
     "data": {
      "text/html": [
       "<div>\n",
       "<style scoped>\n",
       "    .dataframe tbody tr th:only-of-type {\n",
       "        vertical-align: middle;\n",
       "    }\n",
       "\n",
       "    .dataframe tbody tr th {\n",
       "        vertical-align: top;\n",
       "    }\n",
       "\n",
       "    .dataframe thead th {\n",
       "        text-align: right;\n",
       "    }\n",
       "</style>\n",
       "<table border=\"1\" class=\"dataframe\">\n",
       "  <thead>\n",
       "    <tr style=\"text-align: right;\">\n",
       "      <th></th>\n",
       "      <th>Modelo</th>\n",
       "      <th>f1_score_fraudes</th>\n",
       "    </tr>\n",
       "  </thead>\n",
       "  <tbody>\n",
       "    <tr>\n",
       "      <th>0</th>\n",
       "      <td>regresion_logistica+PCA</td>\n",
       "      <td>0.17</td>\n",
       "    </tr>\n",
       "  </tbody>\n",
       "</table>\n",
       "</div>"
      ],
      "text/plain": [
       "                    Modelo  f1_score_fraudes\n",
       "0  regresion_logistica+PCA              0.17"
      ]
     },
     "execution_count": 89,
     "metadata": {},
     "output_type": "execute_result"
    }
   ],
   "source": [
    "# Guarda el modelo entrenado en un DataFrame\n",
    "modelos=[]\n",
    "f1_score_fraudes=[]\n",
    "modelos.append('regresion_logistica+PCA')\n",
    "f1_score_fraudes.append(np.round(report_df['f1-score']['1'],2))\n",
    "pd.DataFrame({\n",
    "    'Modelo': modelos,\n",
    "    'f1_score_fraudes': f1_score_fraudes\n",
    "})"
   ]
  },
  {
   "cell_type": "markdown",
   "id": "bbba1881",
   "metadata": {},
   "source": [
    "### <span style = 'color: green'>**3.1.2**</span> Modelación basado ajuste PCA-Equilibrio-Randomforest:"
   ]
  },
  {
   "cell_type": "markdown",
   "id": "0d7b04f1",
   "metadata": {},
   "source": [
    "Dado que ya se encuentra normalizado el dataset y equilibrado para datos desbalanceados se pasara a correr modelos"
   ]
  },
  {
   "cell_type": "code",
   "execution_count": 90,
   "id": "990ae7ea",
   "metadata": {},
   "outputs": [
    {
     "name": "stdout",
     "output_type": "stream",
     "text": [
      "Fitting 3 folds for each of 2 candidates, totalling 6 fits\n"
     ]
    },
    {
     "data": {
      "text/html": [
       "<style>#sk-container-id-6 {color: black;}#sk-container-id-6 pre{padding: 0;}#sk-container-id-6 div.sk-toggleable {background-color: white;}#sk-container-id-6 label.sk-toggleable__label {cursor: pointer;display: block;width: 100%;margin-bottom: 0;padding: 0.3em;box-sizing: border-box;text-align: center;}#sk-container-id-6 label.sk-toggleable__label-arrow:before {content: \"▸\";float: left;margin-right: 0.25em;color: #696969;}#sk-container-id-6 label.sk-toggleable__label-arrow:hover:before {color: black;}#sk-container-id-6 div.sk-estimator:hover label.sk-toggleable__label-arrow:before {color: black;}#sk-container-id-6 div.sk-toggleable__content {max-height: 0;max-width: 0;overflow: hidden;text-align: left;background-color: #f0f8ff;}#sk-container-id-6 div.sk-toggleable__content pre {margin: 0.2em;color: black;border-radius: 0.25em;background-color: #f0f8ff;}#sk-container-id-6 input.sk-toggleable__control:checked~div.sk-toggleable__content {max-height: 200px;max-width: 100%;overflow: auto;}#sk-container-id-6 input.sk-toggleable__control:checked~label.sk-toggleable__label-arrow:before {content: \"▾\";}#sk-container-id-6 div.sk-estimator input.sk-toggleable__control:checked~label.sk-toggleable__label {background-color: #d4ebff;}#sk-container-id-6 div.sk-label input.sk-toggleable__control:checked~label.sk-toggleable__label {background-color: #d4ebff;}#sk-container-id-6 input.sk-hidden--visually {border: 0;clip: rect(1px 1px 1px 1px);clip: rect(1px, 1px, 1px, 1px);height: 1px;margin: -1px;overflow: hidden;padding: 0;position: absolute;width: 1px;}#sk-container-id-6 div.sk-estimator {font-family: monospace;background-color: #f0f8ff;border: 1px dotted black;border-radius: 0.25em;box-sizing: border-box;margin-bottom: 0.5em;}#sk-container-id-6 div.sk-estimator:hover {background-color: #d4ebff;}#sk-container-id-6 div.sk-parallel-item::after {content: \"\";width: 100%;border-bottom: 1px solid gray;flex-grow: 1;}#sk-container-id-6 div.sk-label:hover label.sk-toggleable__label {background-color: #d4ebff;}#sk-container-id-6 div.sk-serial::before {content: \"\";position: absolute;border-left: 1px solid gray;box-sizing: border-box;top: 0;bottom: 0;left: 50%;z-index: 0;}#sk-container-id-6 div.sk-serial {display: flex;flex-direction: column;align-items: center;background-color: white;padding-right: 0.2em;padding-left: 0.2em;position: relative;}#sk-container-id-6 div.sk-item {position: relative;z-index: 1;}#sk-container-id-6 div.sk-parallel {display: flex;align-items: stretch;justify-content: center;background-color: white;position: relative;}#sk-container-id-6 div.sk-item::before, #sk-container-id-6 div.sk-parallel-item::before {content: \"\";position: absolute;border-left: 1px solid gray;box-sizing: border-box;top: 0;bottom: 0;left: 50%;z-index: -1;}#sk-container-id-6 div.sk-parallel-item {display: flex;flex-direction: column;z-index: 1;position: relative;background-color: white;}#sk-container-id-6 div.sk-parallel-item:first-child::after {align-self: flex-end;width: 50%;}#sk-container-id-6 div.sk-parallel-item:last-child::after {align-self: flex-start;width: 50%;}#sk-container-id-6 div.sk-parallel-item:only-child::after {width: 0;}#sk-container-id-6 div.sk-dashed-wrapped {border: 1px dashed gray;margin: 0 0.4em 0.5em 0.4em;box-sizing: border-box;padding-bottom: 0.4em;background-color: white;}#sk-container-id-6 div.sk-label label {font-family: monospace;font-weight: bold;display: inline-block;line-height: 1.2em;}#sk-container-id-6 div.sk-label-container {text-align: center;}#sk-container-id-6 div.sk-container {/* jupyter's `normalize.less` sets `[hidden] { display: none; }` but bootstrap.min.css set `[hidden] { display: none !important; }` so we also need the `!important` here to be able to override the default hidden behavior on the sphinx rendered scikit-learn.org. See: https://github.com/scikit-learn/scikit-learn/issues/21755 */display: inline-block !important;position: relative;}#sk-container-id-6 div.sk-text-repr-fallback {display: none;}</style><div id=\"sk-container-id-6\" class=\"sk-top-container\"><div class=\"sk-text-repr-fallback\"><pre>RandomizedSearchCV(cv=3,\n",
       "                   estimator=Pipeline(steps=[(&#x27;select&#x27;,\n",
       "                                              SelectKBest(k=5,\n",
       "                                                          score_func=&lt;function mutual_info_classif at 0x0000023F81DD8790&gt;)),\n",
       "                                             (&#x27;clf&#x27;,\n",
       "                                              RandomForestClassifier(random_state=202508))]),\n",
       "                   n_iter=2, n_jobs=-1,\n",
       "                   param_distributions={&#x27;clf__max_depth&#x27;: [None, 10],\n",
       "                                        &#x27;clf__n_estimators&#x27;: [100, 200]},\n",
       "                   random_state=202508, scoring=&#x27;f1&#x27;, verbose=1)</pre><b>In a Jupyter environment, please rerun this cell to show the HTML representation or trust the notebook. <br />On GitHub, the HTML representation is unable to render, please try loading this page with nbviewer.org.</b></div><div class=\"sk-container\" hidden><div class=\"sk-item sk-dashed-wrapped\"><div class=\"sk-label-container\"><div class=\"sk-label sk-toggleable\"><input class=\"sk-toggleable__control sk-hidden--visually\" id=\"sk-estimator-id-15\" type=\"checkbox\" ><label for=\"sk-estimator-id-15\" class=\"sk-toggleable__label sk-toggleable__label-arrow\">RandomizedSearchCV</label><div class=\"sk-toggleable__content\"><pre>RandomizedSearchCV(cv=3,\n",
       "                   estimator=Pipeline(steps=[(&#x27;select&#x27;,\n",
       "                                              SelectKBest(k=5,\n",
       "                                                          score_func=&lt;function mutual_info_classif at 0x0000023F81DD8790&gt;)),\n",
       "                                             (&#x27;clf&#x27;,\n",
       "                                              RandomForestClassifier(random_state=202508))]),\n",
       "                   n_iter=2, n_jobs=-1,\n",
       "                   param_distributions={&#x27;clf__max_depth&#x27;: [None, 10],\n",
       "                                        &#x27;clf__n_estimators&#x27;: [100, 200]},\n",
       "                   random_state=202508, scoring=&#x27;f1&#x27;, verbose=1)</pre></div></div></div><div class=\"sk-parallel\"><div class=\"sk-parallel-item\"><div class=\"sk-item\"><div class=\"sk-label-container\"><div class=\"sk-label sk-toggleable\"><input class=\"sk-toggleable__control sk-hidden--visually\" id=\"sk-estimator-id-16\" type=\"checkbox\" ><label for=\"sk-estimator-id-16\" class=\"sk-toggleable__label sk-toggleable__label-arrow\">estimator: Pipeline</label><div class=\"sk-toggleable__content\"><pre>Pipeline(steps=[(&#x27;select&#x27;,\n",
       "                 SelectKBest(k=5,\n",
       "                             score_func=&lt;function mutual_info_classif at 0x0000023F81DD8790&gt;)),\n",
       "                (&#x27;clf&#x27;, RandomForestClassifier(random_state=202508))])</pre></div></div></div><div class=\"sk-serial\"><div class=\"sk-item\"><div class=\"sk-serial\"><div class=\"sk-item\"><div class=\"sk-estimator sk-toggleable\"><input class=\"sk-toggleable__control sk-hidden--visually\" id=\"sk-estimator-id-17\" type=\"checkbox\" ><label for=\"sk-estimator-id-17\" class=\"sk-toggleable__label sk-toggleable__label-arrow\">SelectKBest</label><div class=\"sk-toggleable__content\"><pre>SelectKBest(k=5,\n",
       "            score_func=&lt;function mutual_info_classif at 0x0000023F81DD8790&gt;)</pre></div></div></div><div class=\"sk-item\"><div class=\"sk-estimator sk-toggleable\"><input class=\"sk-toggleable__control sk-hidden--visually\" id=\"sk-estimator-id-18\" type=\"checkbox\" ><label for=\"sk-estimator-id-18\" class=\"sk-toggleable__label sk-toggleable__label-arrow\">RandomForestClassifier</label><div class=\"sk-toggleable__content\"><pre>RandomForestClassifier(random_state=202508)</pre></div></div></div></div></div></div></div></div></div></div></div></div>"
      ],
      "text/plain": [
       "RandomizedSearchCV(cv=3,\n",
       "                   estimator=Pipeline(steps=[('select',\n",
       "                                              SelectKBest(k=5,\n",
       "                                                          score_func=<function mutual_info_classif at 0x0000023F81DD8790>)),\n",
       "                                             ('clf',\n",
       "                                              RandomForestClassifier(random_state=202508))]),\n",
       "                   n_iter=2, n_jobs=-1,\n",
       "                   param_distributions={'clf__max_depth': [None, 10],\n",
       "                                        'clf__n_estimators': [100, 200]},\n",
       "                   random_state=202508, scoring='f1', verbose=1)"
      ]
     },
     "execution_count": 90,
     "metadata": {},
     "output_type": "execute_result"
    }
   ],
   "source": [
    "from sklearn.ensemble import RandomForestClassifier\n",
    "from sklearn.feature_selection import SelectKBest, mutual_info_classif\n",
    "from sklearn.pipeline import Pipeline\n",
    "\n",
    "pipe_rf = Pipeline([\n",
    "    ('select', SelectKBest(score_func=mutual_info_classif, k=5)),\n",
    "    ('clf', RandomForestClassifier(random_state=202508))\n",
    "])\n",
    "\n",
    "param_dist_rf = {\n",
    "    'clf__n_estimators': [100, 200],\n",
    "    'clf__max_depth': [None, 10]\n",
    "}\n",
    "\n",
    "random_search_rf = RandomizedSearchCV(\n",
    "    pipe_rf,\n",
    "    param_distributions=param_dist_rf,\n",
    "    n_iter=2,\n",
    "    scoring='f1',\n",
    "    cv=3,\n",
    "    random_state=202508,\n",
    "    verbose=1,\n",
    "    n_jobs=-1\n",
    ")\n",
    "\n",
    "random_search_rf.fit(X_train, y_train)\n"
   ]
  },
  {
   "cell_type": "markdown",
   "id": "069025a2",
   "metadata": {},
   "source": [
    "Ajuste del mejor modelo:"
   ]
  },
  {
   "cell_type": "code",
   "execution_count": 91,
   "id": "9ca4f8d1",
   "metadata": {},
   "outputs": [
    {
     "data": {
      "text/html": [
       "<style>#sk-container-id-7 {color: black;}#sk-container-id-7 pre{padding: 0;}#sk-container-id-7 div.sk-toggleable {background-color: white;}#sk-container-id-7 label.sk-toggleable__label {cursor: pointer;display: block;width: 100%;margin-bottom: 0;padding: 0.3em;box-sizing: border-box;text-align: center;}#sk-container-id-7 label.sk-toggleable__label-arrow:before {content: \"▸\";float: left;margin-right: 0.25em;color: #696969;}#sk-container-id-7 label.sk-toggleable__label-arrow:hover:before {color: black;}#sk-container-id-7 div.sk-estimator:hover label.sk-toggleable__label-arrow:before {color: black;}#sk-container-id-7 div.sk-toggleable__content {max-height: 0;max-width: 0;overflow: hidden;text-align: left;background-color: #f0f8ff;}#sk-container-id-7 div.sk-toggleable__content pre {margin: 0.2em;color: black;border-radius: 0.25em;background-color: #f0f8ff;}#sk-container-id-7 input.sk-toggleable__control:checked~div.sk-toggleable__content {max-height: 200px;max-width: 100%;overflow: auto;}#sk-container-id-7 input.sk-toggleable__control:checked~label.sk-toggleable__label-arrow:before {content: \"▾\";}#sk-container-id-7 div.sk-estimator input.sk-toggleable__control:checked~label.sk-toggleable__label {background-color: #d4ebff;}#sk-container-id-7 div.sk-label input.sk-toggleable__control:checked~label.sk-toggleable__label {background-color: #d4ebff;}#sk-container-id-7 input.sk-hidden--visually {border: 0;clip: rect(1px 1px 1px 1px);clip: rect(1px, 1px, 1px, 1px);height: 1px;margin: -1px;overflow: hidden;padding: 0;position: absolute;width: 1px;}#sk-container-id-7 div.sk-estimator {font-family: monospace;background-color: #f0f8ff;border: 1px dotted black;border-radius: 0.25em;box-sizing: border-box;margin-bottom: 0.5em;}#sk-container-id-7 div.sk-estimator:hover {background-color: #d4ebff;}#sk-container-id-7 div.sk-parallel-item::after {content: \"\";width: 100%;border-bottom: 1px solid gray;flex-grow: 1;}#sk-container-id-7 div.sk-label:hover label.sk-toggleable__label {background-color: #d4ebff;}#sk-container-id-7 div.sk-serial::before {content: \"\";position: absolute;border-left: 1px solid gray;box-sizing: border-box;top: 0;bottom: 0;left: 50%;z-index: 0;}#sk-container-id-7 div.sk-serial {display: flex;flex-direction: column;align-items: center;background-color: white;padding-right: 0.2em;padding-left: 0.2em;position: relative;}#sk-container-id-7 div.sk-item {position: relative;z-index: 1;}#sk-container-id-7 div.sk-parallel {display: flex;align-items: stretch;justify-content: center;background-color: white;position: relative;}#sk-container-id-7 div.sk-item::before, #sk-container-id-7 div.sk-parallel-item::before {content: \"\";position: absolute;border-left: 1px solid gray;box-sizing: border-box;top: 0;bottom: 0;left: 50%;z-index: -1;}#sk-container-id-7 div.sk-parallel-item {display: flex;flex-direction: column;z-index: 1;position: relative;background-color: white;}#sk-container-id-7 div.sk-parallel-item:first-child::after {align-self: flex-end;width: 50%;}#sk-container-id-7 div.sk-parallel-item:last-child::after {align-self: flex-start;width: 50%;}#sk-container-id-7 div.sk-parallel-item:only-child::after {width: 0;}#sk-container-id-7 div.sk-dashed-wrapped {border: 1px dashed gray;margin: 0 0.4em 0.5em 0.4em;box-sizing: border-box;padding-bottom: 0.4em;background-color: white;}#sk-container-id-7 div.sk-label label {font-family: monospace;font-weight: bold;display: inline-block;line-height: 1.2em;}#sk-container-id-7 div.sk-label-container {text-align: center;}#sk-container-id-7 div.sk-container {/* jupyter's `normalize.less` sets `[hidden] { display: none; }` but bootstrap.min.css set `[hidden] { display: none !important; }` so we also need the `!important` here to be able to override the default hidden behavior on the sphinx rendered scikit-learn.org. See: https://github.com/scikit-learn/scikit-learn/issues/21755 */display: inline-block !important;position: relative;}#sk-container-id-7 div.sk-text-repr-fallback {display: none;}</style><div id=\"sk-container-id-7\" class=\"sk-top-container\"><div class=\"sk-text-repr-fallback\"><pre>Pipeline(steps=[(&#x27;select&#x27;,\n",
       "                 SelectKBest(k=5,\n",
       "                             score_func=&lt;function mutual_info_classif at 0x0000023F81DD8790&gt;)),\n",
       "                (&#x27;clf&#x27;, RandomForestClassifier(random_state=202508))])</pre><b>In a Jupyter environment, please rerun this cell to show the HTML representation or trust the notebook. <br />On GitHub, the HTML representation is unable to render, please try loading this page with nbviewer.org.</b></div><div class=\"sk-container\" hidden><div class=\"sk-item sk-dashed-wrapped\"><div class=\"sk-label-container\"><div class=\"sk-label sk-toggleable\"><input class=\"sk-toggleable__control sk-hidden--visually\" id=\"sk-estimator-id-19\" type=\"checkbox\" ><label for=\"sk-estimator-id-19\" class=\"sk-toggleable__label sk-toggleable__label-arrow\">Pipeline</label><div class=\"sk-toggleable__content\"><pre>Pipeline(steps=[(&#x27;select&#x27;,\n",
       "                 SelectKBest(k=5,\n",
       "                             score_func=&lt;function mutual_info_classif at 0x0000023F81DD8790&gt;)),\n",
       "                (&#x27;clf&#x27;, RandomForestClassifier(random_state=202508))])</pre></div></div></div><div class=\"sk-serial\"><div class=\"sk-item\"><div class=\"sk-estimator sk-toggleable\"><input class=\"sk-toggleable__control sk-hidden--visually\" id=\"sk-estimator-id-20\" type=\"checkbox\" ><label for=\"sk-estimator-id-20\" class=\"sk-toggleable__label sk-toggleable__label-arrow\">SelectKBest</label><div class=\"sk-toggleable__content\"><pre>SelectKBest(k=5,\n",
       "            score_func=&lt;function mutual_info_classif at 0x0000023F81DD8790&gt;)</pre></div></div></div><div class=\"sk-item\"><div class=\"sk-estimator sk-toggleable\"><input class=\"sk-toggleable__control sk-hidden--visually\" id=\"sk-estimator-id-21\" type=\"checkbox\" ><label for=\"sk-estimator-id-21\" class=\"sk-toggleable__label sk-toggleable__label-arrow\">RandomForestClassifier</label><div class=\"sk-toggleable__content\"><pre>RandomForestClassifier(random_state=202508)</pre></div></div></div></div></div></div></div>"
      ],
      "text/plain": [
       "Pipeline(steps=[('select',\n",
       "                 SelectKBest(k=5,\n",
       "                             score_func=<function mutual_info_classif at 0x0000023F81DD8790>)),\n",
       "                ('clf', RandomForestClassifier(random_state=202508))])"
      ]
     },
     "execution_count": 91,
     "metadata": {},
     "output_type": "execute_result"
    }
   ],
   "source": [
    "# Mejor modelo\n",
    "best_model = random_search_rf.best_estimator_\n",
    "y_pred = best_model.predict(X_test)\n",
    "y_proba = best_model.predict_proba(X_test)[:, 1]\n",
    "best_model"
   ]
  },
  {
   "cell_type": "markdown",
   "id": "e88aa5e0",
   "metadata": {},
   "source": [
    "Curva roc para el ajuste del modelo de entrenamiento:"
   ]
  },
  {
   "cell_type": "code",
   "execution_count": null,
   "id": "8aa0d7fe",
   "metadata": {},
   "outputs": [
    {
     "data": {
      "image/png": "[encoded data removed]",
      "text/plain": [
       "<Figure size 800x600 with 1 Axes>"
      ]
     },
     "metadata": {},
     "output_type": "display_data"
    }
   ],
   "source": [
    "\n",
    "# Curva ROC\n",
    "fpr, tpr, _ = roc_curve(y_test, y_proba)\n",
    "plt.figure(figsize=(8,6))\n",
    "plt.plot(fpr, tpr, label=f'AUC = {roc_auc_score(y_test, y_proba):.3f}')\n",
    "plt.plot([0,1], [0,1], 'k--')\n",
    "plt.xlabel('FPR')\n",
    "plt.ylabel('TPR')\n",
    "plt.title('Curva ROC')\n",
    "plt.legend()\n",
    "plt.grid(True)\n",
    "plt.show()"
   ]
  },
  {
   "cell_type": "markdown",
   "id": "2b137165",
   "metadata": {},
   "source": [
    "Matriz de confusión"
   ]
  },
  {
   "cell_type": "code",
   "execution_count": 93,
   "id": "1342cf54",
   "metadata": {},
   "outputs": [
    {
     "data": {
      "image/png": "[encoded data removed]",
      "text/plain": [
       "<Figure size 600x500 with 2 Axes>"
      ]
     },
     "metadata": {},
     "output_type": "display_data"
    }
   ],
   "source": [
    "\n",
    "# Matriz de confusión bonita\n",
    "cm = confusion_matrix(y_test, y_pred)\n",
    "plt.figure(figsize=(6,5))\n",
    "sns.heatmap(cm, annot=True, fmt='d', cmap='Blues', xticklabels=['No Fraude', 'Fraude'], yticklabels=['No Fraude', 'Fraude'])\n",
    "plt.xlabel('Predicción')\n",
    "plt.ylabel('Real')\n",
    "plt.title('Matriz de Confusión')\n",
    "plt.show()"
   ]
  },
  {
   "cell_type": "code",
   "execution_count": 94,
   "id": "cb3a0a93",
   "metadata": {},
   "outputs": [
    {
     "name": "stdout",
     "output_type": "stream",
     "text": [
      "Reporte de clasificación:\n"
     ]
    },
    {
     "data": {
      "text/html": [
       "<style type=\"text/css\">\n",
       "#T_c8aec_row0_col0, #T_c8aec_row0_col1, #T_c8aec_row0_col2, #T_c8aec_row0_col3, #T_c8aec_row2_col1, #T_c8aec_row2_col2, #T_c8aec_row3_col3, #T_c8aec_row4_col0, #T_c8aec_row4_col1, #T_c8aec_row4_col2, #T_c8aec_row4_col3 {\n",
       "  background-color: #08306b;\n",
       "  color: #f1f1f1;\n",
       "}\n",
       "#T_c8aec_row1_col0, #T_c8aec_row1_col1, #T_c8aec_row1_col2, #T_c8aec_row1_col3, #T_c8aec_row2_col3 {\n",
       "  background-color: #f7fbff;\n",
       "  color: #000000;\n",
       "}\n",
       "#T_c8aec_row2_col0 {\n",
       "  background-color: #08316d;\n",
       "  color: #f1f1f1;\n",
       "}\n",
       "#T_c8aec_row3_col0, #T_c8aec_row3_col2 {\n",
       "  background-color: #6caed6;\n",
       "  color: #f1f1f1;\n",
       "}\n",
       "#T_c8aec_row3_col1 {\n",
       "  background-color: #6aaed6;\n",
       "  color: #f1f1f1;\n",
       "}\n",
       "</style>\n",
       "<table id=\"T_c8aec\">\n",
       "  <thead>\n",
       "    <tr>\n",
       "      <th class=\"blank level0\" >&nbsp;</th>\n",
       "      <th id=\"T_c8aec_level0_col0\" class=\"col_heading level0 col0\" >precision</th>\n",
       "      <th id=\"T_c8aec_level0_col1\" class=\"col_heading level0 col1\" >recall</th>\n",
       "      <th id=\"T_c8aec_level0_col2\" class=\"col_heading level0 col2\" >f1-score</th>\n",
       "      <th id=\"T_c8aec_level0_col3\" class=\"col_heading level0 col3\" >support</th>\n",
       "    </tr>\n",
       "  </thead>\n",
       "  <tbody>\n",
       "    <tr>\n",
       "      <th id=\"T_c8aec_level0_row0\" class=\"row_heading level0 row0\" >0</th>\n",
       "      <td id=\"T_c8aec_row0_col0\" class=\"data row0 col0\" >1.000</td>\n",
       "      <td id=\"T_c8aec_row0_col1\" class=\"data row0 col1\" >0.997</td>\n",
       "      <td id=\"T_c8aec_row0_col2\" class=\"data row0 col2\" >0.999</td>\n",
       "      <td id=\"T_c8aec_row0_col3\" class=\"data row0 col3\" >56651.000</td>\n",
       "    </tr>\n",
       "    <tr>\n",
       "      <th id=\"T_c8aec_level0_row1\" class=\"row_heading level0 row1\" >1</th>\n",
       "      <td id=\"T_c8aec_row1_col0\" class=\"data row1 col0\" >0.351</td>\n",
       "      <td id=\"T_c8aec_row1_col1\" class=\"data row1 col1\" >0.821</td>\n",
       "      <td id=\"T_c8aec_row1_col2\" class=\"data row1 col2\" >0.492</td>\n",
       "      <td id=\"T_c8aec_row1_col3\" class=\"data row1 col3\" >95.000</td>\n",
       "    </tr>\n",
       "    <tr>\n",
       "      <th id=\"T_c8aec_level0_row2\" class=\"row_heading level0 row2\" >accuracy</th>\n",
       "      <td id=\"T_c8aec_row2_col0\" class=\"data row2 col0\" >0.997</td>\n",
       "      <td id=\"T_c8aec_row2_col1\" class=\"data row2 col1\" >0.997</td>\n",
       "      <td id=\"T_c8aec_row2_col2\" class=\"data row2 col2\" >0.997</td>\n",
       "      <td id=\"T_c8aec_row2_col3\" class=\"data row2 col3\" >0.997</td>\n",
       "    </tr>\n",
       "    <tr>\n",
       "      <th id=\"T_c8aec_level0_row3\" class=\"row_heading level0 row3\" >macro avg</th>\n",
       "      <td id=\"T_c8aec_row3_col0\" class=\"data row3 col0\" >0.676</td>\n",
       "      <td id=\"T_c8aec_row3_col1\" class=\"data row3 col1\" >0.909</td>\n",
       "      <td id=\"T_c8aec_row3_col2\" class=\"data row3 col2\" >0.745</td>\n",
       "      <td id=\"T_c8aec_row3_col3\" class=\"data row3 col3\" >56746.000</td>\n",
       "    </tr>\n",
       "    <tr>\n",
       "      <th id=\"T_c8aec_level0_row4\" class=\"row_heading level0 row4\" >weighted avg</th>\n",
       "      <td id=\"T_c8aec_row4_col0\" class=\"data row4 col0\" >0.999</td>\n",
       "      <td id=\"T_c8aec_row4_col1\" class=\"data row4 col1\" >0.997</td>\n",
       "      <td id=\"T_c8aec_row4_col2\" class=\"data row4 col2\" >0.998</td>\n",
       "      <td id=\"T_c8aec_row4_col3\" class=\"data row4 col3\" >56746.000</td>\n",
       "    </tr>\n",
       "  </tbody>\n",
       "</table>\n"
      ],
      "text/plain": [
       "<pandas.io.formats.style.Styler at 0x23f829bb3a0>"
      ]
     },
     "metadata": {},
     "output_type": "display_data"
    }
   ],
   "source": [
    "from IPython.display import display\n",
    "\n",
    "# Genera el reporte como diccionario\n",
    "report_dict = classification_report(y_test, y_pred, digits=3, output_dict=True)\n",
    "report_df = pd.DataFrame(report_dict).transpose()\n",
    "\n",
    "# Redondea y muestra como tabla bonita\n",
    "print(\"Reporte de clasificación:\")\n",
    "display(report_df.style.format(\"{:.3f}\").background_gradient(cmap='Blues'))\n"
   ]
  },
  {
   "cell_type": "markdown",
   "id": "8a808a87",
   "metadata": {},
   "source": [
    "Dado que en este caso la señal de que el modelo funciona bien es el **f1-score** sobre la detección del fraude, se utilizara esta métrica para comparar cual modelo es mejor para detectarlo "
   ]
  },
  {
   "cell_type": "code",
   "execution_count": 95,
   "id": "f749ffdf",
   "metadata": {},
   "outputs": [
    {
     "data": {
      "text/html": [
       "<div>\n",
       "<style scoped>\n",
       "    .dataframe tbody tr th:only-of-type {\n",
       "        vertical-align: middle;\n",
       "    }\n",
       "\n",
       "    .dataframe tbody tr th {\n",
       "        vertical-align: top;\n",
       "    }\n",
       "\n",
       "    .dataframe thead th {\n",
       "        text-align: right;\n",
       "    }\n",
       "</style>\n",
       "<table border=\"1\" class=\"dataframe\">\n",
       "  <thead>\n",
       "    <tr style=\"text-align: right;\">\n",
       "      <th></th>\n",
       "      <th>Modelo</th>\n",
       "      <th>f1_score_fraudes</th>\n",
       "    </tr>\n",
       "  </thead>\n",
       "  <tbody>\n",
       "    <tr>\n",
       "      <th>0</th>\n",
       "      <td>regresion_logistica+PCA</td>\n",
       "      <td>0.17</td>\n",
       "    </tr>\n",
       "    <tr>\n",
       "      <th>1</th>\n",
       "      <td>regresion_random_forest+PCA</td>\n",
       "      <td>0.49</td>\n",
       "    </tr>\n",
       "  </tbody>\n",
       "</table>\n",
       "</div>"
      ],
      "text/plain": [
       "                        Modelo  f1_score_fraudes\n",
       "0      regresion_logistica+PCA              0.17\n",
       "1  regresion_random_forest+PCA              0.49"
      ]
     },
     "execution_count": 95,
     "metadata": {},
     "output_type": "execute_result"
    }
   ],
   "source": [
    "# Guarda el modelo entrenado en un DataFrame\n",
    "modelos.append('regresion_random_forest+PCA')\n",
    "f1_score_fraudes.append(np.round(report_df['f1-score']['1'],2))\n",
    "pd.DataFrame({\n",
    "    'Modelo': modelos,\n",
    "    'f1_score_fraudes': f1_score_fraudes\n",
    "})"
   ]
  },
  {
   "cell_type": "markdown",
   "id": "72f3aaea",
   "metadata": {},
   "source": [
    "### <span style = 'color: green'>**3.1.3**</span> Modelación basado ajuste PCA-Equilibrio-Decision tree:"
   ]
  },
  {
   "cell_type": "markdown",
   "id": "4e4d13b5",
   "metadata": {},
   "source": [
    "Dado que ya se encuentra normalizado el dataset y equilibrado para datos desbalanceados se pasara a correr modelos"
   ]
  },
  {
   "cell_type": "code",
   "execution_count": null,
   "id": "89c235f4",
   "metadata": {},
   "outputs": [
    {
     "name": "stdout",
     "output_type": "stream",
     "text": [
      "Fitting 3 folds for each of 2 candidates, totalling 6 fits\n"
     ]
    },
    {
     "data": {
      "text/html": [
       "<style>#sk-container-id-8 {color: black;}#sk-container-id-8 pre{padding: 0;}#sk-container-id-8 div.sk-toggleable {background-color: white;}#sk-container-id-8 label.sk-toggleable__label {cursor: pointer;display: block;width: 100%;margin-bottom: 0;padding: 0.3em;box-sizing: border-box;text-align: center;}#sk-container-id-8 label.sk-toggleable__label-arrow:before {content: \"▸\";float: left;margin-right: 0.25em;color: #696969;}#sk-container-id-8 label.sk-toggleable__label-arrow:hover:before {color: black;}#sk-container-id-8 div.sk-estimator:hover label.sk-toggleable__label-arrow:before {color: black;}#sk-container-id-8 div.sk-toggleable__content {max-height: 0;max-width: 0;overflow: hidden;text-align: left;background-color: #f0f8ff;}#sk-container-id-8 div.sk-toggleable__content pre {margin: 0.2em;color: black;border-radius: 0.25em;background-color: #f0f8ff;}#sk-container-id-8 input.sk-toggleable__control:checked~div.sk-toggleable__content {max-height: 200px;max-width: 100%;overflow: auto;}#sk-container-id-8 input.sk-toggleable__control:checked~label.sk-toggleable__label-arrow:before {content: \"▾\";}#sk-container-id-8 div.sk-estimator input.sk-toggleable__control:checked~label.sk-toggleable__label {background-color: #d4ebff;}#sk-container-id-8 div.sk-label input.sk-toggleable__control:checked~label.sk-toggleable__label {background-color: #d4ebff;}#sk-container-id-8 input.sk-hidden--visually {border: 0;clip: rect(1px 1px 1px 1px);clip: rect(1px, 1px, 1px, 1px);height: 1px;margin: -1px;overflow: hidden;padding: 0;position: absolute;width: 1px;}#sk-container-id-8 div.sk-estimator {font-family: monospace;background-color: #f0f8ff;border: 1px dotted black;border-radius: 0.25em;box-sizing: border-box;margin-bottom: 0.5em;}#sk-container-id-8 div.sk-estimator:hover {background-color: #d4ebff;}#sk-container-id-8 div.sk-parallel-item::after {content: \"\";width: 100%;border-bottom: 1px solid gray;flex-grow: 1;}#sk-container-id-8 div.sk-label:hover label.sk-toggleable__label {background-color: #d4ebff;}#sk-container-id-8 div.sk-serial::before {content: \"\";position: absolute;border-left: 1px solid gray;box-sizing: border-box;top: 0;bottom: 0;left: 50%;z-index: 0;}#sk-container-id-8 div.sk-serial {display: flex;flex-direction: column;align-items: center;background-color: white;padding-right: 0.2em;padding-left: 0.2em;position: relative;}#sk-container-id-8 div.sk-item {position: relative;z-index: 1;}#sk-container-id-8 div.sk-parallel {display: flex;align-items: stretch;justify-content: center;background-color: white;position: relative;}#sk-container-id-8 div.sk-item::before, #sk-container-id-8 div.sk-parallel-item::before {content: \"\";position: absolute;border-left: 1px solid gray;box-sizing: border-box;top: 0;bottom: 0;left: 50%;z-index: -1;}#sk-container-id-8 div.sk-parallel-item {display: flex;flex-direction: column;z-index: 1;position: relative;background-color: white;}#sk-container-id-8 div.sk-parallel-item:first-child::after {align-self: flex-end;width: 50%;}#sk-container-id-8 div.sk-parallel-item:last-child::after {align-self: flex-start;width: 50%;}#sk-container-id-8 div.sk-parallel-item:only-child::after {width: 0;}#sk-container-id-8 div.sk-dashed-wrapped {border: 1px dashed gray;margin: 0 0.4em 0.5em 0.4em;box-sizing: border-box;padding-bottom: 0.4em;background-color: white;}#sk-container-id-8 div.sk-label label {font-family: monospace;font-weight: bold;display: inline-block;line-height: 1.2em;}#sk-container-id-8 div.sk-label-container {text-align: center;}#sk-container-id-8 div.sk-container {/* jupyter's `normalize.less` sets `[hidden] { display: none; }` but bootstrap.min.css set `[hidden] { display: none !important; }` so we also need the `!important` here to be able to override the default hidden behavior on the sphinx rendered scikit-learn.org. See: https://github.com/scikit-learn/scikit-learn/issues/21755 */display: inline-block !important;position: relative;}#sk-container-id-8 div.sk-text-repr-fallback {display: none;}</style><div id=\"sk-container-id-8\" class=\"sk-top-container\"><div class=\"sk-text-repr-fallback\"><pre>RandomizedSearchCV(cv=3,\n",
       "                   estimator=Pipeline(steps=[(&#x27;select&#x27;,\n",
       "                                              SelectKBest(k=5,\n",
       "                                                          score_func=&lt;function mutual_info_classif at 0x0000023F81DD8790&gt;)),\n",
       "                                             (&#x27;clf&#x27;,\n",
       "                                              DecisionTreeClassifier(random_state=202508))]),\n",
       "                   n_iter=2, n_jobs=-1,\n",
       "                   param_distributions={&#x27;clf__max_depth&#x27;: [5, 10],\n",
       "                                        &#x27;clf__min_samples_split&#x27;: [2, 5]},\n",
       "                   random_state=202508, scoring=&#x27;f1&#x27;, verbose=1)</pre><b>In a Jupyter environment, please rerun this cell to show the HTML representation or trust the notebook. <br />On GitHub, the HTML representation is unable to render, please try loading this page with nbviewer.org.</b></div><div class=\"sk-container\" hidden><div class=\"sk-item sk-dashed-wrapped\"><div class=\"sk-label-container\"><div class=\"sk-label sk-toggleable\"><input class=\"sk-toggleable__control sk-hidden--visually\" id=\"sk-estimator-id-22\" type=\"checkbox\" ><label for=\"sk-estimator-id-22\" class=\"sk-toggleable__label sk-toggleable__label-arrow\">RandomizedSearchCV</label><div class=\"sk-toggleable__content\"><pre>RandomizedSearchCV(cv=3,\n",
       "                   estimator=Pipeline(steps=[(&#x27;select&#x27;,\n",
       "                                              SelectKBest(k=5,\n",
       "                                                          score_func=&lt;function mutual_info_classif at 0x0000023F81DD8790&gt;)),\n",
       "                                             (&#x27;clf&#x27;,\n",
       "                                              DecisionTreeClassifier(random_state=202508))]),\n",
       "                   n_iter=2, n_jobs=-1,\n",
       "                   param_distributions={&#x27;clf__max_depth&#x27;: [5, 10],\n",
       "                                        &#x27;clf__min_samples_split&#x27;: [2, 5]},\n",
       "                   random_state=202508, scoring=&#x27;f1&#x27;, verbose=1)</pre></div></div></div><div class=\"sk-parallel\"><div class=\"sk-parallel-item\"><div class=\"sk-item\"><div class=\"sk-label-container\"><div class=\"sk-label sk-toggleable\"><input class=\"sk-toggleable__control sk-hidden--visually\" id=\"sk-estimator-id-23\" type=\"checkbox\" ><label for=\"sk-estimator-id-23\" class=\"sk-toggleable__label sk-toggleable__label-arrow\">estimator: Pipeline</label><div class=\"sk-toggleable__content\"><pre>Pipeline(steps=[(&#x27;select&#x27;,\n",
       "                 SelectKBest(k=5,\n",
       "                             score_func=&lt;function mutual_info_classif at 0x0000023F81DD8790&gt;)),\n",
       "                (&#x27;clf&#x27;, DecisionTreeClassifier(random_state=202508))])</pre></div></div></div><div class=\"sk-serial\"><div class=\"sk-item\"><div class=\"sk-serial\"><div class=\"sk-item\"><div class=\"sk-estimator sk-toggleable\"><input class=\"sk-toggleable__control sk-hidden--visually\" id=\"sk-estimator-id-24\" type=\"checkbox\" ><label for=\"sk-estimator-id-24\" class=\"sk-toggleable__label sk-toggleable__label-arrow\">SelectKBest</label><div class=\"sk-toggleable__content\"><pre>SelectKBest(k=5,\n",
       "            score_func=&lt;function mutual_info_classif at 0x0000023F81DD8790&gt;)</pre></div></div></div><div class=\"sk-item\"><div class=\"sk-estimator sk-toggleable\"><input class=\"sk-toggleable__control sk-hidden--visually\" id=\"sk-estimator-id-25\" type=\"checkbox\" ><label for=\"sk-estimator-id-25\" class=\"sk-toggleable__label sk-toggleable__label-arrow\">DecisionTreeClassifier</label><div class=\"sk-toggleable__content\"><pre>DecisionTreeClassifier(random_state=202508)</pre></div></div></div></div></div></div></div></div></div></div></div></div>"
      ],
      "text/plain": [
       "RandomizedSearchCV(cv=3,\n",
       "                   estimator=Pipeline(steps=[('select',\n",
       "                                              SelectKBest(k=5,\n",
       "                                                          score_func=<function mutual_info_classif at 0x0000023F81DD8790>)),\n",
       "                                             ('clf',\n",
       "                                              DecisionTreeClassifier(random_state=202508))]),\n",
       "                   n_iter=2, n_jobs=-1,\n",
       "                   param_distributions={'clf__max_depth': [5, 10],\n",
       "                                        'clf__min_samples_split': [2, 5]},\n",
       "                   random_state=202508, scoring='f1', verbose=1)"
      ]
     },
     "execution_count": 96,
     "metadata": {},
     "output_type": "execute_result"
    }
   ],
   "source": [
    "\n",
    "pipe_tree = Pipeline([\n",
    "    ('select', SelectKBest(score_func=mutual_info_classif, k=5)),\n",
    "    ('clf', DecisionTreeClassifier(random_state=202508))\n",
    "])\n",
    "\n",
    "param_dist_tree = {\n",
    "    'clf__max_depth': [5, 10],\n",
    "    'clf__min_samples_split': [2, 5]\n",
    "}\n",
    "\n",
    "random_search_tree = RandomizedSearchCV(\n",
    "    pipe_tree,\n",
    "    param_distributions=param_dist_tree,\n",
    "    n_iter=2,\n",
    "    scoring='f1',\n",
    "    cv=3,\n",
    "    random_state=202508,\n",
    "    verbose=1,\n",
    "    n_jobs=-1\n",
    ")\n",
    "\n",
    "random_search_tree.fit(X_train, y_train)\n"
   ]
  },
  {
   "cell_type": "markdown",
   "id": "3f761012",
   "metadata": {},
   "source": [
    "Ajuste del mejor modelo:"
   ]
  },
  {
   "cell_type": "code",
   "execution_count": 97,
   "id": "aa92ffa4",
   "metadata": {},
   "outputs": [
    {
     "data": {
      "text/html": [
       "<style>#sk-container-id-9 {color: black;}#sk-container-id-9 pre{padding: 0;}#sk-container-id-9 div.sk-toggleable {background-color: white;}#sk-container-id-9 label.sk-toggleable__label {cursor: pointer;display: block;width: 100%;margin-bottom: 0;padding: 0.3em;box-sizing: border-box;text-align: center;}#sk-container-id-9 label.sk-toggleable__label-arrow:before {content: \"▸\";float: left;margin-right: 0.25em;color: #696969;}#sk-container-id-9 label.sk-toggleable__label-arrow:hover:before {color: black;}#sk-container-id-9 div.sk-estimator:hover label.sk-toggleable__label-arrow:before {color: black;}#sk-container-id-9 div.sk-toggleable__content {max-height: 0;max-width: 0;overflow: hidden;text-align: left;background-color: #f0f8ff;}#sk-container-id-9 div.sk-toggleable__content pre {margin: 0.2em;color: black;border-radius: 0.25em;background-color: #f0f8ff;}#sk-container-id-9 input.sk-toggleable__control:checked~div.sk-toggleable__content {max-height: 200px;max-width: 100%;overflow: auto;}#sk-container-id-9 input.sk-toggleable__control:checked~label.sk-toggleable__label-arrow:before {content: \"▾\";}#sk-container-id-9 div.sk-estimator input.sk-toggleable__control:checked~label.sk-toggleable__label {background-color: #d4ebff;}#sk-container-id-9 div.sk-label input.sk-toggleable__control:checked~label.sk-toggleable__label {background-color: #d4ebff;}#sk-container-id-9 input.sk-hidden--visually {border: 0;clip: rect(1px 1px 1px 1px);clip: rect(1px, 1px, 1px, 1px);height: 1px;margin: -1px;overflow: hidden;padding: 0;position: absolute;width: 1px;}#sk-container-id-9 div.sk-estimator {font-family: monospace;background-color: #f0f8ff;border: 1px dotted black;border-radius: 0.25em;box-sizing: border-box;margin-bottom: 0.5em;}#sk-container-id-9 div.sk-estimator:hover {background-color: #d4ebff;}#sk-container-id-9 div.sk-parallel-item::after {content: \"\";width: 100%;border-bottom: 1px solid gray;flex-grow: 1;}#sk-container-id-9 div.sk-label:hover label.sk-toggleable__label {background-color: #d4ebff;}#sk-container-id-9 div.sk-serial::before {content: \"\";position: absolute;border-left: 1px solid gray;box-sizing: border-box;top: 0;bottom: 0;left: 50%;z-index: 0;}#sk-container-id-9 div.sk-serial {display: flex;flex-direction: column;align-items: center;background-color: white;padding-right: 0.2em;padding-left: 0.2em;position: relative;}#sk-container-id-9 div.sk-item {position: relative;z-index: 1;}#sk-container-id-9 div.sk-parallel {display: flex;align-items: stretch;justify-content: center;background-color: white;position: relative;}#sk-container-id-9 div.sk-item::before, #sk-container-id-9 div.sk-parallel-item::before {content: \"\";position: absolute;border-left: 1px solid gray;box-sizing: border-box;top: 0;bottom: 0;left: 50%;z-index: -1;}#sk-container-id-9 div.sk-parallel-item {display: flex;flex-direction: column;z-index: 1;position: relative;background-color: white;}#sk-container-id-9 div.sk-parallel-item:first-child::after {align-self: flex-end;width: 50%;}#sk-container-id-9 div.sk-parallel-item:last-child::after {align-self: flex-start;width: 50%;}#sk-container-id-9 div.sk-parallel-item:only-child::after {width: 0;}#sk-container-id-9 div.sk-dashed-wrapped {border: 1px dashed gray;margin: 0 0.4em 0.5em 0.4em;box-sizing: border-box;padding-bottom: 0.4em;background-color: white;}#sk-container-id-9 div.sk-label label {font-family: monospace;font-weight: bold;display: inline-block;line-height: 1.2em;}#sk-container-id-9 div.sk-label-container {text-align: center;}#sk-container-id-9 div.sk-container {/* jupyter's `normalize.less` sets `[hidden] { display: none; }` but bootstrap.min.css set `[hidden] { display: none !important; }` so we also need the `!important` here to be able to override the default hidden behavior on the sphinx rendered scikit-learn.org. See: https://github.com/scikit-learn/scikit-learn/issues/21755 */display: inline-block !important;position: relative;}#sk-container-id-9 div.sk-text-repr-fallback {display: none;}</style><div id=\"sk-container-id-9\" class=\"sk-top-container\"><div class=\"sk-text-repr-fallback\"><pre>Pipeline(steps=[(&#x27;select&#x27;,\n",
       "                 SelectKBest(k=5,\n",
       "                             score_func=&lt;function mutual_info_classif at 0x0000023F81DD8790&gt;)),\n",
       "                (&#x27;clf&#x27;,\n",
       "                 DecisionTreeClassifier(max_depth=10, min_samples_split=5,\n",
       "                                        random_state=202508))])</pre><b>In a Jupyter environment, please rerun this cell to show the HTML representation or trust the notebook. <br />On GitHub, the HTML representation is unable to render, please try loading this page with nbviewer.org.</b></div><div class=\"sk-container\" hidden><div class=\"sk-item sk-dashed-wrapped\"><div class=\"sk-label-container\"><div class=\"sk-label sk-toggleable\"><input class=\"sk-toggleable__control sk-hidden--visually\" id=\"sk-estimator-id-26\" type=\"checkbox\" ><label for=\"sk-estimator-id-26\" class=\"sk-toggleable__label sk-toggleable__label-arrow\">Pipeline</label><div class=\"sk-toggleable__content\"><pre>Pipeline(steps=[(&#x27;select&#x27;,\n",
       "                 SelectKBest(k=5,\n",
       "                             score_func=&lt;function mutual_info_classif at 0x0000023F81DD8790&gt;)),\n",
       "                (&#x27;clf&#x27;,\n",
       "                 DecisionTreeClassifier(max_depth=10, min_samples_split=5,\n",
       "                                        random_state=202508))])</pre></div></div></div><div class=\"sk-serial\"><div class=\"sk-item\"><div class=\"sk-estimator sk-toggleable\"><input class=\"sk-toggleable__control sk-hidden--visually\" id=\"sk-estimator-id-27\" type=\"checkbox\" ><label for=\"sk-estimator-id-27\" class=\"sk-toggleable__label sk-toggleable__label-arrow\">SelectKBest</label><div class=\"sk-toggleable__content\"><pre>SelectKBest(k=5,\n",
       "            score_func=&lt;function mutual_info_classif at 0x0000023F81DD8790&gt;)</pre></div></div></div><div class=\"sk-item\"><div class=\"sk-estimator sk-toggleable\"><input class=\"sk-toggleable__control sk-hidden--visually\" id=\"sk-estimator-id-28\" type=\"checkbox\" ><label for=\"sk-estimator-id-28\" class=\"sk-toggleable__label sk-toggleable__label-arrow\">DecisionTreeClassifier</label><div class=\"sk-toggleable__content\"><pre>DecisionTreeClassifier(max_depth=10, min_samples_split=5, random_state=202508)</pre></div></div></div></div></div></div></div>"
      ],
      "text/plain": [
       "Pipeline(steps=[('select',\n",
       "                 SelectKBest(k=5,\n",
       "                             score_func=<function mutual_info_classif at 0x0000023F81DD8790>)),\n",
       "                ('clf',\n",
       "                 DecisionTreeClassifier(max_depth=10, min_samples_split=5,\n",
       "                                        random_state=202508))])"
      ]
     },
     "execution_count": 97,
     "metadata": {},
     "output_type": "execute_result"
    }
   ],
   "source": [
    "# Mejor modelo\n",
    "best_model = random_search_tree.best_estimator_\n",
    "y_pred = best_model.predict(X_test)\n",
    "y_proba = best_model.predict_proba(X_test)[:, 1]\n",
    "best_model"
   ]
  },
  {
   "cell_type": "markdown",
   "id": "43b43624",
   "metadata": {},
   "source": [
    "Curva roc para el ajuste del modelo de entrenamiento:"
   ]
  },
  {
   "cell_type": "code",
   "execution_count": null,
   "id": "5a90597a",
   "metadata": {},
   "outputs": [
    {
     "data": {
      "image/png": "[encoded data removed]",
      "text/plain": [
       "<Figure size 800x600 with 1 Axes>"
      ]
     },
     "metadata": {},
     "output_type": "display_data"
    }
   ],
   "source": [
    "\n",
    "# Curva ROC\n",
    "fpr, tpr, _ = roc_curve(y_test, y_proba)\n",
    "plt.figure(figsize=(8,6))\n",
    "plt.plot(fpr, tpr, label=f'AUC = {roc_auc_score(y_test, y_proba):.3f}')\n",
    "plt.plot([0,1], [0,1], 'k--')\n",
    "plt.xlabel('FPR')\n",
    "plt.ylabel('TPR')\n",
    "plt.title('Curva ROC')\n",
    "plt.legend()\n",
    "plt.grid(True)\n",
    "plt.show()"
   ]
  },
  {
   "cell_type": "markdown",
   "id": "d9496146",
   "metadata": {},
   "source": [
    "Matriz de confusión"
   ]
  },
  {
   "cell_type": "code",
   "execution_count": 99,
   "id": "4aeaf984",
   "metadata": {},
   "outputs": [
    {
     "data": {
      "image/png": "[encoded data removed]",
      "text/plain": [
       "<Figure size 600x500 with 2 Axes>"
      ]
     },
     "metadata": {},
     "output_type": "display_data"
    }
   ],
   "source": [
    "\n",
    "# Matriz de confusión bonita\n",
    "cm = confusion_matrix(y_test, y_pred)\n",
    "plt.figure(figsize=(6,5))\n",
    "sns.heatmap(cm, annot=True, fmt='d', cmap='Blues', xticklabels=['No Fraude', 'Fraude'], yticklabels=['No Fraude', 'Fraude'])\n",
    "plt.xlabel('Predicción')\n",
    "plt.ylabel('Real')\n",
    "plt.title('Matriz de Confusión')\n",
    "plt.show()"
   ]
  },
  {
   "cell_type": "code",
   "execution_count": 100,
   "id": "89f3f83f",
   "metadata": {},
   "outputs": [
    {
     "name": "stdout",
     "output_type": "stream",
     "text": [
      "Reporte de clasificación:\n"
     ]
    },
    {
     "data": {
      "text/html": [
       "<style type=\"text/css\">\n",
       "#T_835cc_row0_col0, #T_835cc_row0_col1, #T_835cc_row0_col2, #T_835cc_row0_col3, #T_835cc_row2_col1, #T_835cc_row3_col3, #T_835cc_row4_col0, #T_835cc_row4_col1, #T_835cc_row4_col2, #T_835cc_row4_col3 {\n",
       "  background-color: #08306b;\n",
       "  color: #f1f1f1;\n",
       "}\n",
       "#T_835cc_row1_col0, #T_835cc_row1_col1, #T_835cc_row1_col2, #T_835cc_row1_col3, #T_835cc_row2_col3 {\n",
       "  background-color: #f7fbff;\n",
       "  color: #000000;\n",
       "}\n",
       "#T_835cc_row2_col0 {\n",
       "  background-color: #083471;\n",
       "  color: #f1f1f1;\n",
       "}\n",
       "#T_835cc_row2_col2 {\n",
       "  background-color: #08326e;\n",
       "  color: #f1f1f1;\n",
       "}\n",
       "#T_835cc_row3_col0, #T_835cc_row3_col1, #T_835cc_row3_col2 {\n",
       "  background-color: #6aaed6;\n",
       "  color: #f1f1f1;\n",
       "}\n",
       "</style>\n",
       "<table id=\"T_835cc\">\n",
       "  <thead>\n",
       "    <tr>\n",
       "      <th class=\"blank level0\" >&nbsp;</th>\n",
       "      <th id=\"T_835cc_level0_col0\" class=\"col_heading level0 col0\" >precision</th>\n",
       "      <th id=\"T_835cc_level0_col1\" class=\"col_heading level0 col1\" >recall</th>\n",
       "      <th id=\"T_835cc_level0_col2\" class=\"col_heading level0 col2\" >f1-score</th>\n",
       "      <th id=\"T_835cc_level0_col3\" class=\"col_heading level0 col3\" >support</th>\n",
       "    </tr>\n",
       "  </thead>\n",
       "  <tbody>\n",
       "    <tr>\n",
       "      <th id=\"T_835cc_level0_row0\" class=\"row_heading level0 row0\" >0</th>\n",
       "      <td id=\"T_835cc_row0_col0\" class=\"data row0 col0\" >1.000</td>\n",
       "      <td id=\"T_835cc_row0_col1\" class=\"data row0 col1\" >0.983</td>\n",
       "      <td id=\"T_835cc_row0_col2\" class=\"data row0 col2\" >0.991</td>\n",
       "      <td id=\"T_835cc_row0_col3\" class=\"data row0 col3\" >56651.000</td>\n",
       "    </tr>\n",
       "    <tr>\n",
       "      <th id=\"T_835cc_level0_row1\" class=\"row_heading level0 row1\" >1</th>\n",
       "      <td id=\"T_835cc_row1_col0\" class=\"data row1 col0\" >0.076</td>\n",
       "      <td id=\"T_835cc_row1_col1\" class=\"data row1 col1\" >0.842</td>\n",
       "      <td id=\"T_835cc_row1_col2\" class=\"data row1 col2\" >0.139</td>\n",
       "      <td id=\"T_835cc_row1_col3\" class=\"data row1 col3\" >95.000</td>\n",
       "    </tr>\n",
       "    <tr>\n",
       "      <th id=\"T_835cc_level0_row2\" class=\"row_heading level0 row2\" >accuracy</th>\n",
       "      <td id=\"T_835cc_row2_col0\" class=\"data row2 col0\" >0.983</td>\n",
       "      <td id=\"T_835cc_row2_col1\" class=\"data row2 col1\" >0.983</td>\n",
       "      <td id=\"T_835cc_row2_col2\" class=\"data row2 col2\" >0.983</td>\n",
       "      <td id=\"T_835cc_row2_col3\" class=\"data row2 col3\" >0.983</td>\n",
       "    </tr>\n",
       "    <tr>\n",
       "      <th id=\"T_835cc_level0_row3\" class=\"row_heading level0 row3\" >macro avg</th>\n",
       "      <td id=\"T_835cc_row3_col0\" class=\"data row3 col0\" >0.538</td>\n",
       "      <td id=\"T_835cc_row3_col1\" class=\"data row3 col1\" >0.912</td>\n",
       "      <td id=\"T_835cc_row3_col2\" class=\"data row3 col2\" >0.565</td>\n",
       "      <td id=\"T_835cc_row3_col3\" class=\"data row3 col3\" >56746.000</td>\n",
       "    </tr>\n",
       "    <tr>\n",
       "      <th id=\"T_835cc_level0_row4\" class=\"row_heading level0 row4\" >weighted avg</th>\n",
       "      <td id=\"T_835cc_row4_col0\" class=\"data row4 col0\" >0.998</td>\n",
       "      <td id=\"T_835cc_row4_col1\" class=\"data row4 col1\" >0.983</td>\n",
       "      <td id=\"T_835cc_row4_col2\" class=\"data row4 col2\" >0.990</td>\n",
       "      <td id=\"T_835cc_row4_col3\" class=\"data row4 col3\" >56746.000</td>\n",
       "    </tr>\n",
       "  </tbody>\n",
       "</table>\n"
      ],
      "text/plain": [
       "<pandas.io.formats.style.Styler at 0x23fd126dd60>"
      ]
     },
     "metadata": {},
     "output_type": "display_data"
    }
   ],
   "source": [
    "from IPython.display import display\n",
    "\n",
    "# Genera el reporte como diccionario\n",
    "report_dict = classification_report(y_test, y_pred, digits=3, output_dict=True)\n",
    "report_df = pd.DataFrame(report_dict).transpose()\n",
    "\n",
    "# Redondea y muestra como tabla bonita\n",
    "print(\"Reporte de clasificación:\")\n",
    "display(report_df.style.format(\"{:.3f}\").background_gradient(cmap='Blues'))\n"
   ]
  },
  {
   "cell_type": "markdown",
   "id": "48dac84c",
   "metadata": {},
   "source": [
    "Dado que en este caso la señal de que el modelo funciona bien es el **f1-score** sobre la detección del fraude, se utilizara esta métrica para comparar cual modelo es mejor para detectarlo "
   ]
  },
  {
   "cell_type": "code",
   "execution_count": 101,
   "id": "e9ecd652",
   "metadata": {},
   "outputs": [
    {
     "data": {
      "text/html": [
       "<div>\n",
       "<style scoped>\n",
       "    .dataframe tbody tr th:only-of-type {\n",
       "        vertical-align: middle;\n",
       "    }\n",
       "\n",
       "    .dataframe tbody tr th {\n",
       "        vertical-align: top;\n",
       "    }\n",
       "\n",
       "    .dataframe thead th {\n",
       "        text-align: right;\n",
       "    }\n",
       "</style>\n",
       "<table border=\"1\" class=\"dataframe\">\n",
       "  <thead>\n",
       "    <tr style=\"text-align: right;\">\n",
       "      <th></th>\n",
       "      <th>Modelo</th>\n",
       "      <th>f1_score_fraudes</th>\n",
       "    </tr>\n",
       "  </thead>\n",
       "  <tbody>\n",
       "    <tr>\n",
       "      <th>0</th>\n",
       "      <td>regresion_logistica+PCA</td>\n",
       "      <td>0.17</td>\n",
       "    </tr>\n",
       "    <tr>\n",
       "      <th>1</th>\n",
       "      <td>regresion_random_forest+PCA</td>\n",
       "      <td>0.49</td>\n",
       "    </tr>\n",
       "    <tr>\n",
       "      <th>2</th>\n",
       "      <td>Decisicion_tree+PCA</td>\n",
       "      <td>0.14</td>\n",
       "    </tr>\n",
       "  </tbody>\n",
       "</table>\n",
       "</div>"
      ],
      "text/plain": [
       "                        Modelo  f1_score_fraudes\n",
       "0      regresion_logistica+PCA              0.17\n",
       "1  regresion_random_forest+PCA              0.49\n",
       "2          Decisicion_tree+PCA              0.14"
      ]
     },
     "execution_count": 101,
     "metadata": {},
     "output_type": "execute_result"
    }
   ],
   "source": [
    "# Guarda el modelo entrenado en un DataFrame\n",
    "modelos.append('Decisicion_tree+PCA')\n",
    "f1_score_fraudes.append(np.round(report_df['f1-score']['1'],2))\n",
    "pd.DataFrame({\n",
    "    'Modelo': modelos,\n",
    "    'f1_score_fraudes': f1_score_fraudes\n",
    "})"
   ]
  },
  {
   "cell_type": "markdown",
   "id": "496791bf",
   "metadata": {},
   "source": [
    "### <span style = 'color: green'>**3.1.4**</span> Modelación basado ajuste PCA-Equilibrio-Hist gradient boosting:"
   ]
  },
  {
   "cell_type": "markdown",
   "id": "da052e69",
   "metadata": {},
   "source": [
    "Dado que ya se encuentra normalizado el dataset y equilibrado para datos desbalanceados se pasara a correr modelos"
   ]
  },
  {
   "cell_type": "code",
   "execution_count": 103,
   "id": "967d6544",
   "metadata": {},
   "outputs": [
    {
     "name": "stdout",
     "output_type": "stream",
     "text": [
      "Fitting 3 folds for each of 2 candidates, totalling 6 fits\n"
     ]
    },
    {
     "data": {
      "text/html": [
       "<style>#sk-container-id-10 {color: black;}#sk-container-id-10 pre{padding: 0;}#sk-container-id-10 div.sk-toggleable {background-color: white;}#sk-container-id-10 label.sk-toggleable__label {cursor: pointer;display: block;width: 100%;margin-bottom: 0;padding: 0.3em;box-sizing: border-box;text-align: center;}#sk-container-id-10 label.sk-toggleable__label-arrow:before {content: \"▸\";float: left;margin-right: 0.25em;color: #696969;}#sk-container-id-10 label.sk-toggleable__label-arrow:hover:before {color: black;}#sk-container-id-10 div.sk-estimator:hover label.sk-toggleable__label-arrow:before {color: black;}#sk-container-id-10 div.sk-toggleable__content {max-height: 0;max-width: 0;overflow: hidden;text-align: left;background-color: #f0f8ff;}#sk-container-id-10 div.sk-toggleable__content pre {margin: 0.2em;color: black;border-radius: 0.25em;background-color: #f0f8ff;}#sk-container-id-10 input.sk-toggleable__control:checked~div.sk-toggleable__content {max-height: 200px;max-width: 100%;overflow: auto;}#sk-container-id-10 input.sk-toggleable__control:checked~label.sk-toggleable__label-arrow:before {content: \"▾\";}#sk-container-id-10 div.sk-estimator input.sk-toggleable__control:checked~label.sk-toggleable__label {background-color: #d4ebff;}#sk-container-id-10 div.sk-label input.sk-toggleable__control:checked~label.sk-toggleable__label {background-color: #d4ebff;}#sk-container-id-10 input.sk-hidden--visually {border: 0;clip: rect(1px 1px 1px 1px);clip: rect(1px, 1px, 1px, 1px);height: 1px;margin: -1px;overflow: hidden;padding: 0;position: absolute;width: 1px;}#sk-container-id-10 div.sk-estimator {font-family: monospace;background-color: #f0f8ff;border: 1px dotted black;border-radius: 0.25em;box-sizing: border-box;margin-bottom: 0.5em;}#sk-container-id-10 div.sk-estimator:hover {background-color: #d4ebff;}#sk-container-id-10 div.sk-parallel-item::after {content: \"\";width: 100%;border-bottom: 1px solid gray;flex-grow: 1;}#sk-container-id-10 div.sk-label:hover label.sk-toggleable__label {background-color: #d4ebff;}#sk-container-id-10 div.sk-serial::before {content: \"\";position: absolute;border-left: 1px solid gray;box-sizing: border-box;top: 0;bottom: 0;left: 50%;z-index: 0;}#sk-container-id-10 div.sk-serial {display: flex;flex-direction: column;align-items: center;background-color: white;padding-right: 0.2em;padding-left: 0.2em;position: relative;}#sk-container-id-10 div.sk-item {position: relative;z-index: 1;}#sk-container-id-10 div.sk-parallel {display: flex;align-items: stretch;justify-content: center;background-color: white;position: relative;}#sk-container-id-10 div.sk-item::before, #sk-container-id-10 div.sk-parallel-item::before {content: \"\";position: absolute;border-left: 1px solid gray;box-sizing: border-box;top: 0;bottom: 0;left: 50%;z-index: -1;}#sk-container-id-10 div.sk-parallel-item {display: flex;flex-direction: column;z-index: 1;position: relative;background-color: white;}#sk-container-id-10 div.sk-parallel-item:first-child::after {align-self: flex-end;width: 50%;}#sk-container-id-10 div.sk-parallel-item:last-child::after {align-self: flex-start;width: 50%;}#sk-container-id-10 div.sk-parallel-item:only-child::after {width: 0;}#sk-container-id-10 div.sk-dashed-wrapped {border: 1px dashed gray;margin: 0 0.4em 0.5em 0.4em;box-sizing: border-box;padding-bottom: 0.4em;background-color: white;}#sk-container-id-10 div.sk-label label {font-family: monospace;font-weight: bold;display: inline-block;line-height: 1.2em;}#sk-container-id-10 div.sk-label-container {text-align: center;}#sk-container-id-10 div.sk-container {/* jupyter's `normalize.less` sets `[hidden] { display: none; }` but bootstrap.min.css set `[hidden] { display: none !important; }` so we also need the `!important` here to be able to override the default hidden behavior on the sphinx rendered scikit-learn.org. See: https://github.com/scikit-learn/scikit-learn/issues/21755 */display: inline-block !important;position: relative;}#sk-container-id-10 div.sk-text-repr-fallback {display: none;}</style><div id=\"sk-container-id-10\" class=\"sk-top-container\"><div class=\"sk-text-repr-fallback\"><pre>RandomizedSearchCV(cv=3,\n",
       "                   estimator=Pipeline(steps=[(&#x27;select&#x27;,\n",
       "                                              SelectKBest(k=5,\n",
       "                                                          score_func=&lt;function mutual_info_classif at 0x0000023F81DD8790&gt;)),\n",
       "                                             (&#x27;clf&#x27;,\n",
       "                                              HistGradientBoostingClassifier(random_state=202508))]),\n",
       "                   n_iter=2, n_jobs=-1,\n",
       "                   param_distributions={&#x27;clf__l2_regularization&#x27;: [0.0, 1.0],\n",
       "                                        &#x27;clf__learning_rate&#x27;: [0.01, 0.1],\n",
       "                                        &#x27;clf__max_depth&#x27;: [None, 10],\n",
       "                                        &#x27;clf__max_iter&#x27;: [100, 200]},\n",
       "                   random_state=202508, scoring=&#x27;f1&#x27;, verbose=1)</pre><b>In a Jupyter environment, please rerun this cell to show the HTML representation or trust the notebook. <br />On GitHub, the HTML representation is unable to render, please try loading this page with nbviewer.org.</b></div><div class=\"sk-container\" hidden><div class=\"sk-item sk-dashed-wrapped\"><div class=\"sk-label-container\"><div class=\"sk-label sk-toggleable\"><input class=\"sk-toggleable__control sk-hidden--visually\" id=\"sk-estimator-id-29\" type=\"checkbox\" ><label for=\"sk-estimator-id-29\" class=\"sk-toggleable__label sk-toggleable__label-arrow\">RandomizedSearchCV</label><div class=\"sk-toggleable__content\"><pre>RandomizedSearchCV(cv=3,\n",
       "                   estimator=Pipeline(steps=[(&#x27;select&#x27;,\n",
       "                                              SelectKBest(k=5,\n",
       "                                                          score_func=&lt;function mutual_info_classif at 0x0000023F81DD8790&gt;)),\n",
       "                                             (&#x27;clf&#x27;,\n",
       "                                              HistGradientBoostingClassifier(random_state=202508))]),\n",
       "                   n_iter=2, n_jobs=-1,\n",
       "                   param_distributions={&#x27;clf__l2_regularization&#x27;: [0.0, 1.0],\n",
       "                                        &#x27;clf__learning_rate&#x27;: [0.01, 0.1],\n",
       "                                        &#x27;clf__max_depth&#x27;: [None, 10],\n",
       "                                        &#x27;clf__max_iter&#x27;: [100, 200]},\n",
       "                   random_state=202508, scoring=&#x27;f1&#x27;, verbose=1)</pre></div></div></div><div class=\"sk-parallel\"><div class=\"sk-parallel-item\"><div class=\"sk-item\"><div class=\"sk-label-container\"><div class=\"sk-label sk-toggleable\"><input class=\"sk-toggleable__control sk-hidden--visually\" id=\"sk-estimator-id-30\" type=\"checkbox\" ><label for=\"sk-estimator-id-30\" class=\"sk-toggleable__label sk-toggleable__label-arrow\">estimator: Pipeline</label><div class=\"sk-toggleable__content\"><pre>Pipeline(steps=[(&#x27;select&#x27;,\n",
       "                 SelectKBest(k=5,\n",
       "                             score_func=&lt;function mutual_info_classif at 0x0000023F81DD8790&gt;)),\n",
       "                (&#x27;clf&#x27;, HistGradientBoostingClassifier(random_state=202508))])</pre></div></div></div><div class=\"sk-serial\"><div class=\"sk-item\"><div class=\"sk-serial\"><div class=\"sk-item\"><div class=\"sk-estimator sk-toggleable\"><input class=\"sk-toggleable__control sk-hidden--visually\" id=\"sk-estimator-id-31\" type=\"checkbox\" ><label for=\"sk-estimator-id-31\" class=\"sk-toggleable__label sk-toggleable__label-arrow\">SelectKBest</label><div class=\"sk-toggleable__content\"><pre>SelectKBest(k=5,\n",
       "            score_func=&lt;function mutual_info_classif at 0x0000023F81DD8790&gt;)</pre></div></div></div><div class=\"sk-item\"><div class=\"sk-estimator sk-toggleable\"><input class=\"sk-toggleable__control sk-hidden--visually\" id=\"sk-estimator-id-32\" type=\"checkbox\" ><label for=\"sk-estimator-id-32\" class=\"sk-toggleable__label sk-toggleable__label-arrow\">HistGradientBoostingClassifier</label><div class=\"sk-toggleable__content\"><pre>HistGradientBoostingClassifier(random_state=202508)</pre></div></div></div></div></div></div></div></div></div></div></div></div>"
      ],
      "text/plain": [
       "RandomizedSearchCV(cv=3,\n",
       "                   estimator=Pipeline(steps=[('select',\n",
       "                                              SelectKBest(k=5,\n",
       "                                                          score_func=<function mutual_info_classif at 0x0000023F81DD8790>)),\n",
       "                                             ('clf',\n",
       "                                              HistGradientBoostingClassifier(random_state=202508))]),\n",
       "                   n_iter=2, n_jobs=-1,\n",
       "                   param_distributions={'clf__l2_regularization': [0.0, 1.0],\n",
       "                                        'clf__learning_rate': [0.01, 0.1],\n",
       "                                        'clf__max_depth': [None, 10],\n",
       "                                        'clf__max_iter': [100, 200]},\n",
       "                   random_state=202508, scoring='f1', verbose=1)"
      ]
     },
     "execution_count": 103,
     "metadata": {},
     "output_type": "execute_result"
    }
   ],
   "source": [
    "\n",
    "\n",
    "pipe_hgb = Pipeline([\n",
    "    ('select', SelectKBest(score_func=mutual_info_classif, k=5)),\n",
    "    ('clf', HistGradientBoostingClassifier(random_state=202508))\n",
    "])\n",
    "\n",
    "param_dist_hgb = {\n",
    "    'clf__max_iter': [100, 200],\n",
    "    'clf__learning_rate': [0.01, 0.1],\n",
    "    'clf__max_depth': [None, 10],\n",
    "    'clf__l2_regularization': [0.0, 1.0]\n",
    "}\n",
    "\n",
    "random_search_hgb = RandomizedSearchCV(\n",
    "    pipe_hgb,\n",
    "    param_distributions=param_dist_hgb,\n",
    "    n_iter=2,\n",
    "    scoring='f1',\n",
    "    cv=3,\n",
    "    random_state=202508,\n",
    "    verbose=1,\n",
    "    n_jobs=-1\n",
    ")\n",
    "\n",
    "random_search_hgb.fit(X_train, y_train)\n"
   ]
  },
  {
   "cell_type": "markdown",
   "id": "44064396",
   "metadata": {},
   "source": [
    "Ajuste del mejor modelo:"
   ]
  },
  {
   "cell_type": "code",
   "execution_count": 104,
   "id": "9c17537b",
   "metadata": {},
   "outputs": [
    {
     "data": {
      "text/html": [
       "<style>#sk-container-id-11 {color: black;}#sk-container-id-11 pre{padding: 0;}#sk-container-id-11 div.sk-toggleable {background-color: white;}#sk-container-id-11 label.sk-toggleable__label {cursor: pointer;display: block;width: 100%;margin-bottom: 0;padding: 0.3em;box-sizing: border-box;text-align: center;}#sk-container-id-11 label.sk-toggleable__label-arrow:before {content: \"▸\";float: left;margin-right: 0.25em;color: #696969;}#sk-container-id-11 label.sk-toggleable__label-arrow:hover:before {color: black;}#sk-container-id-11 div.sk-estimator:hover label.sk-toggleable__label-arrow:before {color: black;}#sk-container-id-11 div.sk-toggleable__content {max-height: 0;max-width: 0;overflow: hidden;text-align: left;background-color: #f0f8ff;}#sk-container-id-11 div.sk-toggleable__content pre {margin: 0.2em;color: black;border-radius: 0.25em;background-color: #f0f8ff;}#sk-container-id-11 input.sk-toggleable__control:checked~div.sk-toggleable__content {max-height: 200px;max-width: 100%;overflow: auto;}#sk-container-id-11 input.sk-toggleable__control:checked~label.sk-toggleable__label-arrow:before {content: \"▾\";}#sk-container-id-11 div.sk-estimator input.sk-toggleable__control:checked~label.sk-toggleable__label {background-color: #d4ebff;}#sk-container-id-11 div.sk-label input.sk-toggleable__control:checked~label.sk-toggleable__label {background-color: #d4ebff;}#sk-container-id-11 input.sk-hidden--visually {border: 0;clip: rect(1px 1px 1px 1px);clip: rect(1px, 1px, 1px, 1px);height: 1px;margin: -1px;overflow: hidden;padding: 0;position: absolute;width: 1px;}#sk-container-id-11 div.sk-estimator {font-family: monospace;background-color: #f0f8ff;border: 1px dotted black;border-radius: 0.25em;box-sizing: border-box;margin-bottom: 0.5em;}#sk-container-id-11 div.sk-estimator:hover {background-color: #d4ebff;}#sk-container-id-11 div.sk-parallel-item::after {content: \"\";width: 100%;border-bottom: 1px solid gray;flex-grow: 1;}#sk-container-id-11 div.sk-label:hover label.sk-toggleable__label {background-color: #d4ebff;}#sk-container-id-11 div.sk-serial::before {content: \"\";position: absolute;border-left: 1px solid gray;box-sizing: border-box;top: 0;bottom: 0;left: 50%;z-index: 0;}#sk-container-id-11 div.sk-serial {display: flex;flex-direction: column;align-items: center;background-color: white;padding-right: 0.2em;padding-left: 0.2em;position: relative;}#sk-container-id-11 div.sk-item {position: relative;z-index: 1;}#sk-container-id-11 div.sk-parallel {display: flex;align-items: stretch;justify-content: center;background-color: white;position: relative;}#sk-container-id-11 div.sk-item::before, #sk-container-id-11 div.sk-parallel-item::before {content: \"\";position: absolute;border-left: 1px solid gray;box-sizing: border-box;top: 0;bottom: 0;left: 50%;z-index: -1;}#sk-container-id-11 div.sk-parallel-item {display: flex;flex-direction: column;z-index: 1;position: relative;background-color: white;}#sk-container-id-11 div.sk-parallel-item:first-child::after {align-self: flex-end;width: 50%;}#sk-container-id-11 div.sk-parallel-item:last-child::after {align-self: flex-start;width: 50%;}#sk-container-id-11 div.sk-parallel-item:only-child::after {width: 0;}#sk-container-id-11 div.sk-dashed-wrapped {border: 1px dashed gray;margin: 0 0.4em 0.5em 0.4em;box-sizing: border-box;padding-bottom: 0.4em;background-color: white;}#sk-container-id-11 div.sk-label label {font-family: monospace;font-weight: bold;display: inline-block;line-height: 1.2em;}#sk-container-id-11 div.sk-label-container {text-align: center;}#sk-container-id-11 div.sk-container {/* jupyter's `normalize.less` sets `[hidden] { display: none; }` but bootstrap.min.css set `[hidden] { display: none !important; }` so we also need the `!important` here to be able to override the default hidden behavior on the sphinx rendered scikit-learn.org. See: https://github.com/scikit-learn/scikit-learn/issues/21755 */display: inline-block !important;position: relative;}#sk-container-id-11 div.sk-text-repr-fallback {display: none;}</style><div id=\"sk-container-id-11\" class=\"sk-top-container\"><div class=\"sk-text-repr-fallback\"><pre>Pipeline(steps=[(&#x27;select&#x27;,\n",
       "                 SelectKBest(k=5,\n",
       "                             score_func=&lt;function mutual_info_classif at 0x0000023F81DD8790&gt;)),\n",
       "                (&#x27;clf&#x27;,\n",
       "                 HistGradientBoostingClassifier(max_iter=200,\n",
       "                                                random_state=202508))])</pre><b>In a Jupyter environment, please rerun this cell to show the HTML representation or trust the notebook. <br />On GitHub, the HTML representation is unable to render, please try loading this page with nbviewer.org.</b></div><div class=\"sk-container\" hidden><div class=\"sk-item sk-dashed-wrapped\"><div class=\"sk-label-container\"><div class=\"sk-label sk-toggleable\"><input class=\"sk-toggleable__control sk-hidden--visually\" id=\"sk-estimator-id-33\" type=\"checkbox\" ><label for=\"sk-estimator-id-33\" class=\"sk-toggleable__label sk-toggleable__label-arrow\">Pipeline</label><div class=\"sk-toggleable__content\"><pre>Pipeline(steps=[(&#x27;select&#x27;,\n",
       "                 SelectKBest(k=5,\n",
       "                             score_func=&lt;function mutual_info_classif at 0x0000023F81DD8790&gt;)),\n",
       "                (&#x27;clf&#x27;,\n",
       "                 HistGradientBoostingClassifier(max_iter=200,\n",
       "                                                random_state=202508))])</pre></div></div></div><div class=\"sk-serial\"><div class=\"sk-item\"><div class=\"sk-estimator sk-toggleable\"><input class=\"sk-toggleable__control sk-hidden--visually\" id=\"sk-estimator-id-34\" type=\"checkbox\" ><label for=\"sk-estimator-id-34\" class=\"sk-toggleable__label sk-toggleable__label-arrow\">SelectKBest</label><div class=\"sk-toggleable__content\"><pre>SelectKBest(k=5,\n",
       "            score_func=&lt;function mutual_info_classif at 0x0000023F81DD8790&gt;)</pre></div></div></div><div class=\"sk-item\"><div class=\"sk-estimator sk-toggleable\"><input class=\"sk-toggleable__control sk-hidden--visually\" id=\"sk-estimator-id-35\" type=\"checkbox\" ><label for=\"sk-estimator-id-35\" class=\"sk-toggleable__label sk-toggleable__label-arrow\">HistGradientBoostingClassifier</label><div class=\"sk-toggleable__content\"><pre>HistGradientBoostingClassifier(max_iter=200, random_state=202508)</pre></div></div></div></div></div></div></div>"
      ],
      "text/plain": [
       "Pipeline(steps=[('select',\n",
       "                 SelectKBest(k=5,\n",
       "                             score_func=<function mutual_info_classif at 0x0000023F81DD8790>)),\n",
       "                ('clf',\n",
       "                 HistGradientBoostingClassifier(max_iter=200,\n",
       "                                                random_state=202508))])"
      ]
     },
     "execution_count": 104,
     "metadata": {},
     "output_type": "execute_result"
    }
   ],
   "source": [
    "# Mejor modelo\n",
    "best_model = random_search_hgb.best_estimator_\n",
    "y_pred = best_model.predict(X_test)\n",
    "y_proba = best_model.predict_proba(X_test)[:, 1]\n",
    "best_model"
   ]
  },
  {
   "cell_type": "markdown",
   "id": "e2e9ace9",
   "metadata": {},
   "source": [
    "Curva roc para el ajuste del modelo de entrenamiento:"
   ]
  },
  {
   "cell_type": "code",
   "execution_count": null,
   "id": "043579cb",
   "metadata": {},
   "outputs": [
    {
     "data": {
      "image/png": "[encoded data removed]",
      "text/plain": [
       "<Figure size 800x600 with 1 Axes>"
      ]
     },
     "metadata": {},
     "output_type": "display_data"
    }
   ],
   "source": [
    "\n",
    "# Curva ROC\n",
    "fpr, tpr, _ = roc_curve(y_test, y_proba)\n",
    "plt.figure(figsize=(8,6))\n",
    "plt.plot(fpr, tpr, label=f'AUC = {roc_auc_score(y_test, y_proba):.3f}')\n",
    "plt.plot([0,1], [0,1], 'k--')\n",
    "plt.xlabel('FPR')\n",
    "plt.ylabel('TPR')\n",
    "plt.title('Curva ROC')\n",
    "plt.legend()\n",
    "plt.grid(True)\n",
    "plt.show()"
   ]
  },
  {
   "cell_type": "markdown",
   "id": "7ae49abd",
   "metadata": {},
   "source": [
    "Matriz de confusión"
   ]
  },
  {
   "cell_type": "code",
   "execution_count": 106,
   "id": "07f5edc0",
   "metadata": {},
   "outputs": [
    {
     "data": {
      "image/png": "[encoded data removed]",
      "text/plain": [
       "<Figure size 600x500 with 2 Axes>"
      ]
     },
     "metadata": {},
     "output_type": "display_data"
    }
   ],
   "source": [
    "\n",
    "# Matriz de confusión bonita\n",
    "cm = confusion_matrix(y_test, y_pred)\n",
    "plt.figure(figsize=(6,5))\n",
    "sns.heatmap(cm, annot=True, fmt='d', cmap='Blues', xticklabels=['No Fraude', 'Fraude'], yticklabels=['No Fraude', 'Fraude'])\n",
    "plt.xlabel('Predicción')\n",
    "plt.ylabel('Real')\n",
    "plt.title('Matriz de Confusión')\n",
    "plt.show()"
   ]
  },
  {
   "cell_type": "code",
   "execution_count": 107,
   "id": "e50286be",
   "metadata": {},
   "outputs": [
    {
     "name": "stdout",
     "output_type": "stream",
     "text": [
      "Reporte de clasificación:\n"
     ]
    },
    {
     "data": {
      "text/html": [
       "<style type=\"text/css\">\n",
       "#T_8de41_row0_col0, #T_8de41_row0_col1, #T_8de41_row0_col2, #T_8de41_row0_col3, #T_8de41_row2_col1, #T_8de41_row3_col3, #T_8de41_row4_col0, #T_8de41_row4_col1, #T_8de41_row4_col2, #T_8de41_row4_col3 {\n",
       "  background-color: #08306b;\n",
       "  color: #f1f1f1;\n",
       "}\n",
       "#T_8de41_row1_col0, #T_8de41_row1_col1, #T_8de41_row1_col2, #T_8de41_row1_col3, #T_8de41_row2_col3 {\n",
       "  background-color: #f7fbff;\n",
       "  color: #000000;\n",
       "}\n",
       "#T_8de41_row2_col0 {\n",
       "  background-color: #083370;\n",
       "  color: #f1f1f1;\n",
       "}\n",
       "#T_8de41_row2_col2 {\n",
       "  background-color: #08316d;\n",
       "  color: #f1f1f1;\n",
       "}\n",
       "#T_8de41_row3_col0, #T_8de41_row3_col2 {\n",
       "  background-color: #6aaed6;\n",
       "  color: #f1f1f1;\n",
       "}\n",
       "#T_8de41_row3_col1 {\n",
       "  background-color: #6caed6;\n",
       "  color: #f1f1f1;\n",
       "}\n",
       "</style>\n",
       "<table id=\"T_8de41\">\n",
       "  <thead>\n",
       "    <tr>\n",
       "      <th class=\"blank level0\" >&nbsp;</th>\n",
       "      <th id=\"T_8de41_level0_col0\" class=\"col_heading level0 col0\" >precision</th>\n",
       "      <th id=\"T_8de41_level0_col1\" class=\"col_heading level0 col1\" >recall</th>\n",
       "      <th id=\"T_8de41_level0_col2\" class=\"col_heading level0 col2\" >f1-score</th>\n",
       "      <th id=\"T_8de41_level0_col3\" class=\"col_heading level0 col3\" >support</th>\n",
       "    </tr>\n",
       "  </thead>\n",
       "  <tbody>\n",
       "    <tr>\n",
       "      <th id=\"T_8de41_level0_row0\" class=\"row_heading level0 row0\" >0</th>\n",
       "      <td id=\"T_8de41_row0_col0\" class=\"data row0 col0\" >1.000</td>\n",
       "      <td id=\"T_8de41_row0_col1\" class=\"data row0 col1\" >0.989</td>\n",
       "      <td id=\"T_8de41_row0_col2\" class=\"data row0 col2\" >0.994</td>\n",
       "      <td id=\"T_8de41_row0_col3\" class=\"data row0 col3\" >56651.000</td>\n",
       "    </tr>\n",
       "    <tr>\n",
       "      <th id=\"T_8de41_level0_row1\" class=\"row_heading level0 row1\" >1</th>\n",
       "      <td id=\"T_8de41_row1_col0\" class=\"data row1 col0\" >0.110</td>\n",
       "      <td id=\"T_8de41_row1_col1\" class=\"data row1 col1\" >0.832</td>\n",
       "      <td id=\"T_8de41_row1_col2\" class=\"data row1 col2\" >0.194</td>\n",
       "      <td id=\"T_8de41_row1_col3\" class=\"data row1 col3\" >95.000</td>\n",
       "    </tr>\n",
       "    <tr>\n",
       "      <th id=\"T_8de41_level0_row2\" class=\"row_heading level0 row2\" >accuracy</th>\n",
       "      <td id=\"T_8de41_row2_col0\" class=\"data row2 col0\" >0.988</td>\n",
       "      <td id=\"T_8de41_row2_col1\" class=\"data row2 col1\" >0.988</td>\n",
       "      <td id=\"T_8de41_row2_col2\" class=\"data row2 col2\" >0.988</td>\n",
       "      <td id=\"T_8de41_row2_col3\" class=\"data row2 col3\" >0.988</td>\n",
       "    </tr>\n",
       "    <tr>\n",
       "      <th id=\"T_8de41_level0_row3\" class=\"row_heading level0 row3\" >macro avg</th>\n",
       "      <td id=\"T_8de41_row3_col0\" class=\"data row3 col0\" >0.555</td>\n",
       "      <td id=\"T_8de41_row3_col1\" class=\"data row3 col1\" >0.910</td>\n",
       "      <td id=\"T_8de41_row3_col2\" class=\"data row3 col2\" >0.594</td>\n",
       "      <td id=\"T_8de41_row3_col3\" class=\"data row3 col3\" >56746.000</td>\n",
       "    </tr>\n",
       "    <tr>\n",
       "      <th id=\"T_8de41_level0_row4\" class=\"row_heading level0 row4\" >weighted avg</th>\n",
       "      <td id=\"T_8de41_row4_col0\" class=\"data row4 col0\" >0.998</td>\n",
       "      <td id=\"T_8de41_row4_col1\" class=\"data row4 col1\" >0.988</td>\n",
       "      <td id=\"T_8de41_row4_col2\" class=\"data row4 col2\" >0.993</td>\n",
       "      <td id=\"T_8de41_row4_col3\" class=\"data row4 col3\" >56746.000</td>\n",
       "    </tr>\n",
       "  </tbody>\n",
       "</table>\n"
      ],
      "text/plain": [
       "<pandas.io.formats.style.Styler at 0x23f8099a610>"
      ]
     },
     "metadata": {},
     "output_type": "display_data"
    }
   ],
   "source": [
    "from IPython.display import display\n",
    "\n",
    "# Genera el reporte como diccionario\n",
    "report_dict = classification_report(y_test, y_pred, digits=3, output_dict=True)\n",
    "report_df = pd.DataFrame(report_dict).transpose()\n",
    "\n",
    "# Redondea y muestra como tabla bonita\n",
    "print(\"Reporte de clasificación:\")\n",
    "display(report_df.style.format(\"{:.3f}\").background_gradient(cmap='Blues'))\n"
   ]
  },
  {
   "cell_type": "markdown",
   "id": "be4eded7",
   "metadata": {},
   "source": [
    "Dado que en este caso la señal de que el modelo funciona bien es el **f1-score** sobre la detección del fraude, se utilizara esta métrica para comparar cual modelo es mejor para detectarlo "
   ]
  },
  {
   "cell_type": "code",
   "execution_count": 108,
   "id": "f82d1f18",
   "metadata": {},
   "outputs": [
    {
     "data": {
      "text/html": [
       "<div>\n",
       "<style scoped>\n",
       "    .dataframe tbody tr th:only-of-type {\n",
       "        vertical-align: middle;\n",
       "    }\n",
       "\n",
       "    .dataframe tbody tr th {\n",
       "        vertical-align: top;\n",
       "    }\n",
       "\n",
       "    .dataframe thead th {\n",
       "        text-align: right;\n",
       "    }\n",
       "</style>\n",
       "<table border=\"1\" class=\"dataframe\">\n",
       "  <thead>\n",
       "    <tr style=\"text-align: right;\">\n",
       "      <th></th>\n",
       "      <th>Modelo</th>\n",
       "      <th>f1_score_fraudes</th>\n",
       "    </tr>\n",
       "  </thead>\n",
       "  <tbody>\n",
       "    <tr>\n",
       "      <th>0</th>\n",
       "      <td>regresion_logistica+PCA</td>\n",
       "      <td>0.17</td>\n",
       "    </tr>\n",
       "    <tr>\n",
       "      <th>1</th>\n",
       "      <td>regresion_random_forest+PCA</td>\n",
       "      <td>0.49</td>\n",
       "    </tr>\n",
       "    <tr>\n",
       "      <th>2</th>\n",
       "      <td>Decisicion_tree+PCA</td>\n",
       "      <td>0.14</td>\n",
       "    </tr>\n",
       "    <tr>\n",
       "      <th>3</th>\n",
       "      <td>hist_gradient_boosting+PCA</td>\n",
       "      <td>0.19</td>\n",
       "    </tr>\n",
       "  </tbody>\n",
       "</table>\n",
       "</div>"
      ],
      "text/plain": [
       "                        Modelo  f1_score_fraudes\n",
       "0      regresion_logistica+PCA              0.17\n",
       "1  regresion_random_forest+PCA              0.49\n",
       "2          Decisicion_tree+PCA              0.14\n",
       "3   hist_gradient_boosting+PCA              0.19"
      ]
     },
     "execution_count": 108,
     "metadata": {},
     "output_type": "execute_result"
    }
   ],
   "source": [
    "# Guarda el modelo entrenado en un DataFrame\n",
    "modelos.append('hist_gradient_boosting+PCA')\n",
    "f1_score_fraudes.append(np.round(report_df['f1-score']['1'],2))\n",
    "pd.DataFrame({\n",
    "    'Modelo': modelos,\n",
    "    'f1_score_fraudes': f1_score_fraudes\n",
    "})"
   ]
  },
  {
   "cell_type": "markdown",
   "id": "cd766346",
   "metadata": {},
   "source": [
    "### <span style = 'color: green'>**3.1.5**</span> Modelación basado ajuste PCA-Equilibrio-MLP-classifier:"
   ]
  },
  {
   "cell_type": "markdown",
   "id": "08f8952d",
   "metadata": {},
   "source": [
    "Dado que ya se encuentra normalizado el dataset y equilibrado para datos desbalanceados se pasara a correr modelos"
   ]
  },
  {
   "cell_type": "code",
   "execution_count": 111,
   "id": "2cf1d7ac",
   "metadata": {},
   "outputs": [
    {
     "name": "stdout",
     "output_type": "stream",
     "text": [
      "Fitting 3 folds for each of 2 candidates, totalling 6 fits\n"
     ]
    },
    {
     "data": {
      "text/html": [
       "<style>#sk-container-id-12 {color: black;}#sk-container-id-12 pre{padding: 0;}#sk-container-id-12 div.sk-toggleable {background-color: white;}#sk-container-id-12 label.sk-toggleable__label {cursor: pointer;display: block;width: 100%;margin-bottom: 0;padding: 0.3em;box-sizing: border-box;text-align: center;}#sk-container-id-12 label.sk-toggleable__label-arrow:before {content: \"▸\";float: left;margin-right: 0.25em;color: #696969;}#sk-container-id-12 label.sk-toggleable__label-arrow:hover:before {color: black;}#sk-container-id-12 div.sk-estimator:hover label.sk-toggleable__label-arrow:before {color: black;}#sk-container-id-12 div.sk-toggleable__content {max-height: 0;max-width: 0;overflow: hidden;text-align: left;background-color: #f0f8ff;}#sk-container-id-12 div.sk-toggleable__content pre {margin: 0.2em;color: black;border-radius: 0.25em;background-color: #f0f8ff;}#sk-container-id-12 input.sk-toggleable__control:checked~div.sk-toggleable__content {max-height: 200px;max-width: 100%;overflow: auto;}#sk-container-id-12 input.sk-toggleable__control:checked~label.sk-toggleable__label-arrow:before {content: \"▾\";}#sk-container-id-12 div.sk-estimator input.sk-toggleable__control:checked~label.sk-toggleable__label {background-color: #d4ebff;}#sk-container-id-12 div.sk-label input.sk-toggleable__control:checked~label.sk-toggleable__label {background-color: #d4ebff;}#sk-container-id-12 input.sk-hidden--visually {border: 0;clip: rect(1px 1px 1px 1px);clip: rect(1px, 1px, 1px, 1px);height: 1px;margin: -1px;overflow: hidden;padding: 0;position: absolute;width: 1px;}#sk-container-id-12 div.sk-estimator {font-family: monospace;background-color: #f0f8ff;border: 1px dotted black;border-radius: 0.25em;box-sizing: border-box;margin-bottom: 0.5em;}#sk-container-id-12 div.sk-estimator:hover {background-color: #d4ebff;}#sk-container-id-12 div.sk-parallel-item::after {content: \"\";width: 100%;border-bottom: 1px solid gray;flex-grow: 1;}#sk-container-id-12 div.sk-label:hover label.sk-toggleable__label {background-color: #d4ebff;}#sk-container-id-12 div.sk-serial::before {content: \"\";position: absolute;border-left: 1px solid gray;box-sizing: border-box;top: 0;bottom: 0;left: 50%;z-index: 0;}#sk-container-id-12 div.sk-serial {display: flex;flex-direction: column;align-items: center;background-color: white;padding-right: 0.2em;padding-left: 0.2em;position: relative;}#sk-container-id-12 div.sk-item {position: relative;z-index: 1;}#sk-container-id-12 div.sk-parallel {display: flex;align-items: stretch;justify-content: center;background-color: white;position: relative;}#sk-container-id-12 div.sk-item::before, #sk-container-id-12 div.sk-parallel-item::before {content: \"\";position: absolute;border-left: 1px solid gray;box-sizing: border-box;top: 0;bottom: 0;left: 50%;z-index: -1;}#sk-container-id-12 div.sk-parallel-item {display: flex;flex-direction: column;z-index: 1;position: relative;background-color: white;}#sk-container-id-12 div.sk-parallel-item:first-child::after {align-self: flex-end;width: 50%;}#sk-container-id-12 div.sk-parallel-item:last-child::after {align-self: flex-start;width: 50%;}#sk-container-id-12 div.sk-parallel-item:only-child::after {width: 0;}#sk-container-id-12 div.sk-dashed-wrapped {border: 1px dashed gray;margin: 0 0.4em 0.5em 0.4em;box-sizing: border-box;padding-bottom: 0.4em;background-color: white;}#sk-container-id-12 div.sk-label label {font-family: monospace;font-weight: bold;display: inline-block;line-height: 1.2em;}#sk-container-id-12 div.sk-label-container {text-align: center;}#sk-container-id-12 div.sk-container {/* jupyter's `normalize.less` sets `[hidden] { display: none; }` but bootstrap.min.css set `[hidden] { display: none !important; }` so we also need the `!important` here to be able to override the default hidden behavior on the sphinx rendered scikit-learn.org. See: https://github.com/scikit-learn/scikit-learn/issues/21755 */display: inline-block !important;position: relative;}#sk-container-id-12 div.sk-text-repr-fallback {display: none;}</style><div id=\"sk-container-id-12\" class=\"sk-top-container\"><div class=\"sk-text-repr-fallback\"><pre>RandomizedSearchCV(cv=3,\n",
       "                   estimator=Pipeline(steps=[(&#x27;select&#x27;,\n",
       "                                              SelectKBest(k=5,\n",
       "                                                          score_func=&lt;function mutual_info_classif at 0x0000023F81DD8790&gt;)),\n",
       "                                             (&#x27;clf&#x27;,\n",
       "                                              MLPClassifier(random_state=202508))]),\n",
       "                   n_iter=2, n_jobs=-1,\n",
       "                   param_distributions={&#x27;clf__activation&#x27;: [&#x27;relu&#x27;],\n",
       "                                        &#x27;clf__alpha&#x27;: [0.0001, 0.001],\n",
       "                                        &#x27;clf__hidden_layer_sizes&#x27;: [(50,),\n",
       "                                                                    (100,)]},\n",
       "                   random_state=202508, scoring=&#x27;f1&#x27;, verbose=1)</pre><b>In a Jupyter environment, please rerun this cell to show the HTML representation or trust the notebook. <br />On GitHub, the HTML representation is unable to render, please try loading this page with nbviewer.org.</b></div><div class=\"sk-container\" hidden><div class=\"sk-item sk-dashed-wrapped\"><div class=\"sk-label-container\"><div class=\"sk-label sk-toggleable\"><input class=\"sk-toggleable__control sk-hidden--visually\" id=\"sk-estimator-id-36\" type=\"checkbox\" ><label for=\"sk-estimator-id-36\" class=\"sk-toggleable__label sk-toggleable__label-arrow\">RandomizedSearchCV</label><div class=\"sk-toggleable__content\"><pre>RandomizedSearchCV(cv=3,\n",
       "                   estimator=Pipeline(steps=[(&#x27;select&#x27;,\n",
       "                                              SelectKBest(k=5,\n",
       "                                                          score_func=&lt;function mutual_info_classif at 0x0000023F81DD8790&gt;)),\n",
       "                                             (&#x27;clf&#x27;,\n",
       "                                              MLPClassifier(random_state=202508))]),\n",
       "                   n_iter=2, n_jobs=-1,\n",
       "                   param_distributions={&#x27;clf__activation&#x27;: [&#x27;relu&#x27;],\n",
       "                                        &#x27;clf__alpha&#x27;: [0.0001, 0.001],\n",
       "                                        &#x27;clf__hidden_layer_sizes&#x27;: [(50,),\n",
       "                                                                    (100,)]},\n",
       "                   random_state=202508, scoring=&#x27;f1&#x27;, verbose=1)</pre></div></div></div><div class=\"sk-parallel\"><div class=\"sk-parallel-item\"><div class=\"sk-item\"><div class=\"sk-label-container\"><div class=\"sk-label sk-toggleable\"><input class=\"sk-toggleable__control sk-hidden--visually\" id=\"sk-estimator-id-37\" type=\"checkbox\" ><label for=\"sk-estimator-id-37\" class=\"sk-toggleable__label sk-toggleable__label-arrow\">estimator: Pipeline</label><div class=\"sk-toggleable__content\"><pre>Pipeline(steps=[(&#x27;select&#x27;,\n",
       "                 SelectKBest(k=5,\n",
       "                             score_func=&lt;function mutual_info_classif at 0x0000023F81DD8790&gt;)),\n",
       "                (&#x27;clf&#x27;, MLPClassifier(random_state=202508))])</pre></div></div></div><div class=\"sk-serial\"><div class=\"sk-item\"><div class=\"sk-serial\"><div class=\"sk-item\"><div class=\"sk-estimator sk-toggleable\"><input class=\"sk-toggleable__control sk-hidden--visually\" id=\"sk-estimator-id-38\" type=\"checkbox\" ><label for=\"sk-estimator-id-38\" class=\"sk-toggleable__label sk-toggleable__label-arrow\">SelectKBest</label><div class=\"sk-toggleable__content\"><pre>SelectKBest(k=5,\n",
       "            score_func=&lt;function mutual_info_classif at 0x0000023F81DD8790&gt;)</pre></div></div></div><div class=\"sk-item\"><div class=\"sk-estimator sk-toggleable\"><input class=\"sk-toggleable__control sk-hidden--visually\" id=\"sk-estimator-id-39\" type=\"checkbox\" ><label for=\"sk-estimator-id-39\" class=\"sk-toggleable__label sk-toggleable__label-arrow\">MLPClassifier</label><div class=\"sk-toggleable__content\"><pre>MLPClassifier(random_state=202508)</pre></div></div></div></div></div></div></div></div></div></div></div></div>"
      ],
      "text/plain": [
       "RandomizedSearchCV(cv=3,\n",
       "                   estimator=Pipeline(steps=[('select',\n",
       "                                              SelectKBest(k=5,\n",
       "                                                          score_func=<function mutual_info_classif at 0x0000023F81DD8790>)),\n",
       "                                             ('clf',\n",
       "                                              MLPClassifier(random_state=202508))]),\n",
       "                   n_iter=2, n_jobs=-1,\n",
       "                   param_distributions={'clf__activation': ['relu'],\n",
       "                                        'clf__alpha': [0.0001, 0.001],\n",
       "                                        'clf__hidden_layer_sizes': [(50,),\n",
       "                                                                    (100,)]},\n",
       "                   random_state=202508, scoring='f1', verbose=1)"
      ]
     },
     "execution_count": 111,
     "metadata": {},
     "output_type": "execute_result"
    }
   ],
   "source": [
    "from sklearn.neural_network import MLPClassifier\n",
    "\n",
    "pipe_mlp = Pipeline([\n",
    "    ('select', SelectKBest(score_func=mutual_info_classif, k=5)),\n",
    "    ('clf', MLPClassifier(max_iter=200, random_state=202508))\n",
    "])\n",
    "\n",
    "param_dist_mlp = {\n",
    "    'clf__hidden_layer_sizes': [(50,), (100,)],\n",
    "    'clf__activation': ['relu'],\n",
    "    'clf__alpha': [0.0001, 0.001]\n",
    "}\n",
    "\n",
    "random_search_mlp = RandomizedSearchCV(\n",
    "    pipe_mlp,\n",
    "    param_distributions=param_dist_mlp,\n",
    "    n_iter=2,\n",
    "    scoring='f1',\n",
    "    cv=3,\n",
    "    random_state=202508,\n",
    "    verbose=1,\n",
    "    n_jobs=-1\n",
    ")\n",
    "\n",
    "random_search_mlp.fit(X_train, y_train)\n"
   ]
  },
  {
   "cell_type": "markdown",
   "id": "f073c7b3",
   "metadata": {},
   "source": [
    "Ajuste del mejor modelo:"
   ]
  },
  {
   "cell_type": "code",
   "execution_count": 112,
   "id": "126ef448",
   "metadata": {},
   "outputs": [
    {
     "data": {
      "text/html": [
       "<style>#sk-container-id-13 {color: black;}#sk-container-id-13 pre{padding: 0;}#sk-container-id-13 div.sk-toggleable {background-color: white;}#sk-container-id-13 label.sk-toggleable__label {cursor: pointer;display: block;width: 100%;margin-bottom: 0;padding: 0.3em;box-sizing: border-box;text-align: center;}#sk-container-id-13 label.sk-toggleable__label-arrow:before {content: \"▸\";float: left;margin-right: 0.25em;color: #696969;}#sk-container-id-13 label.sk-toggleable__label-arrow:hover:before {color: black;}#sk-container-id-13 div.sk-estimator:hover label.sk-toggleable__label-arrow:before {color: black;}#sk-container-id-13 div.sk-toggleable__content {max-height: 0;max-width: 0;overflow: hidden;text-align: left;background-color: #f0f8ff;}#sk-container-id-13 div.sk-toggleable__content pre {margin: 0.2em;color: black;border-radius: 0.25em;background-color: #f0f8ff;}#sk-container-id-13 input.sk-toggleable__control:checked~div.sk-toggleable__content {max-height: 200px;max-width: 100%;overflow: auto;}#sk-container-id-13 input.sk-toggleable__control:checked~label.sk-toggleable__label-arrow:before {content: \"▾\";}#sk-container-id-13 div.sk-estimator input.sk-toggleable__control:checked~label.sk-toggleable__label {background-color: #d4ebff;}#sk-container-id-13 div.sk-label input.sk-toggleable__control:checked~label.sk-toggleable__label {background-color: #d4ebff;}#sk-container-id-13 input.sk-hidden--visually {border: 0;clip: rect(1px 1px 1px 1px);clip: rect(1px, 1px, 1px, 1px);height: 1px;margin: -1px;overflow: hidden;padding: 0;position: absolute;width: 1px;}#sk-container-id-13 div.sk-estimator {font-family: monospace;background-color: #f0f8ff;border: 1px dotted black;border-radius: 0.25em;box-sizing: border-box;margin-bottom: 0.5em;}#sk-container-id-13 div.sk-estimator:hover {background-color: #d4ebff;}#sk-container-id-13 div.sk-parallel-item::after {content: \"\";width: 100%;border-bottom: 1px solid gray;flex-grow: 1;}#sk-container-id-13 div.sk-label:hover label.sk-toggleable__label {background-color: #d4ebff;}#sk-container-id-13 div.sk-serial::before {content: \"\";position: absolute;border-left: 1px solid gray;box-sizing: border-box;top: 0;bottom: 0;left: 50%;z-index: 0;}#sk-container-id-13 div.sk-serial {display: flex;flex-direction: column;align-items: center;background-color: white;padding-right: 0.2em;padding-left: 0.2em;position: relative;}#sk-container-id-13 div.sk-item {position: relative;z-index: 1;}#sk-container-id-13 div.sk-parallel {display: flex;align-items: stretch;justify-content: center;background-color: white;position: relative;}#sk-container-id-13 div.sk-item::before, #sk-container-id-13 div.sk-parallel-item::before {content: \"\";position: absolute;border-left: 1px solid gray;box-sizing: border-box;top: 0;bottom: 0;left: 50%;z-index: -1;}#sk-container-id-13 div.sk-parallel-item {display: flex;flex-direction: column;z-index: 1;position: relative;background-color: white;}#sk-container-id-13 div.sk-parallel-item:first-child::after {align-self: flex-end;width: 50%;}#sk-container-id-13 div.sk-parallel-item:last-child::after {align-self: flex-start;width: 50%;}#sk-container-id-13 div.sk-parallel-item:only-child::after {width: 0;}#sk-container-id-13 div.sk-dashed-wrapped {border: 1px dashed gray;margin: 0 0.4em 0.5em 0.4em;box-sizing: border-box;padding-bottom: 0.4em;background-color: white;}#sk-container-id-13 div.sk-label label {font-family: monospace;font-weight: bold;display: inline-block;line-height: 1.2em;}#sk-container-id-13 div.sk-label-container {text-align: center;}#sk-container-id-13 div.sk-container {/* jupyter's `normalize.less` sets `[hidden] { display: none; }` but bootstrap.min.css set `[hidden] { display: none !important; }` so we also need the `!important` here to be able to override the default hidden behavior on the sphinx rendered scikit-learn.org. See: https://github.com/scikit-learn/scikit-learn/issues/21755 */display: inline-block !important;position: relative;}#sk-container-id-13 div.sk-text-repr-fallback {display: none;}</style><div id=\"sk-container-id-13\" class=\"sk-top-container\"><div class=\"sk-text-repr-fallback\"><pre>Pipeline(steps=[(&#x27;select&#x27;,\n",
       "                 SelectKBest(k=5,\n",
       "                             score_func=&lt;function mutual_info_classif at 0x0000023F81DD8790&gt;)),\n",
       "                (&#x27;clf&#x27;, MLPClassifier(alpha=0.001, random_state=202508))])</pre><b>In a Jupyter environment, please rerun this cell to show the HTML representation or trust the notebook. <br />On GitHub, the HTML representation is unable to render, please try loading this page with nbviewer.org.</b></div><div class=\"sk-container\" hidden><div class=\"sk-item sk-dashed-wrapped\"><div class=\"sk-label-container\"><div class=\"sk-label sk-toggleable\"><input class=\"sk-toggleable__control sk-hidden--visually\" id=\"sk-estimator-id-40\" type=\"checkbox\" ><label for=\"sk-estimator-id-40\" class=\"sk-toggleable__label sk-toggleable__label-arrow\">Pipeline</label><div class=\"sk-toggleable__content\"><pre>Pipeline(steps=[(&#x27;select&#x27;,\n",
       "                 SelectKBest(k=5,\n",
       "                             score_func=&lt;function mutual_info_classif at 0x0000023F81DD8790&gt;)),\n",
       "                (&#x27;clf&#x27;, MLPClassifier(alpha=0.001, random_state=202508))])</pre></div></div></div><div class=\"sk-serial\"><div class=\"sk-item\"><div class=\"sk-estimator sk-toggleable\"><input class=\"sk-toggleable__control sk-hidden--visually\" id=\"sk-estimator-id-41\" type=\"checkbox\" ><label for=\"sk-estimator-id-41\" class=\"sk-toggleable__label sk-toggleable__label-arrow\">SelectKBest</label><div class=\"sk-toggleable__content\"><pre>SelectKBest(k=5,\n",
       "            score_func=&lt;function mutual_info_classif at 0x0000023F81DD8790&gt;)</pre></div></div></div><div class=\"sk-item\"><div class=\"sk-estimator sk-toggleable\"><input class=\"sk-toggleable__control sk-hidden--visually\" id=\"sk-estimator-id-42\" type=\"checkbox\" ><label for=\"sk-estimator-id-42\" class=\"sk-toggleable__label sk-toggleable__label-arrow\">MLPClassifier</label><div class=\"sk-toggleable__content\"><pre>MLPClassifier(alpha=0.001, random_state=202508)</pre></div></div></div></div></div></div></div>"
      ],
      "text/plain": [
       "Pipeline(steps=[('select',\n",
       "                 SelectKBest(k=5,\n",
       "                             score_func=<function mutual_info_classif at 0x0000023F81DD8790>)),\n",
       "                ('clf', MLPClassifier(alpha=0.001, random_state=202508))])"
      ]
     },
     "execution_count": 112,
     "metadata": {},
     "output_type": "execute_result"
    }
   ],
   "source": [
    "# Mejor modelo\n",
    "best_model = random_search_mlp.best_estimator_\n",
    "y_pred = best_model.predict(X_test)\n",
    "y_proba = best_model.predict_proba(X_test)[:, 1]\n",
    "best_model"
   ]
  },
  {
   "cell_type": "markdown",
   "id": "f1884359",
   "metadata": {},
   "source": [
    "Curva roc para el ajuste del modelo de entrenamiento:"
   ]
  },
  {
   "cell_type": "code",
   "execution_count": null,
   "id": "f88ebd46",
   "metadata": {},
   "outputs": [
    {
     "data": {
      "image/png": "[encoded data removed]",
      "text/plain": [
       "<Figure size 800x600 with 1 Axes>"
      ]
     },
     "metadata": {},
     "output_type": "display_data"
    }
   ],
   "source": [
    "\n",
    "# Curva ROC\n",
    "fpr, tpr, _ = roc_curve(y_test, y_proba)\n",
    "plt.figure(figsize=(8,6))\n",
    "plt.plot(fpr, tpr, label=f'AUC = {roc_auc_score(y_test, y_proba):.3f}')\n",
    "plt.plot([0,1], [0,1], 'k--')\n",
    "plt.xlabel('FPR')\n",
    "plt.ylabel('TPR')\n",
    "plt.title('Curva ROC')\n",
    "plt.legend()\n",
    "plt.grid(True)\n",
    "plt.show()"
   ]
  },
  {
   "cell_type": "markdown",
   "id": "f8594ea5",
   "metadata": {},
   "source": [
    "Matriz de confusión"
   ]
  },
  {
   "cell_type": "code",
   "execution_count": 114,
   "id": "64bb023d",
   "metadata": {},
   "outputs": [
    {
     "data": {
      "image/png": "[encoded data removed]",
      "text/plain": [
       "<Figure size 600x500 with 2 Axes>"
      ]
     },
     "metadata": {},
     "output_type": "display_data"
    }
   ],
   "source": [
    "\n",
    "# Matriz de confusión bonita\n",
    "cm = confusion_matrix(y_test, y_pred)\n",
    "plt.figure(figsize=(6,5))\n",
    "sns.heatmap(cm, annot=True, fmt='d', cmap='Blues', xticklabels=['No Fraude', 'Fraude'], yticklabels=['No Fraude', 'Fraude'])\n",
    "plt.xlabel('Predicción')\n",
    "plt.ylabel('Real')\n",
    "plt.title('Matriz de Confusión')\n",
    "plt.show()"
   ]
  },
  {
   "cell_type": "code",
   "execution_count": 115,
   "id": "76110ef0",
   "metadata": {},
   "outputs": [
    {
     "name": "stdout",
     "output_type": "stream",
     "text": [
      "Reporte de clasificación:\n"
     ]
    },
    {
     "data": {
      "text/html": [
       "<style type=\"text/css\">\n",
       "#T_4f876_row0_col0, #T_4f876_row0_col1, #T_4f876_row0_col2, #T_4f876_row0_col3, #T_4f876_row2_col1, #T_4f876_row3_col3, #T_4f876_row4_col0, #T_4f876_row4_col1, #T_4f876_row4_col2, #T_4f876_row4_col3 {\n",
       "  background-color: #08306b;\n",
       "  color: #f1f1f1;\n",
       "}\n",
       "#T_4f876_row1_col0, #T_4f876_row1_col1, #T_4f876_row1_col2, #T_4f876_row1_col3, #T_4f876_row2_col3 {\n",
       "  background-color: #f7fbff;\n",
       "  color: #000000;\n",
       "}\n",
       "#T_4f876_row2_col0 {\n",
       "  background-color: #083370;\n",
       "  color: #f1f1f1;\n",
       "}\n",
       "#T_4f876_row2_col2 {\n",
       "  background-color: #08326e;\n",
       "  color: #f1f1f1;\n",
       "}\n",
       "#T_4f876_row3_col0 {\n",
       "  background-color: #6caed6;\n",
       "  color: #f1f1f1;\n",
       "}\n",
       "#T_4f876_row3_col1, #T_4f876_row3_col2 {\n",
       "  background-color: #6aaed6;\n",
       "  color: #f1f1f1;\n",
       "}\n",
       "</style>\n",
       "<table id=\"T_4f876\">\n",
       "  <thead>\n",
       "    <tr>\n",
       "      <th class=\"blank level0\" >&nbsp;</th>\n",
       "      <th id=\"T_4f876_level0_col0\" class=\"col_heading level0 col0\" >precision</th>\n",
       "      <th id=\"T_4f876_level0_col1\" class=\"col_heading level0 col1\" >recall</th>\n",
       "      <th id=\"T_4f876_level0_col2\" class=\"col_heading level0 col2\" >f1-score</th>\n",
       "      <th id=\"T_4f876_level0_col3\" class=\"col_heading level0 col3\" >support</th>\n",
       "    </tr>\n",
       "  </thead>\n",
       "  <tbody>\n",
       "    <tr>\n",
       "      <th id=\"T_4f876_level0_row0\" class=\"row_heading level0 row0\" >0</th>\n",
       "      <td id=\"T_4f876_row0_col0\" class=\"data row0 col0\" >1.000</td>\n",
       "      <td id=\"T_4f876_row0_col1\" class=\"data row0 col1\" >0.987</td>\n",
       "      <td id=\"T_4f876_row0_col2\" class=\"data row0 col2\" >0.993</td>\n",
       "      <td id=\"T_4f876_row0_col3\" class=\"data row0 col3\" >56651.000</td>\n",
       "    </tr>\n",
       "    <tr>\n",
       "      <th id=\"T_4f876_level0_row1\" class=\"row_heading level0 row1\" >1</th>\n",
       "      <td id=\"T_4f876_row1_col0\" class=\"data row1 col0\" >0.098</td>\n",
       "      <td id=\"T_4f876_row1_col1\" class=\"data row1 col1\" >0.842</td>\n",
       "      <td id=\"T_4f876_row1_col2\" class=\"data row1 col2\" >0.175</td>\n",
       "      <td id=\"T_4f876_row1_col3\" class=\"data row1 col3\" >95.000</td>\n",
       "    </tr>\n",
       "    <tr>\n",
       "      <th id=\"T_4f876_level0_row2\" class=\"row_heading level0 row2\" >accuracy</th>\n",
       "      <td id=\"T_4f876_row2_col0\" class=\"data row2 col0\" >0.987</td>\n",
       "      <td id=\"T_4f876_row2_col1\" class=\"data row2 col1\" >0.987</td>\n",
       "      <td id=\"T_4f876_row2_col2\" class=\"data row2 col2\" >0.987</td>\n",
       "      <td id=\"T_4f876_row2_col3\" class=\"data row2 col3\" >0.987</td>\n",
       "    </tr>\n",
       "    <tr>\n",
       "      <th id=\"T_4f876_level0_row3\" class=\"row_heading level0 row3\" >macro avg</th>\n",
       "      <td id=\"T_4f876_row3_col0\" class=\"data row3 col0\" >0.549</td>\n",
       "      <td id=\"T_4f876_row3_col1\" class=\"data row3 col1\" >0.915</td>\n",
       "      <td id=\"T_4f876_row3_col2\" class=\"data row3 col2\" >0.584</td>\n",
       "      <td id=\"T_4f876_row3_col3\" class=\"data row3 col3\" >56746.000</td>\n",
       "    </tr>\n",
       "    <tr>\n",
       "      <th id=\"T_4f876_level0_row4\" class=\"row_heading level0 row4\" >weighted avg</th>\n",
       "      <td id=\"T_4f876_row4_col0\" class=\"data row4 col0\" >0.998</td>\n",
       "      <td id=\"T_4f876_row4_col1\" class=\"data row4 col1\" >0.987</td>\n",
       "      <td id=\"T_4f876_row4_col2\" class=\"data row4 col2\" >0.992</td>\n",
       "      <td id=\"T_4f876_row4_col3\" class=\"data row4 col3\" >56746.000</td>\n",
       "    </tr>\n",
       "  </tbody>\n",
       "</table>\n"
      ],
      "text/plain": [
       "<pandas.io.formats.style.Styler at 0x23f82aae8b0>"
      ]
     },
     "metadata": {},
     "output_type": "display_data"
    }
   ],
   "source": [
    "from IPython.display import display\n",
    "\n",
    "# Genera el reporte como diccionario\n",
    "report_dict = classification_report(y_test, y_pred, digits=3, output_dict=True)\n",
    "report_df = pd.DataFrame(report_dict).transpose()\n",
    "\n",
    "# Redondea y muestra como tabla bonita\n",
    "print(\"Reporte de clasificación:\")\n",
    "display(report_df.style.format(\"{:.3f}\").background_gradient(cmap='Blues'))\n"
   ]
  },
  {
   "cell_type": "markdown",
   "id": "645f3ddb",
   "metadata": {},
   "source": [
    "Dado que en este caso la señal de que el modelo funciona bien es el **f1-score** sobre la detección del fraude, se utilizara esta métrica para comparar cual modelo es mejor para detectarlo "
   ]
  },
  {
   "cell_type": "code",
   "execution_count": 116,
   "id": "8b6eab10",
   "metadata": {},
   "outputs": [
    {
     "data": {
      "text/html": [
       "<div>\n",
       "<style scoped>\n",
       "    .dataframe tbody tr th:only-of-type {\n",
       "        vertical-align: middle;\n",
       "    }\n",
       "\n",
       "    .dataframe tbody tr th {\n",
       "        vertical-align: top;\n",
       "    }\n",
       "\n",
       "    .dataframe thead th {\n",
       "        text-align: right;\n",
       "    }\n",
       "</style>\n",
       "<table border=\"1\" class=\"dataframe\">\n",
       "  <thead>\n",
       "    <tr style=\"text-align: right;\">\n",
       "      <th></th>\n",
       "      <th>Modelo</th>\n",
       "      <th>f1_score_fraudes</th>\n",
       "    </tr>\n",
       "  </thead>\n",
       "  <tbody>\n",
       "    <tr>\n",
       "      <th>0</th>\n",
       "      <td>regresion_logistica+PCA</td>\n",
       "      <td>0.17</td>\n",
       "    </tr>\n",
       "    <tr>\n",
       "      <th>1</th>\n",
       "      <td>regresion_random_forest+PCA</td>\n",
       "      <td>0.49</td>\n",
       "    </tr>\n",
       "    <tr>\n",
       "      <th>2</th>\n",
       "      <td>Decisicion_tree+PCA</td>\n",
       "      <td>0.14</td>\n",
       "    </tr>\n",
       "    <tr>\n",
       "      <th>3</th>\n",
       "      <td>hist_gradient_boosting+PCA</td>\n",
       "      <td>0.19</td>\n",
       "    </tr>\n",
       "    <tr>\n",
       "      <th>4</th>\n",
       "      <td>MLP_classifier+PCA</td>\n",
       "      <td>0.18</td>\n",
       "    </tr>\n",
       "  </tbody>\n",
       "</table>\n",
       "</div>"
      ],
      "text/plain": [
       "                        Modelo  f1_score_fraudes\n",
       "0      regresion_logistica+PCA              0.17\n",
       "1  regresion_random_forest+PCA              0.49\n",
       "2          Decisicion_tree+PCA              0.14\n",
       "3   hist_gradient_boosting+PCA              0.19\n",
       "4           MLP_classifier+PCA              0.18"
      ]
     },
     "execution_count": 116,
     "metadata": {},
     "output_type": "execute_result"
    }
   ],
   "source": [
    "# Guarda el modelo entrenado en un DataFrame\n",
    "modelos.append('MLP_classifier+PCA')\n",
    "f1_score_fraudes.append(np.round(report_df['f1-score']['1'],2))\n",
    "pd.DataFrame({\n",
    "    'Modelo': modelos,\n",
    "    'f1_score_fraudes': f1_score_fraudes\n",
    "})"
   ]
  },
  {
   "cell_type": "markdown",
   "id": "28c68bfe",
   "metadata": {},
   "source": [
    "### <span style = 'color: green'>**3.1.6**</span> Modelación basado ajuste PCA-Equilibrio-Light Gradient Boosting Machine:"
   ]
  },
  {
   "cell_type": "markdown",
   "id": "871564c5",
   "metadata": {},
   "source": [
    "Dado que ya se encuentra normalizado el dataset y equilibrado para datos desbalanceados se pasara a correr modelos"
   ]
  },
  {
   "cell_type": "code",
   "execution_count": null,
   "id": "bfed4631",
   "metadata": {},
   "outputs": [
    {
     "name": "stdout",
     "output_type": "stream",
     "text": [
      "Fitting 3 folds for each of 2 candidates, totalling 6 fits\n",
      "[LightGBM] [Info] Number of positive: 226602, number of negative: 226602\n",
      "[LightGBM] [Info] Auto-choosing col-wise multi-threading, the overhead of testing was 0.006151 seconds.\n",
      "You can set `force_col_wise=true` to remove the overhead.\n",
      "[LightGBM] [Info] Total Bins 1275\n",
      "[LightGBM] [Info] Number of data points in the train set: 453204, number of used features: 5\n",
      "[LightGBM] [Info] [binary:BoostFromScore]: pavg=0.500000 -> initscore=0.000000\n",
      "[LightGBM] [Warning] No further splits with positive gain, best gain: -inf\n",
      "[LightGBM] [Warning] No further splits with positive gain, best gain: -inf\n",
      "[LightGBM] [Warning] No further splits with positive gain, best gain: -inf\n",
      "[LightGBM] [Warning] No further splits with positive gain, best gain: -inf\n",
      "[LightGBM] [Warning] No further splits with positive gain, best gain: -inf\n",
      "[LightGBM] [Warning] No further splits with positive gain, best gain: -inf\n",
      "[LightGBM] [Warning] No further splits with positive gain, best gain: -inf\n",
      "[LightGBM] [Warning] No further splits with positive gain, best gain: -inf\n",
      "[LightGBM] [Warning] No further splits with positive gain, best gain: -inf\n",
      "[LightGBM] [Warning] No further splits with positive gain, best gain: -inf\n",
      "[LightGBM] [Warning] No further splits with positive gain, best gain: -inf\n",
      "[LightGBM] [Warning] No further splits with positive gain, best gain: -inf\n",
      "[LightGBM] [Warning] No further splits with positive gain, best gain: -inf\n",
      "[LightGBM] [Warning] No further splits with positive gain, best gain: -inf\n",
      "[LightGBM] [Warning] No further splits with positive gain, best gain: -inf\n"
     ]
    },
    {
     "data": {
      "text/html": [
       "<style>#sk-container-id-14 {color: black;}#sk-container-id-14 pre{padding: 0;}#sk-container-id-14 div.sk-toggleable {background-color: white;}#sk-container-id-14 label.sk-toggleable__label {cursor: pointer;display: block;width: 100%;margin-bottom: 0;padding: 0.3em;box-sizing: border-box;text-align: center;}#sk-container-id-14 label.sk-toggleable__label-arrow:before {content: \"▸\";float: left;margin-right: 0.25em;color: #696969;}#sk-container-id-14 label.sk-toggleable__label-arrow:hover:before {color: black;}#sk-container-id-14 div.sk-estimator:hover label.sk-toggleable__label-arrow:before {color: black;}#sk-container-id-14 div.sk-toggleable__content {max-height: 0;max-width: 0;overflow: hidden;text-align: left;background-color: #f0f8ff;}#sk-container-id-14 div.sk-toggleable__content pre {margin: 0.2em;color: black;border-radius: 0.25em;background-color: #f0f8ff;}#sk-container-id-14 input.sk-toggleable__control:checked~div.sk-toggleable__content {max-height: 200px;max-width: 100%;overflow: auto;}#sk-container-id-14 input.sk-toggleable__control:checked~label.sk-toggleable__label-arrow:before {content: \"▾\";}#sk-container-id-14 div.sk-estimator input.sk-toggleable__control:checked~label.sk-toggleable__label {background-color: #d4ebff;}#sk-container-id-14 div.sk-label input.sk-toggleable__control:checked~label.sk-toggleable__label {background-color: #d4ebff;}#sk-container-id-14 input.sk-hidden--visually {border: 0;clip: rect(1px 1px 1px 1px);clip: rect(1px, 1px, 1px, 1px);height: 1px;margin: -1px;overflow: hidden;padding: 0;position: absolute;width: 1px;}#sk-container-id-14 div.sk-estimator {font-family: monospace;background-color: #f0f8ff;border: 1px dotted black;border-radius: 0.25em;box-sizing: border-box;margin-bottom: 0.5em;}#sk-container-id-14 div.sk-estimator:hover {background-color: #d4ebff;}#sk-container-id-14 div.sk-parallel-item::after {content: \"\";width: 100%;border-bottom: 1px solid gray;flex-grow: 1;}#sk-container-id-14 div.sk-label:hover label.sk-toggleable__label {background-color: #d4ebff;}#sk-container-id-14 div.sk-serial::before {content: \"\";position: absolute;border-left: 1px solid gray;box-sizing: border-box;top: 0;bottom: 0;left: 50%;z-index: 0;}#sk-container-id-14 div.sk-serial {display: flex;flex-direction: column;align-items: center;background-color: white;padding-right: 0.2em;padding-left: 0.2em;position: relative;}#sk-container-id-14 div.sk-item {position: relative;z-index: 1;}#sk-container-id-14 div.sk-parallel {display: flex;align-items: stretch;justify-content: center;background-color: white;position: relative;}#sk-container-id-14 div.sk-item::before, #sk-container-id-14 div.sk-parallel-item::before {content: \"\";position: absolute;border-left: 1px solid gray;box-sizing: border-box;top: 0;bottom: 0;left: 50%;z-index: -1;}#sk-container-id-14 div.sk-parallel-item {display: flex;flex-direction: column;z-index: 1;position: relative;background-color: white;}#sk-container-id-14 div.sk-parallel-item:first-child::after {align-self: flex-end;width: 50%;}#sk-container-id-14 div.sk-parallel-item:last-child::after {align-self: flex-start;width: 50%;}#sk-container-id-14 div.sk-parallel-item:only-child::after {width: 0;}#sk-container-id-14 div.sk-dashed-wrapped {border: 1px dashed gray;margin: 0 0.4em 0.5em 0.4em;box-sizing: border-box;padding-bottom: 0.4em;background-color: white;}#sk-container-id-14 div.sk-label label {font-family: monospace;font-weight: bold;display: inline-block;line-height: 1.2em;}#sk-container-id-14 div.sk-label-container {text-align: center;}#sk-container-id-14 div.sk-container {/* jupyter's `normalize.less` sets `[hidden] { display: none; }` but bootstrap.min.css set `[hidden] { display: none !important; }` so we also need the `!important` here to be able to override the default hidden behavior on the sphinx rendered scikit-learn.org. See: https://github.com/scikit-learn/scikit-learn/issues/21755 */display: inline-block !important;position: relative;}#sk-container-id-14 div.sk-text-repr-fallback {display: none;}</style><div id=\"sk-container-id-14\" class=\"sk-top-container\"><div class=\"sk-text-repr-fallback\"><pre>RandomizedSearchCV(cv=3,\n",
       "                   estimator=Pipeline(steps=[(&#x27;select&#x27;,\n",
       "                                              SelectKBest(k=5,\n",
       "                                                          score_func=&lt;function mutual_info_classif at 0x0000023F81DD8790&gt;)),\n",
       "                                             (&#x27;clf&#x27;,\n",
       "                                              LGBMClassifier(random_state=202508))]),\n",
       "                   n_iter=2, n_jobs=-1,\n",
       "                   param_distributions={&#x27;clf__learning_rate&#x27;: [0.01, 0.1],\n",
       "                                        &#x27;clf__max_depth&#x27;: [5, 10, -1],\n",
       "                                        &#x27;clf__n_estimators&#x27;: [100, 200]},\n",
       "                   random_state=202508, scoring=&#x27;f1&#x27;, verbose=1)</pre><b>In a Jupyter environment, please rerun this cell to show the HTML representation or trust the notebook. <br />On GitHub, the HTML representation is unable to render, please try loading this page with nbviewer.org.</b></div><div class=\"sk-container\" hidden><div class=\"sk-item sk-dashed-wrapped\"><div class=\"sk-label-container\"><div class=\"sk-label sk-toggleable\"><input class=\"sk-toggleable__control sk-hidden--visually\" id=\"sk-estimator-id-43\" type=\"checkbox\" ><label for=\"sk-estimator-id-43\" class=\"sk-toggleable__label sk-toggleable__label-arrow\">RandomizedSearchCV</label><div class=\"sk-toggleable__content\"><pre>RandomizedSearchCV(cv=3,\n",
       "                   estimator=Pipeline(steps=[(&#x27;select&#x27;,\n",
       "                                              SelectKBest(k=5,\n",
       "                                                          score_func=&lt;function mutual_info_classif at 0x0000023F81DD8790&gt;)),\n",
       "                                             (&#x27;clf&#x27;,\n",
       "                                              LGBMClassifier(random_state=202508))]),\n",
       "                   n_iter=2, n_jobs=-1,\n",
       "                   param_distributions={&#x27;clf__learning_rate&#x27;: [0.01, 0.1],\n",
       "                                        &#x27;clf__max_depth&#x27;: [5, 10, -1],\n",
       "                                        &#x27;clf__n_estimators&#x27;: [100, 200]},\n",
       "                   random_state=202508, scoring=&#x27;f1&#x27;, verbose=1)</pre></div></div></div><div class=\"sk-parallel\"><div class=\"sk-parallel-item\"><div class=\"sk-item\"><div class=\"sk-label-container\"><div class=\"sk-label sk-toggleable\"><input class=\"sk-toggleable__control sk-hidden--visually\" id=\"sk-estimator-id-44\" type=\"checkbox\" ><label for=\"sk-estimator-id-44\" class=\"sk-toggleable__label sk-toggleable__label-arrow\">estimator: Pipeline</label><div class=\"sk-toggleable__content\"><pre>Pipeline(steps=[(&#x27;select&#x27;,\n",
       "                 SelectKBest(k=5,\n",
       "                             score_func=&lt;function mutual_info_classif at 0x0000023F81DD8790&gt;)),\n",
       "                (&#x27;clf&#x27;, LGBMClassifier(random_state=202508))])</pre></div></div></div><div class=\"sk-serial\"><div class=\"sk-item\"><div class=\"sk-serial\"><div class=\"sk-item\"><div class=\"sk-estimator sk-toggleable\"><input class=\"sk-toggleable__control sk-hidden--visually\" id=\"sk-estimator-id-45\" type=\"checkbox\" ><label for=\"sk-estimator-id-45\" class=\"sk-toggleable__label sk-toggleable__label-arrow\">SelectKBest</label><div class=\"sk-toggleable__content\"><pre>SelectKBest(k=5,\n",
       "            score_func=&lt;function mutual_info_classif at 0x0000023F81DD8790&gt;)</pre></div></div></div><div class=\"sk-item\"><div class=\"sk-estimator sk-toggleable\"><input class=\"sk-toggleable__control sk-hidden--visually\" id=\"sk-estimator-id-46\" type=\"checkbox\" ><label for=\"sk-estimator-id-46\" class=\"sk-toggleable__label sk-toggleable__label-arrow\">LGBMClassifier</label><div class=\"sk-toggleable__content\"><pre>LGBMClassifier(random_state=202508)</pre></div></div></div></div></div></div></div></div></div></div></div></div>"
      ],
      "text/plain": [
       "RandomizedSearchCV(cv=3,\n",
       "                   estimator=Pipeline(steps=[('select',\n",
       "                                              SelectKBest(k=5,\n",
       "                                                          score_func=<function mutual_info_classif at 0x0000023F81DD8790>)),\n",
       "                                             ('clf',\n",
       "                                              LGBMClassifier(random_state=202508))]),\n",
       "                   n_iter=2, n_jobs=-1,\n",
       "                   param_distributions={'clf__learning_rate': [0.01, 0.1],\n",
       "                                        'clf__max_depth': [5, 10, -1],\n",
       "                                        'clf__n_estimators': [100, 200]},\n",
       "                   random_state=202508, scoring='f1', verbose=1)"
      ]
     },
     "execution_count": 117,
     "metadata": {},
     "output_type": "execute_result"
    }
   ],
   "source": [
    "\n",
    "\n",
    "pipe_lgbm = Pipeline([\n",
    "    ('select', SelectKBest(score_func=mutual_info_classif, k=5)),\n",
    "    ('clf', LGBMClassifier(random_state=202508))\n",
    "])\n",
    "\n",
    "param_dist_lgbm = {\n",
    "    'clf__n_estimators': [100, 200],\n",
    "    'clf__max_depth': [5, 10, -1],\n",
    "    'clf__learning_rate': [0.01, 0.1]\n",
    "}\n",
    "\n",
    "random_search_lgbm = RandomizedSearchCV(\n",
    "    pipe_lgbm,\n",
    "    param_distributions=param_dist_lgbm,\n",
    "    n_iter=2,\n",
    "    scoring='f1',\n",
    "    cv=3,\n",
    "    random_state=202508,\n",
    "    verbose=1,\n",
    "    n_jobs=-1\n",
    ")\n",
    "\n",
    "random_search_lgbm.fit(X_train, y_train)\n"
   ]
  },
  {
   "cell_type": "markdown",
   "id": "bd458311",
   "metadata": {},
   "source": [
    "Ajuste del mejor modelo:"
   ]
  },
  {
   "cell_type": "code",
   "execution_count": 118,
   "id": "279a6363",
   "metadata": {},
   "outputs": [
    {
     "data": {
      "text/html": [
       "<style>#sk-container-id-15 {color: black;}#sk-container-id-15 pre{padding: 0;}#sk-container-id-15 div.sk-toggleable {background-color: white;}#sk-container-id-15 label.sk-toggleable__label {cursor: pointer;display: block;width: 100%;margin-bottom: 0;padding: 0.3em;box-sizing: border-box;text-align: center;}#sk-container-id-15 label.sk-toggleable__label-arrow:before {content: \"▸\";float: left;margin-right: 0.25em;color: #696969;}#sk-container-id-15 label.sk-toggleable__label-arrow:hover:before {color: black;}#sk-container-id-15 div.sk-estimator:hover label.sk-toggleable__label-arrow:before {color: black;}#sk-container-id-15 div.sk-toggleable__content {max-height: 0;max-width: 0;overflow: hidden;text-align: left;background-color: #f0f8ff;}#sk-container-id-15 div.sk-toggleable__content pre {margin: 0.2em;color: black;border-radius: 0.25em;background-color: #f0f8ff;}#sk-container-id-15 input.sk-toggleable__control:checked~div.sk-toggleable__content {max-height: 200px;max-width: 100%;overflow: auto;}#sk-container-id-15 input.sk-toggleable__control:checked~label.sk-toggleable__label-arrow:before {content: \"▾\";}#sk-container-id-15 div.sk-estimator input.sk-toggleable__control:checked~label.sk-toggleable__label {background-color: #d4ebff;}#sk-container-id-15 div.sk-label input.sk-toggleable__control:checked~label.sk-toggleable__label {background-color: #d4ebff;}#sk-container-id-15 input.sk-hidden--visually {border: 0;clip: rect(1px 1px 1px 1px);clip: rect(1px, 1px, 1px, 1px);height: 1px;margin: -1px;overflow: hidden;padding: 0;position: absolute;width: 1px;}#sk-container-id-15 div.sk-estimator {font-family: monospace;background-color: #f0f8ff;border: 1px dotted black;border-radius: 0.25em;box-sizing: border-box;margin-bottom: 0.5em;}#sk-container-id-15 div.sk-estimator:hover {background-color: #d4ebff;}#sk-container-id-15 div.sk-parallel-item::after {content: \"\";width: 100%;border-bottom: 1px solid gray;flex-grow: 1;}#sk-container-id-15 div.sk-label:hover label.sk-toggleable__label {background-color: #d4ebff;}#sk-container-id-15 div.sk-serial::before {content: \"\";position: absolute;border-left: 1px solid gray;box-sizing: border-box;top: 0;bottom: 0;left: 50%;z-index: 0;}#sk-container-id-15 div.sk-serial {display: flex;flex-direction: column;align-items: center;background-color: white;padding-right: 0.2em;padding-left: 0.2em;position: relative;}#sk-container-id-15 div.sk-item {position: relative;z-index: 1;}#sk-container-id-15 div.sk-parallel {display: flex;align-items: stretch;justify-content: center;background-color: white;position: relative;}#sk-container-id-15 div.sk-item::before, #sk-container-id-15 div.sk-parallel-item::before {content: \"\";position: absolute;border-left: 1px solid gray;box-sizing: border-box;top: 0;bottom: 0;left: 50%;z-index: -1;}#sk-container-id-15 div.sk-parallel-item {display: flex;flex-direction: column;z-index: 1;position: relative;background-color: white;}#sk-container-id-15 div.sk-parallel-item:first-child::after {align-self: flex-end;width: 50%;}#sk-container-id-15 div.sk-parallel-item:last-child::after {align-self: flex-start;width: 50%;}#sk-container-id-15 div.sk-parallel-item:only-child::after {width: 0;}#sk-container-id-15 div.sk-dashed-wrapped {border: 1px dashed gray;margin: 0 0.4em 0.5em 0.4em;box-sizing: border-box;padding-bottom: 0.4em;background-color: white;}#sk-container-id-15 div.sk-label label {font-family: monospace;font-weight: bold;display: inline-block;line-height: 1.2em;}#sk-container-id-15 div.sk-label-container {text-align: center;}#sk-container-id-15 div.sk-container {/* jupyter's `normalize.less` sets `[hidden] { display: none; }` but bootstrap.min.css set `[hidden] { display: none !important; }` so we also need the `!important` here to be able to override the default hidden behavior on the sphinx rendered scikit-learn.org. See: https://github.com/scikit-learn/scikit-learn/issues/21755 */display: inline-block !important;position: relative;}#sk-container-id-15 div.sk-text-repr-fallback {display: none;}</style><div id=\"sk-container-id-15\" class=\"sk-top-container\"><div class=\"sk-text-repr-fallback\"><pre>Pipeline(steps=[(&#x27;select&#x27;,\n",
       "                 SelectKBest(k=5,\n",
       "                             score_func=&lt;function mutual_info_classif at 0x0000023F81DD8790&gt;)),\n",
       "                (&#x27;clf&#x27;, LGBMClassifier(max_depth=5, random_state=202508))])</pre><b>In a Jupyter environment, please rerun this cell to show the HTML representation or trust the notebook. <br />On GitHub, the HTML representation is unable to render, please try loading this page with nbviewer.org.</b></div><div class=\"sk-container\" hidden><div class=\"sk-item sk-dashed-wrapped\"><div class=\"sk-label-container\"><div class=\"sk-label sk-toggleable\"><input class=\"sk-toggleable__control sk-hidden--visually\" id=\"sk-estimator-id-47\" type=\"checkbox\" ><label for=\"sk-estimator-id-47\" class=\"sk-toggleable__label sk-toggleable__label-arrow\">Pipeline</label><div class=\"sk-toggleable__content\"><pre>Pipeline(steps=[(&#x27;select&#x27;,\n",
       "                 SelectKBest(k=5,\n",
       "                             score_func=&lt;function mutual_info_classif at 0x0000023F81DD8790&gt;)),\n",
       "                (&#x27;clf&#x27;, LGBMClassifier(max_depth=5, random_state=202508))])</pre></div></div></div><div class=\"sk-serial\"><div class=\"sk-item\"><div class=\"sk-estimator sk-toggleable\"><input class=\"sk-toggleable__control sk-hidden--visually\" id=\"sk-estimator-id-48\" type=\"checkbox\" ><label for=\"sk-estimator-id-48\" class=\"sk-toggleable__label sk-toggleable__label-arrow\">SelectKBest</label><div class=\"sk-toggleable__content\"><pre>SelectKBest(k=5,\n",
       "            score_func=&lt;function mutual_info_classif at 0x0000023F81DD8790&gt;)</pre></div></div></div><div class=\"sk-item\"><div class=\"sk-estimator sk-toggleable\"><input class=\"sk-toggleable__control sk-hidden--visually\" id=\"sk-estimator-id-49\" type=\"checkbox\" ><label for=\"sk-estimator-id-49\" class=\"sk-toggleable__label sk-toggleable__label-arrow\">LGBMClassifier</label><div class=\"sk-toggleable__content\"><pre>LGBMClassifier(max_depth=5, random_state=202508)</pre></div></div></div></div></div></div></div>"
      ],
      "text/plain": [
       "Pipeline(steps=[('select',\n",
       "                 SelectKBest(k=5,\n",
       "                             score_func=<function mutual_info_classif at 0x0000023F81DD8790>)),\n",
       "                ('clf', LGBMClassifier(max_depth=5, random_state=202508))])"
      ]
     },
     "execution_count": 118,
     "metadata": {},
     "output_type": "execute_result"
    }
   ],
   "source": [
    "# Mejor modelo\n",
    "best_model = random_search_lgbm.best_estimator_\n",
    "y_pred = best_model.predict(X_test)\n",
    "y_proba = best_model.predict_proba(X_test)[:, 1]\n",
    "best_model"
   ]
  },
  {
   "cell_type": "markdown",
   "id": "40c4325d",
   "metadata": {},
   "source": [
    "Curva roc para el ajuste del modelo de entrenamiento:"
   ]
  },
  {
   "cell_type": "code",
   "execution_count": null,
   "id": "ddcb3d16",
   "metadata": {},
   "outputs": [
    {
     "data": {
      "image/png": "[encoded data removed]",
      "text/plain": [
       "<Figure size 800x600 with 1 Axes>"
      ]
     },
     "metadata": {},
     "output_type": "display_data"
    }
   ],
   "source": [
    "\n",
    "# Curva ROC\n",
    "fpr, tpr, _ = roc_curve(y_test, y_proba)\n",
    "plt.figure(figsize=(8,6))\n",
    "plt.plot(fpr, tpr, label=f'AUC = {roc_auc_score(y_test, y_proba):.3f}')\n",
    "plt.plot([0,1], [0,1], 'k--')\n",
    "plt.xlabel('FPR')\n",
    "plt.ylabel('TPR')\n",
    "plt.title('Curva ROC')\n",
    "plt.legend()\n",
    "plt.grid(True)\n",
    "plt.show()"
   ]
  },
  {
   "cell_type": "markdown",
   "id": "992b44b0",
   "metadata": {},
   "source": [
    "Matriz de confusión"
   ]
  },
  {
   "cell_type": "code",
   "execution_count": 120,
   "id": "4ef741a0",
   "metadata": {},
   "outputs": [
    {
     "data": {
      "image/png": "[encoded data removed]",
      "text/plain": [
       "<Figure size 600x500 with 2 Axes>"
      ]
     },
     "metadata": {},
     "output_type": "display_data"
    }
   ],
   "source": [
    "\n",
    "# Matriz de confusión bonita\n",
    "cm = confusion_matrix(y_test, y_pred)\n",
    "plt.figure(figsize=(6,5))\n",
    "sns.heatmap(cm, annot=True, fmt='d', cmap='Blues', xticklabels=['No Fraude', 'Fraude'], yticklabels=['No Fraude', 'Fraude'])\n",
    "plt.xlabel('Predicción')\n",
    "plt.ylabel('Real')\n",
    "plt.title('Matriz de Confusión')\n",
    "plt.show()"
   ]
  },
  {
   "cell_type": "code",
   "execution_count": 121,
   "id": "7967a240",
   "metadata": {},
   "outputs": [
    {
     "name": "stdout",
     "output_type": "stream",
     "text": [
      "Reporte de clasificación:\n"
     ]
    },
    {
     "data": {
      "text/html": [
       "<style type=\"text/css\">\n",
       "#T_62f1b_row0_col0, #T_62f1b_row0_col1, #T_62f1b_row0_col2, #T_62f1b_row0_col3, #T_62f1b_row2_col1, #T_62f1b_row3_col3, #T_62f1b_row4_col0, #T_62f1b_row4_col1, #T_62f1b_row4_col2, #T_62f1b_row4_col3 {\n",
       "  background-color: #08306b;\n",
       "  color: #f1f1f1;\n",
       "}\n",
       "#T_62f1b_row1_col0, #T_62f1b_row1_col1, #T_62f1b_row1_col2, #T_62f1b_row1_col3, #T_62f1b_row2_col3 {\n",
       "  background-color: #f7fbff;\n",
       "  color: #000000;\n",
       "}\n",
       "#T_62f1b_row2_col0 {\n",
       "  background-color: #083370;\n",
       "  color: #f1f1f1;\n",
       "}\n",
       "#T_62f1b_row2_col2 {\n",
       "  background-color: #08316d;\n",
       "  color: #f1f1f1;\n",
       "}\n",
       "#T_62f1b_row3_col0, #T_62f1b_row3_col2 {\n",
       "  background-color: #6aaed6;\n",
       "  color: #f1f1f1;\n",
       "}\n",
       "#T_62f1b_row3_col1 {\n",
       "  background-color: #6caed6;\n",
       "  color: #f1f1f1;\n",
       "}\n",
       "</style>\n",
       "<table id=\"T_62f1b\">\n",
       "  <thead>\n",
       "    <tr>\n",
       "      <th class=\"blank level0\" >&nbsp;</th>\n",
       "      <th id=\"T_62f1b_level0_col0\" class=\"col_heading level0 col0\" >precision</th>\n",
       "      <th id=\"T_62f1b_level0_col1\" class=\"col_heading level0 col1\" >recall</th>\n",
       "      <th id=\"T_62f1b_level0_col2\" class=\"col_heading level0 col2\" >f1-score</th>\n",
       "      <th id=\"T_62f1b_level0_col3\" class=\"col_heading level0 col3\" >support</th>\n",
       "    </tr>\n",
       "  </thead>\n",
       "  <tbody>\n",
       "    <tr>\n",
       "      <th id=\"T_62f1b_level0_row0\" class=\"row_heading level0 row0\" >0</th>\n",
       "      <td id=\"T_62f1b_row0_col0\" class=\"data row0 col0\" >1.000</td>\n",
       "      <td id=\"T_62f1b_row0_col1\" class=\"data row0 col1\" >0.988</td>\n",
       "      <td id=\"T_62f1b_row0_col2\" class=\"data row0 col2\" >0.994</td>\n",
       "      <td id=\"T_62f1b_row0_col3\" class=\"data row0 col3\" >56651.000</td>\n",
       "    </tr>\n",
       "    <tr>\n",
       "      <th id=\"T_62f1b_level0_row1\" class=\"row_heading level0 row1\" >1</th>\n",
       "      <td id=\"T_62f1b_row1_col0\" class=\"data row1 col0\" >0.106</td>\n",
       "      <td id=\"T_62f1b_row1_col1\" class=\"data row1 col1\" >0.842</td>\n",
       "      <td id=\"T_62f1b_row1_col2\" class=\"data row1 col2\" >0.188</td>\n",
       "      <td id=\"T_62f1b_row1_col3\" class=\"data row1 col3\" >95.000</td>\n",
       "    </tr>\n",
       "    <tr>\n",
       "      <th id=\"T_62f1b_level0_row2\" class=\"row_heading level0 row2\" >accuracy</th>\n",
       "      <td id=\"T_62f1b_row2_col0\" class=\"data row2 col0\" >0.988</td>\n",
       "      <td id=\"T_62f1b_row2_col1\" class=\"data row2 col1\" >0.988</td>\n",
       "      <td id=\"T_62f1b_row2_col2\" class=\"data row2 col2\" >0.988</td>\n",
       "      <td id=\"T_62f1b_row2_col3\" class=\"data row2 col3\" >0.988</td>\n",
       "    </tr>\n",
       "    <tr>\n",
       "      <th id=\"T_62f1b_level0_row3\" class=\"row_heading level0 row3\" >macro avg</th>\n",
       "      <td id=\"T_62f1b_row3_col0\" class=\"data row3 col0\" >0.553</td>\n",
       "      <td id=\"T_62f1b_row3_col1\" class=\"data row3 col1\" >0.915</td>\n",
       "      <td id=\"T_62f1b_row3_col2\" class=\"data row3 col2\" >0.591</td>\n",
       "      <td id=\"T_62f1b_row3_col3\" class=\"data row3 col3\" >56746.000</td>\n",
       "    </tr>\n",
       "    <tr>\n",
       "      <th id=\"T_62f1b_level0_row4\" class=\"row_heading level0 row4\" >weighted avg</th>\n",
       "      <td id=\"T_62f1b_row4_col0\" class=\"data row4 col0\" >0.998</td>\n",
       "      <td id=\"T_62f1b_row4_col1\" class=\"data row4 col1\" >0.988</td>\n",
       "      <td id=\"T_62f1b_row4_col2\" class=\"data row4 col2\" >0.992</td>\n",
       "      <td id=\"T_62f1b_row4_col3\" class=\"data row4 col3\" >56746.000</td>\n",
       "    </tr>\n",
       "  </tbody>\n",
       "</table>\n"
      ],
      "text/plain": [
       "<pandas.io.formats.style.Styler at 0x23f81eb8df0>"
      ]
     },
     "metadata": {},
     "output_type": "display_data"
    }
   ],
   "source": [
    "from IPython.display import display\n",
    "\n",
    "# Genera el reporte como diccionario\n",
    "report_dict = classification_report(y_test, y_pred, digits=3, output_dict=True)\n",
    "report_df = pd.DataFrame(report_dict).transpose()\n",
    "\n",
    "# Redondea y muestra como tabla bonita\n",
    "print(\"Reporte de clasificación:\")\n",
    "display(report_df.style.format(\"{:.3f}\").background_gradient(cmap='Blues'))\n"
   ]
  },
  {
   "cell_type": "markdown",
   "id": "5c991dc9",
   "metadata": {},
   "source": [
    "Dado que en este caso la señal de que el modelo funciona bien es el **f1-score** sobre la detección del fraude, se utilizara esta métrica para comparar cual modelo es mejor para detectarlo "
   ]
  },
  {
   "cell_type": "code",
   "execution_count": 122,
   "id": "073ec5e7",
   "metadata": {},
   "outputs": [
    {
     "data": {
      "text/html": [
       "<div>\n",
       "<style scoped>\n",
       "    .dataframe tbody tr th:only-of-type {\n",
       "        vertical-align: middle;\n",
       "    }\n",
       "\n",
       "    .dataframe tbody tr th {\n",
       "        vertical-align: top;\n",
       "    }\n",
       "\n",
       "    .dataframe thead th {\n",
       "        text-align: right;\n",
       "    }\n",
       "</style>\n",
       "<table border=\"1\" class=\"dataframe\">\n",
       "  <thead>\n",
       "    <tr style=\"text-align: right;\">\n",
       "      <th></th>\n",
       "      <th>Modelo</th>\n",
       "      <th>f1_score_fraudes</th>\n",
       "    </tr>\n",
       "  </thead>\n",
       "  <tbody>\n",
       "    <tr>\n",
       "      <th>0</th>\n",
       "      <td>regresion_logistica+PCA</td>\n",
       "      <td>0.17</td>\n",
       "    </tr>\n",
       "    <tr>\n",
       "      <th>1</th>\n",
       "      <td>regresion_random_forest+PCA</td>\n",
       "      <td>0.49</td>\n",
       "    </tr>\n",
       "    <tr>\n",
       "      <th>2</th>\n",
       "      <td>Decisicion_tree+PCA</td>\n",
       "      <td>0.14</td>\n",
       "    </tr>\n",
       "    <tr>\n",
       "      <th>3</th>\n",
       "      <td>hist_gradient_boosting+PCA</td>\n",
       "      <td>0.19</td>\n",
       "    </tr>\n",
       "    <tr>\n",
       "      <th>4</th>\n",
       "      <td>MLP_classifier+PCA</td>\n",
       "      <td>0.18</td>\n",
       "    </tr>\n",
       "    <tr>\n",
       "      <th>5</th>\n",
       "      <td>lgbm_classifier+PCA</td>\n",
       "      <td>0.19</td>\n",
       "    </tr>\n",
       "  </tbody>\n",
       "</table>\n",
       "</div>"
      ],
      "text/plain": [
       "                        Modelo  f1_score_fraudes\n",
       "0      regresion_logistica+PCA              0.17\n",
       "1  regresion_random_forest+PCA              0.49\n",
       "2          Decisicion_tree+PCA              0.14\n",
       "3   hist_gradient_boosting+PCA              0.19\n",
       "4           MLP_classifier+PCA              0.18\n",
       "5          lgbm_classifier+PCA              0.19"
      ]
     },
     "execution_count": 122,
     "metadata": {},
     "output_type": "execute_result"
    }
   ],
   "source": [
    "# Guarda el modelo entrenado en un DataFrame\n",
    "modelos.append('lgbm_classifier+PCA')\n",
    "f1_score_fraudes.append(np.round(report_df['f1-score']['1'],2))\n",
    "pd.DataFrame({\n",
    "    'Modelo': modelos,\n",
    "    'f1_score_fraudes': f1_score_fraudes\n",
    "})"
   ]
  },
  {
   "cell_type": "markdown",
   "id": "53277c23",
   "metadata": {},
   "source": [
    "### <span style = 'color: green'>**3.1.7**</span> Modelación basado ajuste PCA-Equilibrio-XGBOOST:"
   ]
  },
  {
   "cell_type": "markdown",
   "id": "cd916233",
   "metadata": {},
   "source": [
    "Dado que ya se encuentra normalizado el dataset y equilibrado para datos desbalanceados se pasara a correr modelos"
   ]
  },
  {
   "cell_type": "code",
   "execution_count": 126,
   "id": "f62fbb9f",
   "metadata": {},
   "outputs": [
    {
     "name": "stdout",
     "output_type": "stream",
     "text": [
      "Fitting 3 folds for each of 2 candidates, totalling 6 fits\n"
     ]
    },
    {
     "name": "stderr",
     "output_type": "stream",
     "text": [
      "c:\\Users\\user\\Documents\\aprendmaq_proy_final\\.venv\\lib\\site-packages\\xgboost\\core.py:158: UserWarning: [00:42:28] WARNING: C:\\buildkite-agent\\builds\\buildkite-windows-cpu-autoscaling-group-i-08cbc0333d8d4aae1-1\\xgboost\\xgboost-ci-windows\\src\\learner.cc:740: \n",
      "Parameters: { \"use_label_encoder\" } are not used.\n",
      "\n",
      "  warnings.warn(smsg, UserWarning)\n"
     ]
    },
    {
     "data": {
      "text/html": [
       "<style>#sk-container-id-16 {color: black;}#sk-container-id-16 pre{padding: 0;}#sk-container-id-16 div.sk-toggleable {background-color: white;}#sk-container-id-16 label.sk-toggleable__label {cursor: pointer;display: block;width: 100%;margin-bottom: 0;padding: 0.3em;box-sizing: border-box;text-align: center;}#sk-container-id-16 label.sk-toggleable__label-arrow:before {content: \"▸\";float: left;margin-right: 0.25em;color: #696969;}#sk-container-id-16 label.sk-toggleable__label-arrow:hover:before {color: black;}#sk-container-id-16 div.sk-estimator:hover label.sk-toggleable__label-arrow:before {color: black;}#sk-container-id-16 div.sk-toggleable__content {max-height: 0;max-width: 0;overflow: hidden;text-align: left;background-color: #f0f8ff;}#sk-container-id-16 div.sk-toggleable__content pre {margin: 0.2em;color: black;border-radius: 0.25em;background-color: #f0f8ff;}#sk-container-id-16 input.sk-toggleable__control:checked~div.sk-toggleable__content {max-height: 200px;max-width: 100%;overflow: auto;}#sk-container-id-16 input.sk-toggleable__control:checked~label.sk-toggleable__label-arrow:before {content: \"▾\";}#sk-container-id-16 div.sk-estimator input.sk-toggleable__control:checked~label.sk-toggleable__label {background-color: #d4ebff;}#sk-container-id-16 div.sk-label input.sk-toggleable__control:checked~label.sk-toggleable__label {background-color: #d4ebff;}#sk-container-id-16 input.sk-hidden--visually {border: 0;clip: rect(1px 1px 1px 1px);clip: rect(1px, 1px, 1px, 1px);height: 1px;margin: -1px;overflow: hidden;padding: 0;position: absolute;width: 1px;}#sk-container-id-16 div.sk-estimator {font-family: monospace;background-color: #f0f8ff;border: 1px dotted black;border-radius: 0.25em;box-sizing: border-box;margin-bottom: 0.5em;}#sk-container-id-16 div.sk-estimator:hover {background-color: #d4ebff;}#sk-container-id-16 div.sk-parallel-item::after {content: \"\";width: 100%;border-bottom: 1px solid gray;flex-grow: 1;}#sk-container-id-16 div.sk-label:hover label.sk-toggleable__label {background-color: #d4ebff;}#sk-container-id-16 div.sk-serial::before {content: \"\";position: absolute;border-left: 1px solid gray;box-sizing: border-box;top: 0;bottom: 0;left: 50%;z-index: 0;}#sk-container-id-16 div.sk-serial {display: flex;flex-direction: column;align-items: center;background-color: white;padding-right: 0.2em;padding-left: 0.2em;position: relative;}#sk-container-id-16 div.sk-item {position: relative;z-index: 1;}#sk-container-id-16 div.sk-parallel {display: flex;align-items: stretch;justify-content: center;background-color: white;position: relative;}#sk-container-id-16 div.sk-item::before, #sk-container-id-16 div.sk-parallel-item::before {content: \"\";position: absolute;border-left: 1px solid gray;box-sizing: border-box;top: 0;bottom: 0;left: 50%;z-index: -1;}#sk-container-id-16 div.sk-parallel-item {display: flex;flex-direction: column;z-index: 1;position: relative;background-color: white;}#sk-container-id-16 div.sk-parallel-item:first-child::after {align-self: flex-end;width: 50%;}#sk-container-id-16 div.sk-parallel-item:last-child::after {align-self: flex-start;width: 50%;}#sk-container-id-16 div.sk-parallel-item:only-child::after {width: 0;}#sk-container-id-16 div.sk-dashed-wrapped {border: 1px dashed gray;margin: 0 0.4em 0.5em 0.4em;box-sizing: border-box;padding-bottom: 0.4em;background-color: white;}#sk-container-id-16 div.sk-label label {font-family: monospace;font-weight: bold;display: inline-block;line-height: 1.2em;}#sk-container-id-16 div.sk-label-container {text-align: center;}#sk-container-id-16 div.sk-container {/* jupyter's `normalize.less` sets `[hidden] { display: none; }` but bootstrap.min.css set `[hidden] { display: none !important; }` so we also need the `!important` here to be able to override the default hidden behavior on the sphinx rendered scikit-learn.org. See: https://github.com/scikit-learn/scikit-learn/issues/21755 */display: inline-block !important;position: relative;}#sk-container-id-16 div.sk-text-repr-fallback {display: none;}</style><div id=\"sk-container-id-16\" class=\"sk-top-container\"><div class=\"sk-text-repr-fallback\"><pre>RandomizedSearchCV(cv=3,\n",
       "                   estimator=Pipeline(steps=[(&#x27;select&#x27;,\n",
       "                                              SelectKBest(k=5,\n",
       "                                                          score_func=&lt;function mutual_info_classif at 0x0000023F81DD8790&gt;)),\n",
       "                                             (&#x27;clf&#x27;,\n",
       "                                              XGBClassifier(base_score=None,\n",
       "                                                            booster=None,\n",
       "                                                            callbacks=None,\n",
       "                                                            colsample_bylevel=None,\n",
       "                                                            colsample_bynode=None,\n",
       "                                                            colsample_bytree=None,\n",
       "                                                            device=None,\n",
       "                                                            early_stopping_rounds=None,\n",
       "                                                            enable_categorical=False,\n",
       "                                                            eval_metric=&#x27;lo...\n",
       "                                                            max_depth=None,\n",
       "                                                            max_leaves=None,\n",
       "                                                            min_child_weight=None,\n",
       "                                                            missing=nan,\n",
       "                                                            monotone_constraints=None,\n",
       "                                                            multi_strategy=None,\n",
       "                                                            n_estimators=None,\n",
       "                                                            n_jobs=None,\n",
       "                                                            num_parallel_tree=None,\n",
       "                                                            random_state=202508, ...))]),\n",
       "                   n_iter=2, n_jobs=-1,\n",
       "                   param_distributions={&#x27;clf__learning_rate&#x27;: [0.01, 0.1],\n",
       "                                        &#x27;clf__max_depth&#x27;: [5, 10],\n",
       "                                        &#x27;clf__n_estimators&#x27;: [100, 200]},\n",
       "                   random_state=202508, scoring=&#x27;f1&#x27;, verbose=1)</pre><b>In a Jupyter environment, please rerun this cell to show the HTML representation or trust the notebook. <br />On GitHub, the HTML representation is unable to render, please try loading this page with nbviewer.org.</b></div><div class=\"sk-container\" hidden><div class=\"sk-item sk-dashed-wrapped\"><div class=\"sk-label-container\"><div class=\"sk-label sk-toggleable\"><input class=\"sk-toggleable__control sk-hidden--visually\" id=\"sk-estimator-id-50\" type=\"checkbox\" ><label for=\"sk-estimator-id-50\" class=\"sk-toggleable__label sk-toggleable__label-arrow\">RandomizedSearchCV</label><div class=\"sk-toggleable__content\"><pre>RandomizedSearchCV(cv=3,\n",
       "                   estimator=Pipeline(steps=[(&#x27;select&#x27;,\n",
       "                                              SelectKBest(k=5,\n",
       "                                                          score_func=&lt;function mutual_info_classif at 0x0000023F81DD8790&gt;)),\n",
       "                                             (&#x27;clf&#x27;,\n",
       "                                              XGBClassifier(base_score=None,\n",
       "                                                            booster=None,\n",
       "                                                            callbacks=None,\n",
       "                                                            colsample_bylevel=None,\n",
       "                                                            colsample_bynode=None,\n",
       "                                                            colsample_bytree=None,\n",
       "                                                            device=None,\n",
       "                                                            early_stopping_rounds=None,\n",
       "                                                            enable_categorical=False,\n",
       "                                                            eval_metric=&#x27;lo...\n",
       "                                                            max_depth=None,\n",
       "                                                            max_leaves=None,\n",
       "                                                            min_child_weight=None,\n",
       "                                                            missing=nan,\n",
       "                                                            monotone_constraints=None,\n",
       "                                                            multi_strategy=None,\n",
       "                                                            n_estimators=None,\n",
       "                                                            n_jobs=None,\n",
       "                                                            num_parallel_tree=None,\n",
       "                                                            random_state=202508, ...))]),\n",
       "                   n_iter=2, n_jobs=-1,\n",
       "                   param_distributions={&#x27;clf__learning_rate&#x27;: [0.01, 0.1],\n",
       "                                        &#x27;clf__max_depth&#x27;: [5, 10],\n",
       "                                        &#x27;clf__n_estimators&#x27;: [100, 200]},\n",
       "                   random_state=202508, scoring=&#x27;f1&#x27;, verbose=1)</pre></div></div></div><div class=\"sk-parallel\"><div class=\"sk-parallel-item\"><div class=\"sk-item\"><div class=\"sk-label-container\"><div class=\"sk-label sk-toggleable\"><input class=\"sk-toggleable__control sk-hidden--visually\" id=\"sk-estimator-id-51\" type=\"checkbox\" ><label for=\"sk-estimator-id-51\" class=\"sk-toggleable__label sk-toggleable__label-arrow\">estimator: Pipeline</label><div class=\"sk-toggleable__content\"><pre>Pipeline(steps=[(&#x27;select&#x27;,\n",
       "                 SelectKBest(k=5,\n",
       "                             score_func=&lt;function mutual_info_classif at 0x0000023F81DD8790&gt;)),\n",
       "                (&#x27;clf&#x27;,\n",
       "                 XGBClassifier(base_score=None, booster=None, callbacks=None,\n",
       "                               colsample_bylevel=None, colsample_bynode=None,\n",
       "                               colsample_bytree=None, device=None,\n",
       "                               early_stopping_rounds=None,\n",
       "                               enable_categorical=False, eval_metric=&#x27;logloss&#x27;,\n",
       "                               feature_types=None, gamma=No...olicy=None,\n",
       "                               importance_type=None,\n",
       "                               interaction_constraints=None, learning_rate=None,\n",
       "                               max_bin=None, max_cat_threshold=None,\n",
       "                               max_cat_to_onehot=None, max_delta_step=None,\n",
       "                               max_depth=None, max_leaves=None,\n",
       "                               min_child_weight=None, missing=nan,\n",
       "                               monotone_constraints=None, multi_strategy=None,\n",
       "                               n_estimators=None, n_jobs=None,\n",
       "                               num_parallel_tree=None, random_state=202508, ...))])</pre></div></div></div><div class=\"sk-serial\"><div class=\"sk-item\"><div class=\"sk-serial\"><div class=\"sk-item\"><div class=\"sk-estimator sk-toggleable\"><input class=\"sk-toggleable__control sk-hidden--visually\" id=\"sk-estimator-id-52\" type=\"checkbox\" ><label for=\"sk-estimator-id-52\" class=\"sk-toggleable__label sk-toggleable__label-arrow\">SelectKBest</label><div class=\"sk-toggleable__content\"><pre>SelectKBest(k=5,\n",
       "            score_func=&lt;function mutual_info_classif at 0x0000023F81DD8790&gt;)</pre></div></div></div><div class=\"sk-item\"><div class=\"sk-estimator sk-toggleable\"><input class=\"sk-toggleable__control sk-hidden--visually\" id=\"sk-estimator-id-53\" type=\"checkbox\" ><label for=\"sk-estimator-id-53\" class=\"sk-toggleable__label sk-toggleable__label-arrow\">XGBClassifier</label><div class=\"sk-toggleable__content\"><pre>XGBClassifier(base_score=None, booster=None, callbacks=None,\n",
       "              colsample_bylevel=None, colsample_bynode=None,\n",
       "              colsample_bytree=None, device=None, early_stopping_rounds=None,\n",
       "              enable_categorical=False, eval_metric=&#x27;logloss&#x27;,\n",
       "              feature_types=None, gamma=None, grow_policy=None,\n",
       "              importance_type=None, interaction_constraints=None,\n",
       "              learning_rate=None, max_bin=None, max_cat_threshold=None,\n",
       "              max_cat_to_onehot=None, max_delta_step=None, max_depth=None,\n",
       "              max_leaves=None, min_child_weight=None, missing=nan,\n",
       "              monotone_constraints=None, multi_strategy=None, n_estimators=None,\n",
       "              n_jobs=None, num_parallel_tree=None, random_state=202508, ...)</pre></div></div></div></div></div></div></div></div></div></div></div></div>"
      ],
      "text/plain": [
       "RandomizedSearchCV(cv=3,\n",
       "                   estimator=Pipeline(steps=[('select',\n",
       "                                              SelectKBest(k=5,\n",
       "                                                          score_func=<function mutual_info_classif at 0x0000023F81DD8790>)),\n",
       "                                             ('clf',\n",
       "                                              XGBClassifier(base_score=None,\n",
       "                                                            booster=None,\n",
       "                                                            callbacks=None,\n",
       "                                                            colsample_bylevel=None,\n",
       "                                                            colsample_bynode=None,\n",
       "                                                            colsample_bytree=None,\n",
       "                                                            device=None,\n",
       "                                                            early_stopping_rounds=None,\n",
       "                                                            enable_categorical=False,\n",
       "                                                            eval_metric='lo...\n",
       "                                                            max_depth=None,\n",
       "                                                            max_leaves=None,\n",
       "                                                            min_child_weight=None,\n",
       "                                                            missing=nan,\n",
       "                                                            monotone_constraints=None,\n",
       "                                                            multi_strategy=None,\n",
       "                                                            n_estimators=None,\n",
       "                                                            n_jobs=None,\n",
       "                                                            num_parallel_tree=None,\n",
       "                                                            random_state=202508, ...))]),\n",
       "                   n_iter=2, n_jobs=-1,\n",
       "                   param_distributions={'clf__learning_rate': [0.01, 0.1],\n",
       "                                        'clf__max_depth': [5, 10],\n",
       "                                        'clf__n_estimators': [100, 200]},\n",
       "                   random_state=202508, scoring='f1', verbose=1)"
      ]
     },
     "execution_count": 126,
     "metadata": {},
     "output_type": "execute_result"
    }
   ],
   "source": [
    "\n",
    "\n",
    "pipe_xgb = Pipeline([\n",
    "    ('select', SelectKBest(score_func=mutual_info_classif, k=5)),\n",
    "    ('clf', XGBClassifier(random_state=202508, use_label_encoder=False, eval_metric='logloss'))\n",
    "])\n",
    "\n",
    "param_dist_xgb = {\n",
    "    'clf__n_estimators': [100, 200],\n",
    "    'clf__max_depth': [5, 10],\n",
    "    'clf__learning_rate': [0.01, 0.1]\n",
    "}\n",
    "\n",
    "random_search_xgb = RandomizedSearchCV(\n",
    "    pipe_xgb,\n",
    "    param_distributions=param_dist_xgb,\n",
    "    n_iter=2,\n",
    "    scoring='f1',\n",
    "    cv=3,\n",
    "    random_state=202508,\n",
    "    verbose=1,\n",
    "    n_jobs=-1\n",
    ")\n",
    "\n",
    "random_search_xgb.fit(X_train, y_train)\n"
   ]
  },
  {
   "cell_type": "markdown",
   "id": "20a943f2",
   "metadata": {},
   "source": [
    "Ajuste del mejor modelo:"
   ]
  },
  {
   "cell_type": "code",
   "execution_count": 127,
   "id": "f87ae5dc",
   "metadata": {},
   "outputs": [
    {
     "data": {
      "text/html": [
       "<style>#sk-container-id-17 {color: black;}#sk-container-id-17 pre{padding: 0;}#sk-container-id-17 div.sk-toggleable {background-color: white;}#sk-container-id-17 label.sk-toggleable__label {cursor: pointer;display: block;width: 100%;margin-bottom: 0;padding: 0.3em;box-sizing: border-box;text-align: center;}#sk-container-id-17 label.sk-toggleable__label-arrow:before {content: \"▸\";float: left;margin-right: 0.25em;color: #696969;}#sk-container-id-17 label.sk-toggleable__label-arrow:hover:before {color: black;}#sk-container-id-17 div.sk-estimator:hover label.sk-toggleable__label-arrow:before {color: black;}#sk-container-id-17 div.sk-toggleable__content {max-height: 0;max-width: 0;overflow: hidden;text-align: left;background-color: #f0f8ff;}#sk-container-id-17 div.sk-toggleable__content pre {margin: 0.2em;color: black;border-radius: 0.25em;background-color: #f0f8ff;}#sk-container-id-17 input.sk-toggleable__control:checked~div.sk-toggleable__content {max-height: 200px;max-width: 100%;overflow: auto;}#sk-container-id-17 input.sk-toggleable__control:checked~label.sk-toggleable__label-arrow:before {content: \"▾\";}#sk-container-id-17 div.sk-estimator input.sk-toggleable__control:checked~label.sk-toggleable__label {background-color: #d4ebff;}#sk-container-id-17 div.sk-label input.sk-toggleable__control:checked~label.sk-toggleable__label {background-color: #d4ebff;}#sk-container-id-17 input.sk-hidden--visually {border: 0;clip: rect(1px 1px 1px 1px);clip: rect(1px, 1px, 1px, 1px);height: 1px;margin: -1px;overflow: hidden;padding: 0;position: absolute;width: 1px;}#sk-container-id-17 div.sk-estimator {font-family: monospace;background-color: #f0f8ff;border: 1px dotted black;border-radius: 0.25em;box-sizing: border-box;margin-bottom: 0.5em;}#sk-container-id-17 div.sk-estimator:hover {background-color: #d4ebff;}#sk-container-id-17 div.sk-parallel-item::after {content: \"\";width: 100%;border-bottom: 1px solid gray;flex-grow: 1;}#sk-container-id-17 div.sk-label:hover label.sk-toggleable__label {background-color: #d4ebff;}#sk-container-id-17 div.sk-serial::before {content: \"\";position: absolute;border-left: 1px solid gray;box-sizing: border-box;top: 0;bottom: 0;left: 50%;z-index: 0;}#sk-container-id-17 div.sk-serial {display: flex;flex-direction: column;align-items: center;background-color: white;padding-right: 0.2em;padding-left: 0.2em;position: relative;}#sk-container-id-17 div.sk-item {position: relative;z-index: 1;}#sk-container-id-17 div.sk-parallel {display: flex;align-items: stretch;justify-content: center;background-color: white;position: relative;}#sk-container-id-17 div.sk-item::before, #sk-container-id-17 div.sk-parallel-item::before {content: \"\";position: absolute;border-left: 1px solid gray;box-sizing: border-box;top: 0;bottom: 0;left: 50%;z-index: -1;}#sk-container-id-17 div.sk-parallel-item {display: flex;flex-direction: column;z-index: 1;position: relative;background-color: white;}#sk-container-id-17 div.sk-parallel-item:first-child::after {align-self: flex-end;width: 50%;}#sk-container-id-17 div.sk-parallel-item:last-child::after {align-self: flex-start;width: 50%;}#sk-container-id-17 div.sk-parallel-item:only-child::after {width: 0;}#sk-container-id-17 div.sk-dashed-wrapped {border: 1px dashed gray;margin: 0 0.4em 0.5em 0.4em;box-sizing: border-box;padding-bottom: 0.4em;background-color: white;}#sk-container-id-17 div.sk-label label {font-family: monospace;font-weight: bold;display: inline-block;line-height: 1.2em;}#sk-container-id-17 div.sk-label-container {text-align: center;}#sk-container-id-17 div.sk-container {/* jupyter's `normalize.less` sets `[hidden] { display: none; }` but bootstrap.min.css set `[hidden] { display: none !important; }` so we also need the `!important` here to be able to override the default hidden behavior on the sphinx rendered scikit-learn.org. See: https://github.com/scikit-learn/scikit-learn/issues/21755 */display: inline-block !important;position: relative;}#sk-container-id-17 div.sk-text-repr-fallback {display: none;}</style><div id=\"sk-container-id-17\" class=\"sk-top-container\"><div class=\"sk-text-repr-fallback\"><pre>Pipeline(steps=[(&#x27;select&#x27;,\n",
       "                 SelectKBest(k=5,\n",
       "                             score_func=&lt;function mutual_info_classif at 0x0000023F81DD8790&gt;)),\n",
       "                (&#x27;clf&#x27;,\n",
       "                 XGBClassifier(base_score=None, booster=None, callbacks=None,\n",
       "                               colsample_bylevel=None, colsample_bynode=None,\n",
       "                               colsample_bytree=None, device=None,\n",
       "                               early_stopping_rounds=None,\n",
       "                               enable_categorical=False, eval_metric=&#x27;logloss&#x27;,\n",
       "                               feature_types=None, gamma=No...row_policy=None,\n",
       "                               importance_type=None,\n",
       "                               interaction_constraints=None, learning_rate=0.1,\n",
       "                               max_bin=None, max_cat_threshold=None,\n",
       "                               max_cat_to_onehot=None, max_delta_step=None,\n",
       "                               max_depth=5, max_leaves=None,\n",
       "                               min_child_weight=None, missing=nan,\n",
       "                               monotone_constraints=None, multi_strategy=None,\n",
       "                               n_estimators=100, n_jobs=None,\n",
       "                               num_parallel_tree=None, random_state=202508, ...))])</pre><b>In a Jupyter environment, please rerun this cell to show the HTML representation or trust the notebook. <br />On GitHub, the HTML representation is unable to render, please try loading this page with nbviewer.org.</b></div><div class=\"sk-container\" hidden><div class=\"sk-item sk-dashed-wrapped\"><div class=\"sk-label-container\"><div class=\"sk-label sk-toggleable\"><input class=\"sk-toggleable__control sk-hidden--visually\" id=\"sk-estimator-id-54\" type=\"checkbox\" ><label for=\"sk-estimator-id-54\" class=\"sk-toggleable__label sk-toggleable__label-arrow\">Pipeline</label><div class=\"sk-toggleable__content\"><pre>Pipeline(steps=[(&#x27;select&#x27;,\n",
       "                 SelectKBest(k=5,\n",
       "                             score_func=&lt;function mutual_info_classif at 0x0000023F81DD8790&gt;)),\n",
       "                (&#x27;clf&#x27;,\n",
       "                 XGBClassifier(base_score=None, booster=None, callbacks=None,\n",
       "                               colsample_bylevel=None, colsample_bynode=None,\n",
       "                               colsample_bytree=None, device=None,\n",
       "                               early_stopping_rounds=None,\n",
       "                               enable_categorical=False, eval_metric=&#x27;logloss&#x27;,\n",
       "                               feature_types=None, gamma=No...row_policy=None,\n",
       "                               importance_type=None,\n",
       "                               interaction_constraints=None, learning_rate=0.1,\n",
       "                               max_bin=None, max_cat_threshold=None,\n",
       "                               max_cat_to_onehot=None, max_delta_step=None,\n",
       "                               max_depth=5, max_leaves=None,\n",
       "                               min_child_weight=None, missing=nan,\n",
       "                               monotone_constraints=None, multi_strategy=None,\n",
       "                               n_estimators=100, n_jobs=None,\n",
       "                               num_parallel_tree=None, random_state=202508, ...))])</pre></div></div></div><div class=\"sk-serial\"><div class=\"sk-item\"><div class=\"sk-estimator sk-toggleable\"><input class=\"sk-toggleable__control sk-hidden--visually\" id=\"sk-estimator-id-55\" type=\"checkbox\" ><label for=\"sk-estimator-id-55\" class=\"sk-toggleable__label sk-toggleable__label-arrow\">SelectKBest</label><div class=\"sk-toggleable__content\"><pre>SelectKBest(k=5,\n",
       "            score_func=&lt;function mutual_info_classif at 0x0000023F81DD8790&gt;)</pre></div></div></div><div class=\"sk-item\"><div class=\"sk-estimator sk-toggleable\"><input class=\"sk-toggleable__control sk-hidden--visually\" id=\"sk-estimator-id-56\" type=\"checkbox\" ><label for=\"sk-estimator-id-56\" class=\"sk-toggleable__label sk-toggleable__label-arrow\">XGBClassifier</label><div class=\"sk-toggleable__content\"><pre>XGBClassifier(base_score=None, booster=None, callbacks=None,\n",
       "              colsample_bylevel=None, colsample_bynode=None,\n",
       "              colsample_bytree=None, device=None, early_stopping_rounds=None,\n",
       "              enable_categorical=False, eval_metric=&#x27;logloss&#x27;,\n",
       "              feature_types=None, gamma=None, grow_policy=None,\n",
       "              importance_type=None, interaction_constraints=None,\n",
       "              learning_rate=0.1, max_bin=None, max_cat_threshold=None,\n",
       "              max_cat_to_onehot=None, max_delta_step=None, max_depth=5,\n",
       "              max_leaves=None, min_child_weight=None, missing=nan,\n",
       "              monotone_constraints=None, multi_strategy=None, n_estimators=100,\n",
       "              n_jobs=None, num_parallel_tree=None, random_state=202508, ...)</pre></div></div></div></div></div></div></div>"
      ],
      "text/plain": [
       "Pipeline(steps=[('select',\n",
       "                 SelectKBest(k=5,\n",
       "                             score_func=<function mutual_info_classif at 0x0000023F81DD8790>)),\n",
       "                ('clf',\n",
       "                 XGBClassifier(base_score=None, booster=None, callbacks=None,\n",
       "                               colsample_bylevel=None, colsample_bynode=None,\n",
       "                               colsample_bytree=None, device=None,\n",
       "                               early_stopping_rounds=None,\n",
       "                               enable_categorical=False, eval_metric='logloss',\n",
       "                               feature_types=None, gamma=No...row_policy=None,\n",
       "                               importance_type=None,\n",
       "                               interaction_constraints=None, learning_rate=0.1,\n",
       "                               max_bin=None, max_cat_threshold=None,\n",
       "                               max_cat_to_onehot=None, max_delta_step=None,\n",
       "                               max_depth=5, max_leaves=None,\n",
       "                               min_child_weight=None, missing=nan,\n",
       "                               monotone_constraints=None, multi_strategy=None,\n",
       "                               n_estimators=100, n_jobs=None,\n",
       "                               num_parallel_tree=None, random_state=202508, ...))])"
      ]
     },
     "execution_count": 127,
     "metadata": {},
     "output_type": "execute_result"
    }
   ],
   "source": [
    "# Mejor modelo\n",
    "best_model = random_search_xgb.best_estimator_\n",
    "y_pred = best_model.predict(X_test)\n",
    "y_proba = best_model.predict_proba(X_test)[:, 1]\n",
    "best_model"
   ]
  },
  {
   "cell_type": "markdown",
   "id": "d0c23ebb",
   "metadata": {},
   "source": [
    "Curva roc para el ajuste del modelo de entrenamiento:"
   ]
  },
  {
   "cell_type": "code",
   "execution_count": 131,
   "id": "4656659a",
   "metadata": {},
   "outputs": [
    {
     "data": {
      "image/png": "[encoded data removed]",
      "text/plain": [
       "<Figure size 800x600 with 1 Axes>"
      ]
     },
     "metadata": {},
     "output_type": "display_data"
    }
   ],
   "source": [
    "\n",
    "# Curva ROC\n",
    "fpr, tpr, _ = roc_curve(y_test, y_proba)\n",
    "plt.figure(figsize=(8,6))\n",
    "plt.plot(fpr, tpr, label=f'AUC = {roc_auc_score(y_test, y_proba):.3f}')\n",
    "plt.plot([0,1], [0,1], 'k--')\n",
    "plt.xlabel('FPR')\n",
    "plt.ylabel('TPR')\n",
    "plt.title('Curva ROC')\n",
    "plt.legend()\n",
    "plt.grid(True)\n",
    "plt.show()"
   ]
  },
  {
   "cell_type": "markdown",
   "id": "06a87626",
   "metadata": {},
   "source": [
    "Matriz de confusión"
   ]
  },
  {
   "cell_type": "code",
   "execution_count": 132,
   "id": "2442fc2f",
   "metadata": {},
   "outputs": [
    {
     "data": {
      "image/png": "[encoded data removed]",
      "text/plain": [
       "<Figure size 600x500 with 2 Axes>"
      ]
     },
     "metadata": {},
     "output_type": "display_data"
    }
   ],
   "source": [
    "\n",
    "# Matriz de confusión bonita\n",
    "cm = confusion_matrix(y_test, y_pred)\n",
    "plt.figure(figsize=(6,5))\n",
    "sns.heatmap(cm, annot=True, fmt='d', cmap='Blues', xticklabels=['No Fraude', 'Fraude'], yticklabels=['No Fraude', 'Fraude'])\n",
    "plt.xlabel('Predicción')\n",
    "plt.ylabel('Real')\n",
    "plt.title('Matriz de Confusión')\n",
    "plt.show()"
   ]
  },
  {
   "cell_type": "code",
   "execution_count": 133,
   "id": "0b04f515",
   "metadata": {},
   "outputs": [
    {
     "name": "stdout",
     "output_type": "stream",
     "text": [
      "Reporte de clasificación:\n"
     ]
    },
    {
     "data": {
      "text/html": [
       "<style type=\"text/css\">\n",
       "#T_60759_row0_col0, #T_60759_row0_col1, #T_60759_row0_col2, #T_60759_row0_col3, #T_60759_row2_col1, #T_60759_row3_col3, #T_60759_row4_col0, #T_60759_row4_col1, #T_60759_row4_col2, #T_60759_row4_col3 {\n",
       "  background-color: #08306b;\n",
       "  color: #f1f1f1;\n",
       "}\n",
       "#T_60759_row1_col0, #T_60759_row1_col1, #T_60759_row1_col2, #T_60759_row1_col3, #T_60759_row2_col3 {\n",
       "  background-color: #f7fbff;\n",
       "  color: #000000;\n",
       "}\n",
       "#T_60759_row2_col0 {\n",
       "  background-color: #083370;\n",
       "  color: #f1f1f1;\n",
       "}\n",
       "#T_60759_row2_col2 {\n",
       "  background-color: #08316d;\n",
       "  color: #f1f1f1;\n",
       "}\n",
       "#T_60759_row3_col0 {\n",
       "  background-color: #6caed6;\n",
       "  color: #f1f1f1;\n",
       "}\n",
       "#T_60759_row3_col1, #T_60759_row3_col2 {\n",
       "  background-color: #6aaed6;\n",
       "  color: #f1f1f1;\n",
       "}\n",
       "</style>\n",
       "<table id=\"T_60759\">\n",
       "  <thead>\n",
       "    <tr>\n",
       "      <th class=\"blank level0\" >&nbsp;</th>\n",
       "      <th id=\"T_60759_level0_col0\" class=\"col_heading level0 col0\" >precision</th>\n",
       "      <th id=\"T_60759_level0_col1\" class=\"col_heading level0 col1\" >recall</th>\n",
       "      <th id=\"T_60759_level0_col2\" class=\"col_heading level0 col2\" >f1-score</th>\n",
       "      <th id=\"T_60759_level0_col3\" class=\"col_heading level0 col3\" >support</th>\n",
       "    </tr>\n",
       "  </thead>\n",
       "  <tbody>\n",
       "    <tr>\n",
       "      <th id=\"T_60759_level0_row0\" class=\"row_heading level0 row0\" >0</th>\n",
       "      <td id=\"T_60759_row0_col0\" class=\"data row0 col0\" >1.000</td>\n",
       "      <td id=\"T_60759_row0_col1\" class=\"data row0 col1\" >0.988</td>\n",
       "      <td id=\"T_60759_row0_col2\" class=\"data row0 col2\" >0.994</td>\n",
       "      <td id=\"T_60759_row0_col3\" class=\"data row0 col3\" >56651.000</td>\n",
       "    </tr>\n",
       "    <tr>\n",
       "      <th id=\"T_60759_level0_row1\" class=\"row_heading level0 row1\" >1</th>\n",
       "      <td id=\"T_60759_row1_col0\" class=\"data row1 col0\" >0.105</td>\n",
       "      <td id=\"T_60759_row1_col1\" class=\"data row1 col1\" >0.842</td>\n",
       "      <td id=\"T_60759_row1_col2\" class=\"data row1 col2\" >0.186</td>\n",
       "      <td id=\"T_60759_row1_col3\" class=\"data row1 col3\" >95.000</td>\n",
       "    </tr>\n",
       "    <tr>\n",
       "      <th id=\"T_60759_level0_row2\" class=\"row_heading level0 row2\" >accuracy</th>\n",
       "      <td id=\"T_60759_row2_col0\" class=\"data row2 col0\" >0.988</td>\n",
       "      <td id=\"T_60759_row2_col1\" class=\"data row2 col1\" >0.988</td>\n",
       "      <td id=\"T_60759_row2_col2\" class=\"data row2 col2\" >0.988</td>\n",
       "      <td id=\"T_60759_row2_col3\" class=\"data row2 col3\" >0.988</td>\n",
       "    </tr>\n",
       "    <tr>\n",
       "      <th id=\"T_60759_level0_row3\" class=\"row_heading level0 row3\" >macro avg</th>\n",
       "      <td id=\"T_60759_row3_col0\" class=\"data row3 col0\" >0.552</td>\n",
       "      <td id=\"T_60759_row3_col1\" class=\"data row3 col1\" >0.915</td>\n",
       "      <td id=\"T_60759_row3_col2\" class=\"data row3 col2\" >0.590</td>\n",
       "      <td id=\"T_60759_row3_col3\" class=\"data row3 col3\" >56746.000</td>\n",
       "    </tr>\n",
       "    <tr>\n",
       "      <th id=\"T_60759_level0_row4\" class=\"row_heading level0 row4\" >weighted avg</th>\n",
       "      <td id=\"T_60759_row4_col0\" class=\"data row4 col0\" >0.998</td>\n",
       "      <td id=\"T_60759_row4_col1\" class=\"data row4 col1\" >0.988</td>\n",
       "      <td id=\"T_60759_row4_col2\" class=\"data row4 col2\" >0.992</td>\n",
       "      <td id=\"T_60759_row4_col3\" class=\"data row4 col3\" >56746.000</td>\n",
       "    </tr>\n",
       "  </tbody>\n",
       "</table>\n"
      ],
      "text/plain": [
       "<pandas.io.formats.style.Styler at 0x23ff1b78220>"
      ]
     },
     "metadata": {},
     "output_type": "display_data"
    }
   ],
   "source": [
    "from IPython.display import display\n",
    "\n",
    "# Genera el reporte como diccionario\n",
    "report_dict = classification_report(y_test, y_pred, digits=3, output_dict=True)\n",
    "report_df = pd.DataFrame(report_dict).transpose()\n",
    "\n",
    "# Redondea y muestra como tabla bonita\n",
    "print(\"Reporte de clasificación:\")\n",
    "display(report_df.style.format(\"{:.3f}\").background_gradient(cmap='Blues'))\n"
   ]
  },
  {
   "cell_type": "markdown",
   "id": "7abf7767",
   "metadata": {},
   "source": [
    "Dado que en este caso la señal de que el modelo funciona bien es el **f1-score** sobre la detección del fraude, se utilizara esta métrica para comparar cual modelo es mejor para detectarlo "
   ]
  },
  {
   "cell_type": "code",
   "execution_count": 135,
   "id": "40e11859",
   "metadata": {},
   "outputs": [
    {
     "data": {
      "text/html": [
       "<div>\n",
       "<style scoped>\n",
       "    .dataframe tbody tr th:only-of-type {\n",
       "        vertical-align: middle;\n",
       "    }\n",
       "\n",
       "    .dataframe tbody tr th {\n",
       "        vertical-align: top;\n",
       "    }\n",
       "\n",
       "    .dataframe thead th {\n",
       "        text-align: right;\n",
       "    }\n",
       "</style>\n",
       "<table border=\"1\" class=\"dataframe\">\n",
       "  <thead>\n",
       "    <tr style=\"text-align: right;\">\n",
       "      <th></th>\n",
       "      <th>Modelo</th>\n",
       "      <th>f1_score_fraudes</th>\n",
       "    </tr>\n",
       "  </thead>\n",
       "  <tbody>\n",
       "    <tr>\n",
       "      <th>0</th>\n",
       "      <td>regresion_random_forest+PCA</td>\n",
       "      <td>0.49</td>\n",
       "    </tr>\n",
       "    <tr>\n",
       "      <th>1</th>\n",
       "      <td>hist_gradient_boosting+PCA</td>\n",
       "      <td>0.19</td>\n",
       "    </tr>\n",
       "    <tr>\n",
       "      <th>2</th>\n",
       "      <td>lgbm_classifier+PCA</td>\n",
       "      <td>0.19</td>\n",
       "    </tr>\n",
       "    <tr>\n",
       "      <th>3</th>\n",
       "      <td>XGBM+PCA</td>\n",
       "      <td>0.19</td>\n",
       "    </tr>\n",
       "    <tr>\n",
       "      <th>4</th>\n",
       "      <td>XGBM+PCA</td>\n",
       "      <td>0.19</td>\n",
       "    </tr>\n",
       "    <tr>\n",
       "      <th>5</th>\n",
       "      <td>MLP_classifier+PCA</td>\n",
       "      <td>0.18</td>\n",
       "    </tr>\n",
       "    <tr>\n",
       "      <th>6</th>\n",
       "      <td>regresion_logistica+PCA</td>\n",
       "      <td>0.17</td>\n",
       "    </tr>\n",
       "    <tr>\n",
       "      <th>7</th>\n",
       "      <td>Decisicion_tree+PCA</td>\n",
       "      <td>0.14</td>\n",
       "    </tr>\n",
       "  </tbody>\n",
       "</table>\n",
       "</div>"
      ],
      "text/plain": [
       "                        Modelo  f1_score_fraudes\n",
       "0  regresion_random_forest+PCA              0.49\n",
       "1   hist_gradient_boosting+PCA              0.19\n",
       "2          lgbm_classifier+PCA              0.19\n",
       "3                     XGBM+PCA              0.19\n",
       "4                     XGBM+PCA              0.19\n",
       "5           MLP_classifier+PCA              0.18\n",
       "6      regresion_logistica+PCA              0.17\n",
       "7          Decisicion_tree+PCA              0.14"
      ]
     },
     "execution_count": 135,
     "metadata": {},
     "output_type": "execute_result"
    }
   ],
   "source": [
    "# Guarda el modelo entrenado en un DataFrame\n",
    "modelos.append('XGBM+PCA')\n",
    "f1_score_fraudes.append(np.round(report_df['f1-score']['1'],2))\n",
    "pd.DataFrame({\n",
    "    'Modelo': modelos,\n",
    "    'f1_score_fraudes': f1_score_fraudes\n",
    "}).sort_values('f1_score_fraudes', ascending=False).reset_index(drop=True)"
   ]
  },
  {
   "cell_type": "markdown",
   "id": "6a778573",
   "metadata": {},
   "source": [
    "### Conclusión:"
   ]
  },
  {
   "cell_type": "markdown",
   "id": "4d3985cb",
   "metadata": {},
   "source": [
    "Finalmente basado en los datos obtenidos concluimos que el mejor modelo basado en la información persistente y bajo las transformaciones obtenidas es randomforest con PCA"
   ]
  }
 ],
 "metadata": {
  "kernelspec": {
   "display_name": ".venv",
   "language": "python",
   "name": "python3"
  },
  "language_info": {
   "codemirror_mode": {
    "name": "ipython",
    "version": 3
   },
   "file_extension": ".py",
   "mimetype": "text/x-python",
   "name": "python",
   "nbconvert_exporter": "python",
   "pygments_lexer": "ipython3",
   "version": "3.9.12"
  }
 },
 "nbformat": 4,
 "nbformat_minor": 5
}
