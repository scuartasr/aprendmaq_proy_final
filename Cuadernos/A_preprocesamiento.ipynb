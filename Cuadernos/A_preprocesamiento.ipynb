{
 "cells": [
  {
   "cell_type": "markdown",
   "id": "870b4147",
   "metadata": {},
   "source": [
    "# <span style = 'color: red'>***A.*** **Preprocesamiento**.\n",
    "\n",
    "En este *notebook* se desarrolla el **preprocesamiento** de los datos, con la finalidad de obtener unos datos adecuados de cara al proceso de modelación. Así, se abordará la limpieza de datos, la transformación de los mismos, aplicación de reducción de dimensionalidad, balanceo de los datos y la construcción de conjuntos de entrenamiento y de prueba."
   ]
  },
  {
   "cell_type": "code",
   "execution_count": 1,
   "id": "4215786f",
   "metadata": {},
   "outputs": [],
   "source": [
    "#\n",
    "# Importanción de librerías de interés\n",
    "import pandas as pd\n",
    "import numpy as np\n",
    "import matplotlib.pyplot as plt\n",
    "import seaborn as sns\n",
    "import missingno as msno\n",
    "from janitor import clean_names\n",
    "import datetime as dt\n",
    "from sklearn.model_selection import train_test_split\n",
    "from sklearn.preprocessing import StandardScaler\n",
    "from sklearn.decomposition import PCA\n",
    "from imblearn.pipeline import Pipeline\n",
    "from imblearn.over_sampling import SMOTE\n",
    "from statsmodels.stats.outliers_influence import variance_inflation_factor\n",
    "from sklearn.feature_selection import VarianceThreshold"
   ]
  },
  {
   "cell_type": "markdown",
   "id": "7bd3e706",
   "metadata": {},
   "source": [
    "# <span style = 'color: red'>***1.***</span> Lectura de los datos\n",
    "\n",
    "Los datos se obtiene de Kaggle y están disponibles [aquí](https://www.kaggle.com/datasets/mlg-ulb/creditcardfraud/data). Es importante anotar que los dueños de la información reportan en la documentación de la misma (visible en el enlace anterior) que las características adjuntas son todas de corte numérico y ya pasaron por un preprocesamiento previo. Además, dada la sensibilidad, los dueños de la base establecen que no pueden revelar el significado de los diferentes campos, por lo que la mayoría de los datos están *anonimizados* de la forma $V_i, i = 1, \\dots, 28$. Se tienen otras dos cantidad que no fueron transformadas: el tiempo (`time`, que representa la cantidad de segundos transcurridos entre la primera transacción del marco de datos y la del registro propiamente) y el monto de la transacción (`amount`). Sin embargo, como parte de un control de calidad, se realizará un preprocesamiento adicional.\n",
    "\n",
    "Es clave anotar que la variable objetivo de esta base es `class` y que esta:\n",
    "- es `1` cuando la transacción corresponde a un fraude.\n",
    "- es `0` cuando la transacción *no* es fraudulenta."
   ]
  },
  {
   "cell_type": "code",
   "execution_count": null,
   "id": "dfb051dd",
   "metadata": {},
   "outputs": [
    {
     "ename": "",
     "evalue": "",
     "output_type": "error",
     "traceback": [
      "\u001b[1;31mnotebook controller is DISPOSED. \n",
      "\u001b[1;31mVea el [registro] de Jupyter (command:jupyter.viewOutput) para obtener más detalles."
     ]
    }
   ],
   "source": [
    "#\n",
    "# Lectura de datos\n",
    "direc = '../Datos/creditcard.csv.zip'\n",
    "datos = pd.read_csv(direc, compression='zip')\n",
    "\n",
    "# Limpieza de título\n",
    "datos = datos.clean_names()\n",
    "\n",
    "print(\n",
    "    f'El conjunto de datos tiene {datos.shape[0]} filas y {datos.shape[1]} columnas.'\n",
    ")"
   ]
  },
  {
   "cell_type": "code",
   "execution_count": null,
   "id": "0775c55c",
   "metadata": {},
   "outputs": [
    {
     "ename": "",
     "evalue": "",
     "output_type": "error",
     "traceback": [
      "\u001b[1;31mnotebook controller is DISPOSED. \n",
      "\u001b[1;31mVea el [registro] de Jupyter (command:jupyter.viewOutput) para obtener más detalles."
     ]
    }
   ],
   "source": [
    "#\n",
    "# Estructura de los datos\n",
    "datos.info()"
   ]
  },
  {
   "cell_type": "code",
   "execution_count": null,
   "id": "593f7d49",
   "metadata": {},
   "outputs": [
    {
     "ename": "",
     "evalue": "",
     "output_type": "error",
     "traceback": [
      "\u001b[1;31mnotebook controller is DISPOSED. \n",
      "\u001b[1;31mVea el [registro] de Jupyter (command:jupyter.viewOutput) para obtener más detalles."
     ]
    }
   ],
   "source": [
    "datos.head()"
   ]
  },
  {
   "cell_type": "markdown",
   "id": "c22958b3",
   "metadata": {},
   "source": [
    "De acuerdo con esta revisión inicial, y atendiendo la documentación de la base, la lectura de los datos es correcto y todas las características tienen la tipología de datos adecuada."
   ]
  },
  {
   "cell_type": "markdown",
   "id": "d6f3cfbf",
   "metadata": {},
   "source": [
    "# <span style = 'color: red'>***2.***</span> Limpieza de los datos\n",
    "\n",
    "## <span style = 'color: green'>**2.1.**</span> Duplicados y datos faltantes\n",
    "\n",
    "Se comenzará revisando si existen filas duplicadas."
   ]
  },
  {
   "cell_type": "code",
   "execution_count": null,
   "id": "3379dc37",
   "metadata": {},
   "outputs": [
    {
     "ename": "",
     "evalue": "",
     "output_type": "error",
     "traceback": [
      "\u001b[1;31mnotebook controller is DISPOSED. \n",
      "\u001b[1;31mVea el [registro] de Jupyter (command:jupyter.viewOutput) para obtener más detalles."
     ]
    }
   ],
   "source": [
    "#\n",
    "# Revisión de duplicados\n",
    "duplicados = datos.duplicated().sum()\n",
    "print(f'El conjunto de datos tiene {duplicados} filas duplicadas.')"
   ]
  },
  {
   "cell_type": "markdown",
   "id": "48d70ab1",
   "metadata": {},
   "source": [
    "Como se observa, para todas las características se tienen columnas de color gris continuo. Esto indica que la base carece de datos faltantes. De todos modos, se busca de manera manual si existen datos nulos, corroborando que no es el caso. Esto hace que no sea necesario imputar información y, por otra parte, el marco de datos será adecuado para cualquier tipo de modelo (entendiendo que algunos no aceptan valores faltantes)."
   ]
  },
  {
   "cell_type": "code",
   "execution_count": null,
   "id": "4f2cbaf8",
   "metadata": {},
   "outputs": [
    {
     "ename": "",
     "evalue": "",
     "output_type": "error",
     "traceback": [
      "\u001b[1;31mnotebook controller is DISPOSED. \n",
      "\u001b[1;31mVea el [registro] de Jupyter (command:jupyter.viewOutput) para obtener más detalles."
     ]
    }
   ],
   "source": [
    "#\n",
    "# Eliminación de duplicados\n",
    "if duplicados > 0:\n",
    "    datos = datos.drop_duplicates()\n",
    "    print(f'Se eliminaron {duplicados} filas duplicadas.')\n",
    "    print(f'El conjunto de datos ahora tiene {datos.shape[0]} filas y {datos.shape[1]} columnas.')\n",
    "else:\n",
    "    print('No se eliminaron filas duplicadas.')"
   ]
  },
  {
   "cell_type": "markdown",
   "id": "7d5bb55a",
   "metadata": {},
   "source": [
    "Ahora, se revisará la nulidad de información en esta base de datos:"
   ]
  },
  {
   "cell_type": "code",
   "execution_count": null,
   "id": "1501d385",
   "metadata": {},
   "outputs": [
    {
     "ename": "",
     "evalue": "",
     "output_type": "error",
     "traceback": [
      "\u001b[1;31mnotebook controller is DISPOSED. \n",
      "\u001b[1;31mVea el [registro] de Jupyter (command:jupyter.viewOutput) para obtener más detalles."
     ]
    }
   ],
   "source": [
    "#\n",
    "# Nulidad de información\n",
    "msno.matrix(datos)\n",
    "plt.title('Nulidad de información')\n",
    "plt.show()\n",
    "\n",
    "print(\n",
    "    f'El conjunto de datos tiene {datos.isnull().sum().sum()} valores nulos.'\n",
    ")"
   ]
  },
  {
   "cell_type": "markdown",
   "id": "8855837b",
   "metadata": {},
   "source": [
    "## <span style = 'color: green'>**2.2.**</span> Observaciones atípicas\n",
    "\n",
    "A continuación, se identificarán las observaciones atípicas, entendiéndolas como aquellas que están 1.5 veces el rango intercuartílico por encima del tercer cuartil ($Q3$) o por debajo del primer cuartil ($Q1$). Estos son los valores que típicamente quedan representados como puntos en gráficos de cajas y bigotes. Se realizará el análisis detallando si existe un sesgo especial hacia la clase que marca el fraude, lo que indica una relevancia especial de la característica."
   ]
  },
  {
   "cell_type": "code",
   "execution_count": null,
   "id": "9cb73d53",
   "metadata": {},
   "outputs": [
    {
     "ename": "",
     "evalue": "",
     "output_type": "error",
     "traceback": [
      "\u001b[1;31mnotebook controller is DISPOSED. \n",
      "\u001b[1;31mVea el [registro] de Jupyter (command:jupyter.viewOutput) para obtener más detalles."
     ]
    }
   ],
   "source": [
    "outlier_df = pd.DataFrame(index=datos.index)\n",
    "\n",
    "for col in datos.select_dtypes(include=['number']).columns:\n",
    "    q1 = datos[col].quantile(0.25)\n",
    "    q3 = datos[col].quantile(0.75)\n",
    "    iqr = q3 - q1\n",
    "    lower = q1 - 1.5 * iqr\n",
    "    upper = q3 + 1.5 * iqr\n",
    "    outlier_df[col + '_outlier'] = ((datos[col] < lower) | (datos[col] > upper))\n"
   ]
  },
  {
   "cell_type": "code",
   "execution_count": null,
   "id": "ca9323d7",
   "metadata": {},
   "outputs": [
    {
     "ename": "",
     "evalue": "",
     "output_type": "error",
     "traceback": [
      "\u001b[1;31mnotebook controller is DISPOSED. \n",
      "\u001b[1;31mVea el [registro] de Jupyter (command:jupyter.viewOutput) para obtener más detalles."
     ]
    }
   ],
   "source": [
    "for col in datos.select_dtypes(include=['number']).columns:\n",
    "    etiqueta_outlier = outlier_df[col + '_outlier']\n",
    "    tabla = pd.crosstab(etiqueta_outlier, datos['class'], normalize='columns')  # proporción sobre cada clase\n",
    "    print(f\"\\nDistribución de datos atípicos en {col}:\")\n",
    "    print(tabla)\n"
   ]
  },
  {
   "cell_type": "markdown",
   "id": "00d90d8c",
   "metadata": {},
   "source": [
    "En general, los datos atípicos son importantes para poder identificar que una transacción tiene una mayor probabilidad de fraude. Esto se puede constatar con el hecho de que para las diferentes variables del modelo, los datos atípicos suelen distribuirse de manera más pareja o incluso modera a fuertemente sesgada para aquellas instancias en las que se marca un ***fraude***, caso contrario de las observaciones no fraudulentas, que suelen tener una menor asociación con los datos atípicos. \n",
    "\n",
    "Un ejemplo muy visible de esto ocurre con la característica `v14`: para esta, en las instancias fraudulentas, el 86.8 \\% de ellas toman un valor atípico para esta variable, mientras que en las no fraudulentas solo el 4.8 \\% de las observaciones serán atípicas. Es importante anotar que, si bien este comportamiento no se repite para todas las características, sí se observa algo semejante en la mayoría de ellas; en cambio, para las instancias no atípicas hay una baja tasa de datos atípicos.\n",
    "\n",
    "Este análisis permite concluir que **no es adecuado eliminar, limpias o imputar las observaciones atípicas**."
   ]
  },
  {
   "cell_type": "markdown",
   "id": "5fab1236",
   "metadata": {},
   "source": [
    "## <span style = 'color: green'>**2.3.**</span> Análisis de multicolinealidad\n",
    "\n",
    "Ahora, se revisará si existen características fuertemente asociadas entre sí mediante un análisis de multicolinealidad:"
   ]
  },
  {
   "cell_type": "code",
   "execution_count": null,
   "id": "605a4323",
   "metadata": {},
   "outputs": [
    {
     "ename": "",
     "evalue": "",
     "output_type": "error",
     "traceback": [
      "\u001b[1;31mnotebook controller is DISPOSED. \n",
      "\u001b[1;31mVea el [registro] de Jupyter (command:jupyter.viewOutput) para obtener más detalles."
     ]
    }
   ],
   "source": [
    "#\n",
    "# Matriz de correlación\n",
    "\n",
    "plt.figure(figsize=(10, 8))\n",
    "corr_matrix = datos.select_dtypes(include='number').corr()\n",
    "\n",
    "plt.figure(figsize=(10,8))\n",
    "plt.title(\"Matriz de correlación\")\n",
    "plt.imshow(corr_matrix, cmap='coolwarm', interpolation='nearest')\n",
    "plt.colorbar()\n",
    "plt.xticks(range(len(corr_matrix)), corr_matrix.columns, rotation=90)\n",
    "plt.yticks(range(len(corr_matrix)), corr_matrix.columns)\n",
    "plt.tight_layout()\n",
    "plt.show()\n"
   ]
  },
  {
   "cell_type": "markdown",
   "id": "3695a829",
   "metadata": {},
   "source": [
    "En general, las variables presentan una correlación lineal débil o moderada-débil entre sí. Solo vale la pena destacar la correlación entre `amount` y `v7`, que es de un $0.4$ aproximadamente, y la de `v2` y `amount`, que es de un $-0.6$ aproximadamente. Con esto en mente, no merece la pena eliminar ninguna variable del marco de datos entiendo como que puede quedar representada por otra muy altamente correlacionada.\n",
    "\n",
    "Frente a la correlación con la variable objetivo, todas tienen correlaciones muy cercanas a cero. Las que más destacan son `v10`, `v14` y `v17`, con correlaciones de un $-0.1$ aproximadamente.\n",
    "\n",
    "El anterior análisis se puede complementar con el $VIF$: *factor de inflación de varianza*. Valores de $VIF > 5$ pueden ser preocupantes."
   ]
  },
  {
   "cell_type": "code",
   "execution_count": null,
   "id": "01c2ef11",
   "metadata": {},
   "outputs": [
    {
     "ename": "",
     "evalue": "",
     "output_type": "error",
     "traceback": [
      "\u001b[1;31mnotebook controller is DISPOSED. \n",
      "\u001b[1;31mVea el [registro] de Jupyter (command:jupyter.viewOutput) para obtener más detalles."
     ]
    }
   ],
   "source": [
    "#\n",
    "# VIF\n",
    "X_vif = datos.select_dtypes(include='number').drop(columns=['target'], errors='ignore')  # omite target si es numérica\n",
    "\n",
    "vif_data = pd.DataFrame()\n",
    "vif_data[\"feature\"] = X_vif.columns\n",
    "vif_data[\"VIF\"] = [variance_inflation_factor(X_vif.values, i) for i in range(X_vif.shape[1])]\n",
    "\n",
    "print(vif_data)\n"
   ]
  },
  {
   "cell_type": "markdown",
   "id": "aa26dee7",
   "metadata": {},
   "source": [
    "Como se observa, todas las variables tienen un $VIF < 3$, lo que las hace adecuadas para la modelación excepto por la columna del monto de la transacción con un $VIF_{\\texttt{amount}} = 11.6$. No obstante, basados en un **criterio experto de negocio** (en riesgo de crédito), esta variable suele tener una incidencia importante en el fraude, por lo que vale la pena conservarla.  "
   ]
  },
  {
   "cell_type": "markdown",
   "id": "a07e0bd9",
   "metadata": {},
   "source": [
    "## <span style = 'color: green'>**2.4.**</span> Estandarización\n",
    "\n",
    "Como proceso de control de calidad de la información, y para evitar sesgos en el modelo, se va a realizar una estandarización de los datos"
   ]
  }
 ],
 "metadata": {
  "kernelspec": {
   "display_name": ".venv",
   "language": "python",
   "name": "python3"
  },
  "language_info": {
   "codemirror_mode": {
    "name": "ipython",
    "version": 3
   },
   "file_extension": ".py",
   "mimetype": "text/x-python",
   "name": "python",
   "nbconvert_exporter": "python",
   "pygments_lexer": "ipython3",
   "version": "3.10.16"
  }
 },
 "nbformat": 4,
 "nbformat_minor": 5
}
